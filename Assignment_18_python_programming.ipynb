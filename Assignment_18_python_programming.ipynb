{
 "cells": [
  {
   "cell_type": "markdown",
   "id": "593c771d",
   "metadata": {},
   "source": [
    "#### 1. Create a zoo.py file first. Define the hours() function, which prints the string 'Open 9-5 daily'. Then, use the interactive interpreter to import the zoo module and call its hours() function."
   ]
  },
  {
   "cell_type": "code",
   "execution_count": 2,
   "id": "a04e485c",
   "metadata": {},
   "outputs": [],
   "source": [
    "## Code for Zoo.py file\n",
    "\n",
    "def hours():\n",
    "    print(\"Opens 9-5 daily\")\n",
    "    "
   ]
  },
  {
   "cell_type": "code",
   "execution_count": null,
   "id": "f1ae6647",
   "metadata": {},
   "outputs": [],
   "source": [
    "## Code for file that uses the above module:\n",
    "import zoo\n",
    "\n",
    "zoo.hours()"
   ]
  },
  {
   "cell_type": "markdown",
   "id": "b7b05e33",
   "metadata": {},
   "source": [
    "#### 2. In the interactive interpreter, import the zoo module as menagerie and call its hours() function."
   ]
  },
  {
   "cell_type": "code",
   "execution_count": null,
   "id": "f779c8bd",
   "metadata": {},
   "outputs": [],
   "source": [
    "## code for the above py file\n",
    "import zoo as menagerie\n",
    "\n",
    "menagerie.hours()\n",
    "\n"
   ]
  },
  {
   "cell_type": "markdown",
   "id": "4d381a03",
   "metadata": {},
   "source": [
    "#### 3. Using the interpreter, explicitly import and call the hours() function from zoo."
   ]
  },
  {
   "cell_type": "code",
   "execution_count": null,
   "id": "65315503",
   "metadata": {},
   "outputs": [],
   "source": [
    "import zoo\n",
    "\n",
    "zoo.hours()"
   ]
  },
  {
   "cell_type": "markdown",
   "id": "35e668d9",
   "metadata": {},
   "source": [
    "#### 4. Import the hours() function as info and call it."
   ]
  },
  {
   "cell_type": "code",
   "execution_count": null,
   "id": "d3462cb4",
   "metadata": {},
   "outputs": [],
   "source": [
    "from zoo import hours as info\n",
    "\n",
    "\n",
    "info()"
   ]
  },
  {
   "cell_type": "markdown",
   "id": "bf3a8cac",
   "metadata": {},
   "source": [
    "#### 5. Create a plain dictionary with the key-value pairs 'a': 1, 'b': 2, and 'c': 3, and print it out."
   ]
  },
  {
   "cell_type": "code",
   "execution_count": 100,
   "id": "7f7f1d37",
   "metadata": {},
   "outputs": [
    {
     "name": "stdout",
     "output_type": "stream",
     "text": [
      "a - 1\n",
      "b - 2\n",
      "c - 3\n"
     ]
    }
   ],
   "source": [
    "plain_dict={'a': 1, 'b': 2, 'c': 3}\n",
    "\n",
    "for k,v in plain_dict.items():\n",
    "    print(k,\"-\",v)"
   ]
  },
  {
   "cell_type": "markdown",
   "id": "05020201",
   "metadata": {},
   "source": [
    "#### 6.Make an OrderedDict called fancy from the same pairs listed in 5 and print it. Did it print in the same order as plain?"
   ]
  },
  {
   "cell_type": "code",
   "execution_count": 103,
   "id": "166e5cfa",
   "metadata": {},
   "outputs": [
    {
     "name": "stdout",
     "output_type": "stream",
     "text": [
      "a - 1\n",
      "b - 2\n",
      "c - 3\n"
     ]
    }
   ],
   "source": [
    "#yes it printed the same order\n",
    "from collections import OrderedDict\n",
    "\n",
    "fancy = OrderedDict([('a', 1),\n",
    "             ('b', 2),\n",
    "             ('c', 3)\n",
    "             \n",
    "           ])\n",
    "\n",
    "\n",
    "for k,v in fancy.items():\n",
    "    print(k,\"-\",v)"
   ]
  },
  {
   "cell_type": "markdown",
   "id": "9eafe524",
   "metadata": {},
   "source": [
    "#### 7. Make a default dictionary called dict_of_lists and pass it the argument list. Make the list dict_of_lists['a'] and append the value 'something for a' to it in one assignment. Print dict_of_lists['a']."
   ]
  },
  {
   "cell_type": "code",
   "execution_count": 109,
   "id": "cb784831",
   "metadata": {},
   "outputs": [
    {
     "name": "stdout",
     "output_type": "stream",
     "text": [
      "something\n"
     ]
    }
   ],
   "source": [
    "from collections import defaultdict\n",
    "\n",
    "\n",
    "def def_value():\n",
    "    return \"something\"\n",
    "\n",
    "\n",
    "dict_of_lists = defaultdict()\n",
    "\n",
    "dict_of_lists['a']=def_value()\n",
    "\n",
    "print(dict_of_lists['a'])\n"
   ]
  },
  {
   "cell_type": "code",
   "execution_count": null,
   "id": "d523ada1",
   "metadata": {},
   "outputs": [],
   "source": []
  }
 ],
 "metadata": {
  "kernelspec": {
   "display_name": "Python 3 (ipykernel)",
   "language": "python",
   "name": "python3"
  },
  "language_info": {
   "codemirror_mode": {
    "name": "ipython",
    "version": 3
   },
   "file_extension": ".py",
   "mimetype": "text/x-python",
   "name": "python",
   "nbconvert_exporter": "python",
   "pygments_lexer": "ipython3",
   "version": "3.9.7"
  }
 },
 "nbformat": 4,
 "nbformat_minor": 5
}
