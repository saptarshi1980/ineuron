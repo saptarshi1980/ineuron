{
 "cells": [
  {
   "cell_type": "code",
   "execution_count": 13,
   "id": "33772887",
   "metadata": {},
   "outputs": [
    {
     "name": "stdout",
     "output_type": "stream",
     "text": [
      "2\n",
      "3\n",
      "0\n"
     ]
    }
   ],
   "source": [
    "#Q.1\n",
    "def equal(a,b,c):\n",
    "    \"\"\"\n",
    "    takes three integer arguments (a, b, c) and returns the amount of\n",
    "    integers which are of equal value.\n",
    "    \"\"\"\n",
    "    \n",
    "    equal=0\n",
    "    if a==b and a==c:\n",
    "        equal=3\n",
    "    elif a==b or a==c:\n",
    "        equal=2\n",
    "    return equal\n",
    "\n",
    "print(equal(3,4,3))\n",
    "print(equal(1,1,1))\n",
    "print(equal(3,4,1))"
   ]
  },
  {
   "cell_type": "code",
   "execution_count": 20,
   "id": "3690bfdc",
   "metadata": {},
   "outputs": [
    {
     "name": "stdout",
     "output_type": "stream",
     "text": [
      "[('dislikes', 3), ('followers', 10), ('likes', 2)]\n"
     ]
    }
   ],
   "source": [
    "#Q.2\n",
    "\n",
    "dict_1={\"likes\":2,\n",
    "       \"dislikes\":3,\n",
    "       \"followers\":10\n",
    "       }\n",
    "\n",
    "def dict_to_list(dict_1):\n",
    "    \"\"\"\n",
    "    converts a dictionary into a list of keys-values tuples.\n",
    "    \"\"\"\n",
    "       \n",
    "    return list(sorted(dict_1.items()))\n",
    "        \n",
    "        \n",
    "print(dict_to_list(dict_1))\n",
    "        "
   ]
  },
  {
   "cell_type": "code",
   "execution_count": 21,
   "id": "6ca68cf2",
   "metadata": {},
   "outputs": [
    {
     "name": "stdout",
     "output_type": "stream",
     "text": [
      "{'a': 'A', 'b': 'B', 'c': 'C'}\n"
     ]
    }
   ],
   "source": [
    "# Q.3\n",
    "\n",
    "result_dict={}\n",
    "\n",
    "def mapping(list_1):\n",
    "    \"\"\"\n",
    "    creates a dictionary with each (key, value) pair being the (lower case,\n",
    "    upper case) versions of a letter, respectively.\n",
    "    \"\"\"\n",
    "    for c in list_1:\n",
    "        result_dict[c]=c.upper()\n",
    "    return result_dict\n",
    "\n",
    "\n",
    "print(mapping([\"a\",\"b\",\"c\"]))\n",
    "    "
   ]
  },
  {
   "cell_type": "code",
   "execution_count": 16,
   "id": "65fd9667",
   "metadata": {},
   "outputs": [
    {
     "name": "stdout",
     "output_type": "stream",
     "text": [
      "upples und bununu\n",
      "chooso cassorolo\n"
     ]
    }
   ],
   "source": [
    "#Q.4\n",
    "\n",
    "def vow_replace(text,vowel):\n",
    "    \"\"\"\n",
    "    replaces all vowels in a string with a specified vowel.\n",
    "    \"\"\"\n",
    "    vowels=[\"a\",\"e\",\"i\",\"o\",\"u\"]\n",
    "    result=\"\"\n",
    "    \n",
    "    for i in text:\n",
    "        if i.lower() in vowels:\n",
    "            result=text.replace(i,vowel)\n",
    "    return result\n",
    "\n",
    "print(vow_replace(\"apples and banana\",\"u\"))\n",
    "print(vow_replace(\"cheese casserole\",\"o\"))\n",
    "            "
   ]
  },
  {
   "cell_type": "code",
   "execution_count": 22,
   "id": "2c37c988",
   "metadata": {},
   "outputs": [
    {
     "name": "stdout",
     "output_type": "stream",
     "text": [
      "111\n",
      "101\n",
      "111\n",
      "111\n",
      "111\n",
      "101\n",
      "33\n",
      "to Be or not to Be!\n",
      "69\n",
      "73\n",
      "69\n",
      "77\n",
      "69\n",
      "77\n",
      "65\n",
      "73\n",
      "THE LITTLE MERMAID\n"
     ]
    }
   ],
   "source": [
    "def ascii_capitalize(text):\n",
    "    result=\"\"\n",
    "    \n",
    "    for i in text:\n",
    "        \n",
    "        \n",
    "        ascii_val=ord(i)\n",
    "        if (ascii_val%2)==0:\n",
    "            \n",
    "            result=text.replace(i,i.upper())\n",
    "            \n",
    "        if (ascii_val%2)!=0:\n",
    "            print(ascii_val)\n",
    "            result=result.replace(i,i.lower())    \n",
    "            \n",
    "    return result       \n",
    "      \n",
    "\n",
    "print(ascii_capitalize(\"to be or not to be!\"))    \n",
    "print(ascii_capitalize(\"THE LITTLE MERMAID\"))  \n",
    "            "
   ]
  },
  {
   "cell_type": "code",
   "execution_count": 23,
   "id": "4b426d3f",
   "metadata": {},
   "outputs": [
    {
     "name": "stdout",
     "output_type": "stream",
     "text": [
      "To Be oR NoT To Be!\n",
      "THe LiTTLe meRmaiD\n"
     ]
    }
   ],
   "source": [
    "def ascii_capitalize(s):\n",
    "    \"\"\"\n",
    "    function that takes a string as input and capitalizes a letter if its ASCII code is even\n",
    "    and returns its lower case version if its ASCII code is odd.\n",
    "    \n",
    "    \"\"\"\n",
    "    \n",
    "    modified_string = \"\"\n",
    "    \n",
    "    for i in range(0, len(s)):\n",
    "        ascii_val = ord(s[i])\n",
    "\n",
    "        if (ascii_val >= ord('a') and ascii_val <= ord('z') and ascii_val%2==0):\n",
    "            modified_string += chr(ascii_val - 32)\n",
    "        elif (ascii_val >= ord('A') and ascii_val <= ord('Z') and ascii_val%2!=0):\n",
    "            modified_string += chr(ascii_val + 32)    \n",
    "\n",
    "        else:\n",
    "            modified_string += s[i]\n",
    "\n",
    "    return modified_string\n",
    "    \n",
    "print(ascii_capitalize(\"to be or not to be!\"))\n",
    "print(ascii_capitalize(\"THE LITTLE MERMAID\"))\n"
   ]
  },
  {
   "cell_type": "code",
   "execution_count": null,
   "id": "cdff0ffc",
   "metadata": {},
   "outputs": [],
   "source": []
  }
 ],
 "metadata": {
  "kernelspec": {
   "display_name": "Python 3 (ipykernel)",
   "language": "python",
   "name": "python3"
  },
  "language_info": {
   "codemirror_mode": {
    "name": "ipython",
    "version": 3
   },
   "file_extension": ".py",
   "mimetype": "text/x-python",
   "name": "python",
   "nbconvert_exporter": "python",
   "pygments_lexer": "ipython3",
   "version": "3.9.7"
  }
 },
 "nbformat": 4,
 "nbformat_minor": 5
}
