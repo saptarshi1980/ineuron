{
 "cells": [
  {
   "cell_type": "code",
   "execution_count": 48,
   "id": "a52c66e4",
   "metadata": {},
   "outputs": [
    {
     "name": "stdout",
     "output_type": "stream",
     "text": [
      "[3, 6, 9]\n",
      "[8]\n",
      "[]\n"
     ]
    }
   ],
   "source": [
    "#Q.1\n",
    "\n",
    "def list_operation(x,y,n):\n",
    "    \n",
    "    \"\"\"\n",
    "    Takes start of the range (Inclusive)[x], end of the range (Inclusive)[y] and divisor [n]\n",
    "    Returns an ordered list with numbers in the range that are divisible by the third parameter n.\n",
    "    \n",
    "    \"\"\"\n",
    "     \n",
    "    return [i for i in range(x,y+1) if i%n==0]\n",
    "\n",
    "print(list_operation(1,10,3))\n",
    "print(list_operation(7,9,2))\n",
    "print(list_operation(15,20,7))\n",
    "        \n"
   ]
  },
  {
   "cell_type": "code",
   "execution_count": 49,
   "id": "1c5c18cf",
   "metadata": {},
   "outputs": [
    {
     "name": "stdout",
     "output_type": "stream",
     "text": [
      "True\n",
      "False\n"
     ]
    }
   ],
   "source": [
    "#Q.2\n",
    "\n",
    "\n",
    "def simon_says(list_1,list_2):\n",
    "    \n",
    "    \"\"\"\n",
    "    Create a function that takes in two lists and returns True if the second list follows the first list\n",
    "    by one element, and False otherwise. In other words, determine if the second list is the first\n",
    "    list shifted to the right by 1.\n",
    "\n",
    "    \"\"\"\n",
    "    if len(list_1)==len(list_2) and len(list_1)>=2:\n",
    "    \n",
    "        for i in range(0,len(list_1)-1):\n",
    "\n",
    "            if list_1[i] != list_2[i+1]:\n",
    "                return False\n",
    "\n",
    "        else:\n",
    "            return True\n",
    "\n",
    "    \n",
    "print(simon_says([1,2],[5,1]))\n",
    "print(simon_says([1,2,3,4,5],[5,5,1,2,3]))\n"
   ]
  },
  {
   "cell_type": "code",
   "execution_count": 50,
   "id": "a0e8c446",
   "metadata": {},
   "outputs": [
    {
     "name": "stdout",
     "output_type": "stream",
     "text": [
      "AMS\n",
      "CHLN\n"
     ]
    }
   ],
   "source": [
    "# Q.3\n",
    "\n",
    "def society_name(list_1):\n",
    "    list_1.sort()\n",
    "    result=\"\"\n",
    "    for c in list_1:\n",
    "        result=result+c[0]\n",
    "    \n",
    "    return result\n",
    "    \n",
    "    \n",
    "print(society_name([\"Adam\",\"Sarah\",\"Malcom\"]))\n",
    "print(society_name([\"Harry\",\"Newt\",\"Luna\",\"Cho\"]))\n"
   ]
  },
  {
   "cell_type": "code",
   "execution_count": 51,
   "id": "dbfc16f1",
   "metadata": {},
   "outputs": [
    {
     "name": "stdout",
     "output_type": "stream",
     "text": [
      "True\n"
     ]
    }
   ],
   "source": [
    "#Q.4\n",
    "\n",
    "def isogram(string):\n",
    "    if not string.isspace():\n",
    "        set1=set(string.lower())\n",
    "        if len(string)==len(set1):\n",
    "            return True\n",
    "        else:\n",
    "            return False\n",
    "    else:\n",
    "            pass\n",
    "        \n",
    "print(isogram(\"Conse \"))\n",
    "        "
   ]
  },
  {
   "cell_type": "code",
   "execution_count": 52,
   "id": "f0948abe",
   "metadata": {},
   "outputs": [
    {
     "name": "stdout",
     "output_type": "stream",
     "text": [
      "True\n",
      "False\n",
      "True\n",
      "True\n"
     ]
    }
   ],
   "source": [
    "#Q.5\n",
    "\n",
    "def is_in_order(string):\n",
    "    if string==\"\".join(sorted(string)):\n",
    "        return True\n",
    "    else:\n",
    "        return False\n",
    "    \n",
    "print(is_in_order(\"abc\"))       \n",
    "print(is_in_order(\"edabit\"))\n",
    "print(is_in_order(\"123\"))\n",
    "print(is_in_order(\"xyzz\"))\n"
   ]
  },
  {
   "cell_type": "code",
   "execution_count": null,
   "id": "ffe5dfd4",
   "metadata": {},
   "outputs": [],
   "source": []
  }
 ],
 "metadata": {
  "kernelspec": {
   "display_name": "Python 3 (ipykernel)",
   "language": "python",
   "name": "python3"
  },
  "language_info": {
   "codemirror_mode": {
    "name": "ipython",
    "version": 3
   },
   "file_extension": ".py",
   "mimetype": "text/x-python",
   "name": "python",
   "nbconvert_exporter": "python",
   "pygments_lexer": "ipython3",
   "version": "3.9.7"
  }
 },
 "nbformat": 4,
 "nbformat_minor": 5
}
