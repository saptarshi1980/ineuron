{
 "cells": [
  {
   "cell_type": "markdown",
   "id": "cc388754",
   "metadata": {},
   "source": [
    "# <center>Name: Saptarshi Sanyal\n",
    "# <center> Email: saptarshi.edp@gmail.com\n",
    "# <center>Programming Assignment_5"
   ]
  },
  {
   "cell_type": "markdown",
   "id": "b48bdad8",
   "metadata": {},
   "source": [
    "### 1. Write a Python Program to Find LCM?"
   ]
  },
  {
   "cell_type": "code",
   "execution_count": 8,
   "id": "09e06ed8",
   "metadata": {},
   "outputs": [
    {
     "name": "stdout",
     "output_type": "stream",
     "text": [
      "Enter the first number:25\n",
      "Enter the second number:30\n",
      "LCM is - 150\n"
     ]
    }
   ],
   "source": [
    "def lcm(a,b):\n",
    "    if(a>b):\n",
    "        lcm_min=a\n",
    "    else:\n",
    "        lcm_min=b\n",
    "    while(True):\n",
    "        if(lcm_min%a==0 and lcm_min%b==0):\n",
    "            #print(\"LCM is:\",lcm_min)\n",
    "            return lcm_min\n",
    "            break\n",
    "        lcm_min=lcm_min+1\n",
    "\n",
    "a=int(input(\"Enter the first number:\"))\n",
    "b=int(input(\"Enter the second number:\"))\n",
    "\n",
    "print(f\"LCM is - {lcm(a,b)}\")\n",
    "\n"
   ]
  },
  {
   "cell_type": "markdown",
   "id": "a8579df5",
   "metadata": {},
   "source": [
    "### 2. Write a Python Program to Find HCF?"
   ]
  },
  {
   "cell_type": "code",
   "execution_count": 13,
   "id": "552e56f0",
   "metadata": {},
   "outputs": [
    {
     "name": "stdout",
     "output_type": "stream",
     "text": [
      "Enter first number: 8\n",
      "Enter second number: 12\n",
      "The H.C.F. of 8 and 12 is 4\n"
     ]
    }
   ],
   "source": [
    "def hcf(x, y):  \n",
    "    \n",
    "    if x > y:  \n",
    "        smaller = y  \n",
    "    else:  \n",
    "        smaller = x  \n",
    "    for i in range(1,smaller + 1):  \n",
    "        if((x % i == 0) and (y % i == 0)):  \n",
    "            hcf = i  \n",
    "    return hcf  \n",
    "  \n",
    "num1 = int(input(\"Enter first number: \"))  \n",
    "num2 = int(input(\"Enter second number: \"))  \n",
    "\n",
    "print(f\"The H.C.F. of {num1} and {num2} is {hcf(num1, num2)}\") "
   ]
  },
  {
   "cell_type": "markdown",
   "id": "d28d825a",
   "metadata": {},
   "source": [
    "### 3.Write a Python Program to Convert Decimal to Binary, Octal and Hexadecimal?"
   ]
  },
  {
   "cell_type": "code",
   "execution_count": 50,
   "id": "970681a7",
   "metadata": {},
   "outputs": [
    {
     "name": "stdout",
     "output_type": "stream",
     "text": [
      "Enter a decimal number \n",
      "12\n",
      "Binary of 12 is: 1100\n"
     ]
    }
   ],
   "source": [
    "# Decimal to Binary\n",
    "\n",
    "decimal = int(input(\"Enter a decimal number \\n\"))\n",
    "binary = 0\n",
    "ctr = 0\n",
    "temp = decimal  \n",
    "\n",
    "\n",
    "while(temp > 0):\n",
    "    binary = ((temp%2)*(10**ctr)) + binary\n",
    "    temp = int(temp/2)\n",
    "    ctr += 1\n",
    "\n",
    "     \n",
    "print(f\"Binary of {decimal} is: {binary}\")"
   ]
  },
  {
   "cell_type": "code",
   "execution_count": 51,
   "id": "370dc3d3",
   "metadata": {},
   "outputs": [
    {
     "name": "stdout",
     "output_type": "stream",
     "text": [
      "Enter a decimal number: 36\n",
      "Octal value: 44"
     ]
    }
   ],
   "source": [
    "# Decimal to Octal\n",
    "def decimal_to_octal(num):\n",
    "    if(num > 0):\n",
    "        decimal_to_octal((int)(num/8))\n",
    "        print(num%8, end='')\n",
    "\n",
    "\n",
    "num = int(input('Enter a decimal number: '))\n",
    "\n",
    "\n",
    "print('Octal value: ', end='')\n",
    "decimal_to_octal(num)"
   ]
  },
  {
   "cell_type": "code",
   "execution_count": 52,
   "id": "8465765a",
   "metadata": {},
   "outputs": [
    {
     "name": "stdout",
     "output_type": "stream",
     "text": [
      "Enter a decimal number: 12\n",
      "Hexa Decimal Value: "
     ]
    },
    {
     "data": {
      "text/plain": [
       "'C'"
      ]
     },
     "execution_count": 52,
     "metadata": {},
     "output_type": "execute_result"
    }
   ],
   "source": [
    "#Decimal to Hexa-Decimal\n",
    "def toHex(dec):\n",
    "    digits = \"0123456789ABCDEF\"\n",
    "    x = (dec % 16)\n",
    "    rest = dec // 16\n",
    "    if (rest == 0):\n",
    "        return digits[x]\n",
    "    return toHex(rest) + digits[x]\n",
    "\n",
    "num = int(input('Enter a decimal number: '))\n",
    "\n",
    "\n",
    "print('Hexa Decimal Value: ', end='')\n",
    "toHex(num)"
   ]
  },
  {
   "cell_type": "markdown",
   "id": "3041a877",
   "metadata": {},
   "source": [
    "### 4.Write a Python Program To Find ASCII value of a character?"
   ]
  },
  {
   "cell_type": "code",
   "execution_count": 53,
   "id": "376f3d95",
   "metadata": {},
   "outputs": [
    {
     "name": "stdout",
     "output_type": "stream",
     "text": [
      "Please enter a character: J\n",
      "The ASCII value of 'J' is  74\n"
     ]
    }
   ],
   "source": [
    "char = input(\"Please enter a character: \")    \n",
    "    \n",
    "print (\"The ASCII value of '\" + char + \"' is \", ord(char))  "
   ]
  },
  {
   "cell_type": "markdown",
   "id": "0fcea027",
   "metadata": {},
   "source": [
    "### 5. Write a Python Program to Make a Simple Calculator with 4 basic mathematical operations?"
   ]
  },
  {
   "cell_type": "code",
   "execution_count": 55,
   "id": "8a2aec5b",
   "metadata": {},
   "outputs": [
    {
     "name": "stdout",
     "output_type": "stream",
     "text": [
      "Enter the first number: 10\n",
      "Enter the second number: 12\n",
      "Enter any of these operator for operation +, -, *, /  \n",
      "*\n",
      "10 * 12 :  120\n"
     ]
    }
   ],
   "source": [
    "num1=int(input(\"Enter the first number: \"))\n",
    "num2=int(input(\"Enter the second number: \"))\n",
    "ch=input(\"Enter any of these operator for operation +, -, *, /  \\n\")\n",
    "result=0\n",
    "if ch=='+':\n",
    "    result=num1+num2;\n",
    "elif ch=='-':\n",
    "    result=num1-num2;\n",
    "elif ch=='*':\n",
    "    result=num1*num2;\n",
    "elif ch=='/':\n",
    "    result=num1/num2;\n",
    "else:\n",
    "   print(\"char is not supported\");\n",
    "print(num1,ch,num2,\": \",result)"
   ]
  },
  {
   "cell_type": "code",
   "execution_count": null,
   "id": "60124e7d",
   "metadata": {},
   "outputs": [],
   "source": []
  }
 ],
 "metadata": {
  "kernelspec": {
   "display_name": "Python 3 (ipykernel)",
   "language": "python",
   "name": "python3"
  },
  "language_info": {
   "codemirror_mode": {
    "name": "ipython",
    "version": 3
   },
   "file_extension": ".py",
   "mimetype": "text/x-python",
   "name": "python",
   "nbconvert_exporter": "python",
   "pygments_lexer": "ipython3",
   "version": "3.9.7"
  }
 },
 "nbformat": 4,
 "nbformat_minor": 5
}
