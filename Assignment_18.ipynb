{
 "cells": [
  {
   "cell_type": "code",
   "execution_count": 6,
   "id": "6dffdb59",
   "metadata": {},
   "outputs": [
    {
     "name": "stdout",
     "output_type": "stream",
     "text": [
      "[12, 14, 'oil', 16, 'moon']\n",
      "[12, 14, 16]\n"
     ]
    }
   ],
   "source": [
    "#Q. 1\n",
    "def filter_list(list1):\n",
    "    print (list1)\n",
    "    int_item=[]\n",
    "    for item in list1:\n",
    "        \n",
    "        try:\n",
    "            int_item.append(int(item))\n",
    "        except ValueError as v:\n",
    "            pass\n",
    "    return int_item   \n",
    "\n",
    "list1=[12,14,\"oil\",16,\"moon\"]    \n",
    "print(filter_list(list1))\n",
    "    "
   ]
  },
  {
   "cell_type": "code",
   "execution_count": 20,
   "id": "0c07684d",
   "metadata": {},
   "outputs": [
    {
     "name": "stdout",
     "output_type": "stream",
     "text": [
      "eSREVEr\n"
     ]
    }
   ],
   "source": [
    "# Q. 2\n",
    "def reverse(ip_string):\n",
    "    str_len=len(ip_string)-1\n",
    "    result_str=\"\"\n",
    "    while(str_len>=0):\n",
    "        result_str=result_str+ip_string[str_len].swapcase()\n",
    "        str_len-=1\n",
    "    return result_str    \n",
    "\n",
    "print(reverse(\"ReversE\"))\n",
    "        \n",
    "        "
   ]
  },
  {
   "cell_type": "code",
   "execution_count": 22,
   "id": "1a83f5d0",
   "metadata": {},
   "outputs": [
    {
     "name": "stdout",
     "output_type": "stream",
     "text": [
      "1\n",
      "[2, 3, 4, 5]\n",
      "6\n"
     ]
    }
   ],
   "source": [
    "# Q.3 Destructuring assignment\n",
    "list_1=[1,2,3,4,5,6]\n",
    "first,*middle,last =list_1 \n",
    "print(first)\n",
    "print(middle)\n",
    "print(last)\n"
   ]
  },
  {
   "cell_type": "code",
   "execution_count": 23,
   "id": "6ed42875",
   "metadata": {},
   "outputs": [
    {
     "name": "stdout",
     "output_type": "stream",
     "text": [
      "120\n"
     ]
    }
   ],
   "source": [
    "# Q 4.\n",
    "\n",
    "def fact(n):\n",
    "    if n==0 or n==1:\n",
    "        return 1\n",
    "    else: \n",
    "        return n*fact(n-1)\n",
    "\n",
    "print(fact(5))\n",
    "         "
   ]
  },
  {
   "cell_type": "code",
   "execution_count": 25,
   "id": "9968b740",
   "metadata": {},
   "outputs": [
    {
     "name": "stdout",
     "output_type": "stream",
     "text": [
      "['b', 'd', 'a', 'a']\n"
     ]
    }
   ],
   "source": [
    "# Q.5\n",
    "\n",
    "def move_to_end(list_1,char):\n",
    "    \n",
    "    try:\n",
    "        ele_count = list_1.count(char)\n",
    "        temp=list_1.remove(char)\n",
    "        for i in range(1,ele_count):\n",
    "            list_1.append(char)\n",
    "        \n",
    "    except ValueError as v:\n",
    "        pass\n",
    "        \n",
    "    return list_1\n",
    "\n",
    "print(move_to_end([\"a\",\"b\",\"d\",\"a\"],\"a\"))\n",
    "        "
   ]
  },
  {
   "cell_type": "code",
   "execution_count": null,
   "id": "55fd2295",
   "metadata": {},
   "outputs": [],
   "source": []
  },
  {
   "cell_type": "code",
   "execution_count": null,
   "id": "74912e4c",
   "metadata": {},
   "outputs": [],
   "source": []
  },
  {
   "cell_type": "code",
   "execution_count": null,
   "id": "a5ca1cb8",
   "metadata": {},
   "outputs": [],
   "source": []
  },
  {
   "cell_type": "code",
   "execution_count": null,
   "id": "d6e07526",
   "metadata": {},
   "outputs": [],
   "source": []
  }
 ],
 "metadata": {
  "kernelspec": {
   "display_name": "Python 3 (ipykernel)",
   "language": "python",
   "name": "python3"
  },
  "language_info": {
   "codemirror_mode": {
    "name": "ipython",
    "version": 3
   },
   "file_extension": ".py",
   "mimetype": "text/x-python",
   "name": "python",
   "nbconvert_exporter": "python",
   "pygments_lexer": "ipython3",
   "version": "3.9.7"
  }
 },
 "nbformat": 4,
 "nbformat_minor": 5
}
