{
 "cells": [
  {
   "cell_type": "markdown",
   "id": "4478546f",
   "metadata": {},
   "source": [
    "#### 1. Add the current date to the text file today.txt as a string."
   ]
  },
  {
   "cell_type": "code",
   "execution_count": 5,
   "id": "d35fe5e6",
   "metadata": {},
   "outputs": [],
   "source": [
    "from datetime import date\n",
    "\n",
    "curr_date = date.today().strftime(\"%d-%m-%Y\")\n",
    "\n",
    "with open(\"today.txt\",\"w\") as text_file:\n",
    "    text_file.write(curr_date)"
   ]
  },
  {
   "cell_type": "markdown",
   "id": "62565068",
   "metadata": {},
   "source": [
    "#### 2. Read the text file today.txt into the string today_string"
   ]
  },
  {
   "cell_type": "code",
   "execution_count": 14,
   "id": "a5141cbc",
   "metadata": {},
   "outputs": [
    {
     "name": "stdout",
     "output_type": "stream",
     "text": [
      "30-05-2022\n"
     ]
    }
   ],
   "source": [
    "today_string=\"\"\n",
    "with open(\"today.txt\",\"r\") as text_file:\n",
    "    today_string = text_file.read()\n",
    "print(today_string)    "
   ]
  },
  {
   "cell_type": "markdown",
   "id": "fd4cb482",
   "metadata": {},
   "source": [
    "#### 3. Parse the date from today_string."
   ]
  },
  {
   "cell_type": "code",
   "execution_count": 17,
   "id": "93af8c26",
   "metadata": {},
   "outputs": [
    {
     "name": "stdout",
     "output_type": "stream",
     "text": [
      "The type of the date is now <class 'datetime.datetime'>\n",
      "The date was <class 'str'>\n"
     ]
    }
   ],
   "source": [
    "from datetime import datetime\n",
    "\n",
    "\n",
    "parsed_date = datetime.strptime(today_string, '%d-%m-%Y')\n",
    "\n",
    "\n",
    "print (\"The type of the date is now\",  type(parsed_date))\n",
    "print (\"The date was\", type(today_string))"
   ]
  },
  {
   "cell_type": "markdown",
   "id": "ab495fe1",
   "metadata": {},
   "source": [
    "#### 4. List the files in your current directory"
   ]
  },
  {
   "cell_type": "code",
   "execution_count": 18,
   "id": "7c4fa41b",
   "metadata": {},
   "outputs": [
    {
     "name": "stdout",
     "output_type": "stream",
     "text": [
      "[' Programming Assignment_14.ipynb', ' Programming Assignment_16.ipynb', '.angular-config.json', '.bash_history', '.cache', '.conda', '.eclipse', '.gitconfig', '.ipynb_checkpoints', '.ipython', '.ireport', '.jupyter', '.keras', '.m2', '.matplotlib', '.nbi', '.netbeans', '.p2', '.python_history', '.vscode', '13122021.ipynb', '3D Objects', 'anaconda3', 'AppData', 'Application Data', 'Assignment-16.ipynb', 'assignment-17-partly_complete.ipynb', 'Assignment_17_python_programming.ipynb', 'Assignment_18.ipynb', 'Assignment_18_python_programming.ipynb', 'Assignment_19_python_programming.ipynb', 'Assignment_20_python_programming.ipynb', 'Assignment_21.ipynb', 'BankChurners.csv', 'banking_sample_operation.ipynb', 'books.csv', 'books.db', 'chapter-1-exercise.ipynb', 'chapter-2.ipynb', 'Contacts', 'Cookies', 'Desktop', 'Documents', 'Downloads', 'eclipse-workspace', 'export.xlsx', 'Favorites', 'fifa data analysis.ipynb', 'fifa_data.csv', 'fly_ash_analysis_FY20-21.ipynb', 'fly_ash_data.csv', 'gas_prices.csv', 'gas_price_analysis_matplotlib.ipynb', 'heart attack analysis.ipynb', 'heart.csv', 'IntelGraphicsProfiles', 'IRIS_ANALYSIS.ipynb', 'kaggel_Titatic_7842.ipynb', 'kaggle_Titanic_submission_29042022.ipynb', 'lambda-map-filter.ipynb', 'Local Settings', 'Machine Learning- Sepal-Petal based Prediction.ipynb', 'matplotlib', 'MicrosoftEdgeBackups', 'Music', 'My Documents', 'NetHood', 'NTUSER.DAT', 'ntuser.dat.LOG1', 'ntuser.dat.LOG2', 'NTUSER.DAT{a7346e4d-7ffe-11ec-80a7-f66d1b9feb55}.TM.blf', 'NTUSER.DAT{a7346e4d-7ffe-11ec-80a7-f66d1b9feb55}.TMContainer00000000000000000001.regtrans-ms', 'NTUSER.DAT{a7346e4d-7ffe-11ec-80a7-f66d1b9feb55}.TMContainer00000000000000000002.regtrans-ms', 'ntuser.ini', 'OneDrive', 'Oracle', 'oracle.ipynb', 'pandas practice.ipynb', 'pandas-exercise.ipynb', 'pandas-groupby.ipynb', 'pandas_exercise.ipynb', 'pandas_pokemon_analysis.ipynb', 'pandas_practice.ipynb', 'pandas_practice_1.ipynb', 'Pictures', 'ploy.csv', 'Pokemon.csv', 'PradiptaPal_Assignment.ipynb', 'prediction.csv', 'prediction.xlsx', 'preds.csv', 'prices.csv', 'PrintHood', 'Programming Assignment_10.ipynb', 'Programming Assignment_11.ipynb', 'Programming Assignment_12.ipynb', 'Programming Assignment_15.ipynb', 'Programming Assignment_4.ipynb', 'Programming Assignment_5.ipynb', 'Programming Assignment_6.ipynb', 'Programming Assignment_7.ipynb', 'Programming Assignment_8.ipynb', 'Programming Assignment_9.ipynb', 'programming_assignment_22.ipynb', 'programming_assignment_24.ipynb', 'programming_assignment_25.ipynb', 'PycharmProjects', 'pyhton_assignment_15.ipynb', 'pyhton_class_challenge_15-05-2022.ipynb', 'python decorator.ipynb', 'PYTHON SCHEDULER.ipynb', 'Python.ipynb', 'Recent', 'sanjoy_polynomial_regression.ipynb', 'Saved Games', 'scikit-learn boston housing.ipynb', 'ScStore', 'Searches', 'SendTo', 'Start Menu', 'statistics function.ipynb', 'student class.ipynb', 'sympy.ipynb', 't.csv', 'temp.csv', 'Templates', 'test.csv', 'test.txt', 'titanic-02052022.ipynb', 'today.txt', 'train.csv', 'Untitled.ipynb', 'Untitled1.ipynb', 'Untitled10.ipynb', 'Untitled11.ipynb', 'Untitled12.ipynb', 'Untitled13.ipynb', 'Untitled14.ipynb', 'Untitled15.ipynb', 'Untitled16.ipynb', 'Untitled17.ipynb', 'Untitled18.ipynb', 'Untitled19.ipynb', 'Untitled2.ipynb', 'Untitled3.ipynb', 'Untitled4.ipynb', 'Untitled5.ipynb', 'Untitled6.ipynb', 'Untitled7.ipynb', 'Untitled8.ipynb', 'Untitled9.ipynb', 'Videos', 'vscode', 'WEB_SCRAPPING2.ipynb', 'workspace']\n"
     ]
    }
   ],
   "source": [
    "import os\n",
    "\n",
    "print(os.listdir())"
   ]
  },
  {
   "cell_type": "markdown",
   "id": "17219fb9",
   "metadata": {},
   "source": [
    "#### 5. Create a list of all of the files in your parent directory (minimum five files should be available)."
   ]
  },
  {
   "cell_type": "code",
   "execution_count": 25,
   "id": "d5f36287",
   "metadata": {},
   "outputs": [
    {
     "name": "stdout",
     "output_type": "stream",
     "text": [
      "['All Users', 'Default', 'Default User', 'desktop.ini', 'Public', 'Saptarshi']\n"
     ]
    }
   ],
   "source": [
    "import os\n",
    "\n",
    "list_of_file = os.listdir(\"../\")\n",
    "print(list_of_file)"
   ]
  },
  {
   "cell_type": "markdown",
   "id": "0e842ac3",
   "metadata": {},
   "source": [
    "#### 6. Use multiprocessing to create three separate processes. Make each one wait a random number of seconds between one and five, print the current time, and then exit."
   ]
  },
  {
   "cell_type": "code",
   "execution_count": 37,
   "id": "baa9d1f2",
   "metadata": {},
   "outputs": [
    {
     "name": "stdout",
     "output_type": "stream",
     "text": [
      "Three process have been created\n"
     ]
    }
   ],
   "source": [
    "from random import randint\n",
    "from time import sleep\n",
    "import multiprocessing\n",
    "from multiprocessing import Process\n",
    "\n",
    "\n",
    "def func1():\n",
    "      sleep(randint(10,100))\n",
    "        \n",
    "def func2(n):\n",
    "    \n",
    "       sleep(randint(10,100))\n",
    "def func3(n):\n",
    "    \n",
    "       sleep(randint(10,100))\n",
    "\n",
    "p1=Process(target=func1)\n",
    "p2=Process(target=func2)\n",
    "p3=Process(target=func3)\n",
    "p1.start()\n",
    "p2.start()\n",
    "p3.start()\n",
    "p1.join()\n",
    "p2.join()\n",
    "p3.join()\n",
    "\n",
    "print(\"Three process have been created\")"
   ]
  },
  {
   "cell_type": "markdown",
   "id": "e8c0a453",
   "metadata": {},
   "source": [
    "#### 7. Create a date object of your day of birth."
   ]
  },
  {
   "cell_type": "code",
   "execution_count": 31,
   "id": "8a8c18ce",
   "metadata": {},
   "outputs": [
    {
     "name": "stdout",
     "output_type": "stream",
     "text": [
      "The type of the date is now <class 'datetime.datetime'>\n",
      "The date is 1980-03-30 00:00:00\n"
     ]
    }
   ],
   "source": [
    "from datetime import datetime\n",
    "dob=\"30-03-1980\"\n",
    "\n",
    "parsed_date_dob = datetime.strptime(dob, '%d-%m-%Y')\n",
    "\n",
    "\n",
    "print (\"The type of the date is now\",  type(parsed_date_dob))\n",
    "print (\"The date is\", parsed_date_dob)"
   ]
  },
  {
   "cell_type": "markdown",
   "id": "0dea1d80",
   "metadata": {},
   "source": [
    "### 8. What day of the week was your day of birth?"
   ]
  },
  {
   "cell_type": "code",
   "execution_count": 32,
   "id": "28088cde",
   "metadata": {},
   "outputs": [
    {
     "name": "stdout",
     "output_type": "stream",
     "text": [
      "6\n"
     ]
    }
   ],
   "source": [
    "week_of_day = parsed_date.weekday()\n",
    "print(week_of_day)"
   ]
  },
  {
   "cell_type": "markdown",
   "id": "b12e95a4",
   "metadata": {},
   "source": [
    "#### 9. When will you be (or when were you) 10,000 days old?"
   ]
  },
  {
   "cell_type": "code",
   "execution_count": 34,
   "id": "862abe38",
   "metadata": {},
   "outputs": [
    {
     "name": "stdout",
     "output_type": "stream",
     "text": [
      "2007-08-16 00:00:00\n"
     ]
    }
   ],
   "source": [
    "from datetime import timedelta  \n",
    "print(parsed_date_dob + timedelta(days=10000)) \n"
   ]
  },
  {
   "cell_type": "code",
   "execution_count": null,
   "id": "66b2e23f",
   "metadata": {},
   "outputs": [],
   "source": []
  }
 ],
 "metadata": {
  "kernelspec": {
   "display_name": "Python 3 (ipykernel)",
   "language": "python",
   "name": "python3"
  },
  "language_info": {
   "codemirror_mode": {
    "name": "ipython",
    "version": 3
   },
   "file_extension": ".py",
   "mimetype": "text/x-python",
   "name": "python",
   "nbconvert_exporter": "python",
   "pygments_lexer": "ipython3",
   "version": "3.9.7"
  }
 },
 "nbformat": 4,
 "nbformat_minor": 5
}
