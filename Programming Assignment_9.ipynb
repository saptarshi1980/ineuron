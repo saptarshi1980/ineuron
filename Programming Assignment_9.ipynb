{
 "cells": [
  {
   "cell_type": "markdown",
   "id": "f039ba73",
   "metadata": {},
   "source": [
    "# <center>Name: Saptarshi Sanyal\n",
    "# <center> Email: saptarshi.edp@gmail.com\n",
    "# <center>Programming Assignment_9\n",
    "   "
   ]
  },
  {
   "cell_type": "markdown",
   "id": "b6aa3f02",
   "metadata": {},
   "source": [
    "### 1. Write a Python program to check if the given number is a Disarium Number?"
   ]
  },
  {
   "cell_type": "code",
   "execution_count": 5,
   "id": "a1bc6e30",
   "metadata": {},
   "outputs": [
    {
     "name": "stdout",
     "output_type": "stream",
     "text": [
      "Enter a number for Disarium:-135\n",
      "135 is Disarium number.\n"
     ]
    }
   ],
   "source": [
    "# A number is called Disarium if sum of its digits powered with their respective positions is equal to the number itself.\n",
    "\n",
    "def check_disarium(n):\n",
    "    \n",
    "    digit_sum = 0\n",
    "    digit_position = 1\n",
    "    for i in str(n):\n",
    "        digit_sum+=int(i)**digit_position\n",
    "        digit_position+=1\n",
    "    \n",
    "    if digit_sum == n:\n",
    "        return True\n",
    "    else:\n",
    "        return False\n",
    "\n",
    "ip = int(input(\"Enter a number for Disarium:-\"))\n",
    "\n",
    "if check_disarium(ip):\n",
    "    print(f\"{ip} is Disarium number.\")\n",
    "else:\n",
    "    print(f\"{ip} is not Disarium number.\")      \n"
   ]
  },
  {
   "cell_type": "markdown",
   "id": "f68e00cc",
   "metadata": {},
   "source": [
    "### 2. Write a Python program to print all disarium numbers between 1 to 100?"
   ]
  },
  {
   "cell_type": "code",
   "execution_count": 6,
   "id": "c35e33d1",
   "metadata": {},
   "outputs": [
    {
     "name": "stdout",
     "output_type": "stream",
     "text": [
      "1\n",
      "2\n",
      "3\n",
      "4\n",
      "5\n",
      "6\n",
      "7\n",
      "8\n",
      "9\n",
      "89\n"
     ]
    }
   ],
   "source": [
    "def check_disarium(n):\n",
    "    \n",
    "    digit_sum = 0\n",
    "    digit_position = 1\n",
    "    for i in str(n):\n",
    "        digit_sum+=int(i)**digit_position\n",
    "        digit_position+=1\n",
    "    \n",
    "    if digit_sum == n:\n",
    "        return True\n",
    "    else:\n",
    "        return False\n",
    "\n",
    "\n",
    "for i in range(1,101):\n",
    "    if check_disarium(i):\n",
    "        print(i)"
   ]
  },
  {
   "cell_type": "markdown",
   "id": "80d13805",
   "metadata": {},
   "source": [
    "### 3.Write a Python program to check if the given number is Happy Number?"
   ]
  },
  {
   "cell_type": "code",
   "execution_count": 19,
   "id": "7801e973",
   "metadata": {},
   "outputs": [
    {
     "name": "stdout",
     "output_type": "stream",
     "text": [
      "Enter the number to check for happy number:-33\n",
      "33  is not a Happy Number\n"
     ]
    }
   ],
   "source": [
    "def check_happy_number(n):\n",
    "    digit_remainder=0\n",
    "    digit_sum=0\n",
    "    \n",
    "    while n > 0:\n",
    "        digit_remainder = n%10\n",
    "        digit_sum +=digit_remainder**2\n",
    "        n = n//10\n",
    "        \n",
    "     \n",
    "    return digit_sum   \n",
    "\n",
    "digit= int(input('Enter the number to check for happy number:-'))\n",
    "\n",
    "result = digit\n",
    "\n",
    "while result!=1 and result != 4:\n",
    "    result = check_happy_number(result)\n",
    "\n",
    "if result == 1:\n",
    "    print(digit,\" is a Happy Number\")\n",
    "elif result == 4:\n",
    "    print(digit,\" is not a Happy Number\")\n",
    "            "
   ]
  },
  {
   "cell_type": "markdown",
   "id": "69a20790",
   "metadata": {},
   "source": [
    "### 4. Write a Python program to print all happy numbers between 1 and 100?"
   ]
  },
  {
   "cell_type": "code",
   "execution_count": 16,
   "id": "16e36a5d",
   "metadata": {},
   "outputs": [
    {
     "name": "stdout",
     "output_type": "stream",
     "text": [
      "1  is a Happy Number\n",
      "7  is a Happy Number\n",
      "10  is a Happy Number\n",
      "13  is a Happy Number\n",
      "19  is a Happy Number\n",
      "23  is a Happy Number\n",
      "28  is a Happy Number\n",
      "31  is a Happy Number\n",
      "32  is a Happy Number\n",
      "44  is a Happy Number\n",
      "49  is a Happy Number\n",
      "68  is a Happy Number\n",
      "70  is a Happy Number\n",
      "79  is a Happy Number\n",
      "82  is a Happy Number\n",
      "86  is a Happy Number\n",
      "91  is a Happy Number\n",
      "94  is a Happy Number\n",
      "97  is a Happy Number\n",
      "100  is a Happy Number\n"
     ]
    }
   ],
   "source": [
    "def check_happy_number(n):\n",
    "    digit_remainder=0\n",
    "    digit_sum=0\n",
    "    \n",
    "    while n > 0:\n",
    "        digit_remainder = n%10\n",
    "        digit_sum +=digit_remainder**2\n",
    "        n = n//10\n",
    "        \n",
    "     \n",
    "    return digit_sum  \n",
    "\n",
    "for digit in range (1,101):\n",
    "    result = digit\n",
    "    while result!=1 and result != 4:\n",
    "        result = check_happy_number(result)\n",
    "    if result == 1:\n",
    "        print(digit,\" is a Happy Number\")\n",
    "    \n",
    "    \n",
    "        "
   ]
  },
  {
   "cell_type": "markdown",
   "id": "5efe4ac8",
   "metadata": {},
   "source": [
    "### 5. Write a Python program to determine whether the given number is a Harshad Number?"
   ]
  },
  {
   "cell_type": "code",
   "execution_count": 25,
   "id": "b2959280",
   "metadata": {},
   "outputs": [
    {
     "name": "stdout",
     "output_type": "stream",
     "text": [
      "Enter the number to check for harshad number:-155\n",
      "155  is a not harshad number\n"
     ]
    }
   ],
   "source": [
    "def check_harshad(digit):\n",
    "    digit_remainder=0\n",
    "    digit_sum=0\n",
    "    n=digit\n",
    "    \n",
    "    while(digit > 0):  \n",
    "        digit_remainder = digit%10;  \n",
    "        digit_sum = digit_sum + digit_remainder;  \n",
    "        digit = digit//10;\n",
    "    \n",
    "    if n % digit_sum == 0:  \n",
    "        return True\n",
    "    else:  \n",
    "        return False\n",
    "        \n",
    "        \n",
    "digit= int(input('Enter the number to check for harshad number:-'))\n",
    "\n",
    "if(check_harshad(digit)):\n",
    "    print(digit,\" is a harshad number\");\n",
    "else:\n",
    "    print(digit,\" is a not harshad number\");\n",
    "    "
   ]
  },
  {
   "cell_type": "markdown",
   "id": "4c39de0d",
   "metadata": {},
   "source": [
    "### 6. Write a Python program to print all pronic numbers between 1 and 100?"
   ]
  },
  {
   "cell_type": "code",
   "execution_count": 35,
   "id": "9f7b019d",
   "metadata": {},
   "outputs": [
    {
     "name": "stdout",
     "output_type": "stream",
     "text": [
      "Enter the number to check for pronic number:-6\n",
      "6  is a pronic number\n"
     ]
    }
   ],
   "source": [
    "import math\n",
    "\n",
    "def check_pronic(n):\n",
    "    i = 0\n",
    "    while i<=int(math.sqrt(n)):\n",
    "        if  n == i * (i + 1):\n",
    "            return True\n",
    "        i = i + 1\n",
    "    return False\n",
    "\n",
    "n= int(input('Enter the number to check for pronic number:-'))\n",
    "\n",
    "if (check_pronic(n)):\n",
    "    print(n,\" is a pronic number\")\n",
    "else:\n",
    "    print(n,\" is not a pronic number\");\n",
    "    "
   ]
  },
  {
   "cell_type": "code",
   "execution_count": null,
   "id": "c03e6681",
   "metadata": {},
   "outputs": [],
   "source": []
  }
 ],
 "metadata": {
  "kernelspec": {
   "display_name": "Python 3 (ipykernel)",
   "language": "python",
   "name": "python3"
  },
  "language_info": {
   "codemirror_mode": {
    "name": "ipython",
    "version": 3
   },
   "file_extension": ".py",
   "mimetype": "text/x-python",
   "name": "python",
   "nbconvert_exporter": "python",
   "pygments_lexer": "ipython3",
   "version": "3.9.7"
  }
 },
 "nbformat": 4,
 "nbformat_minor": 5
}
