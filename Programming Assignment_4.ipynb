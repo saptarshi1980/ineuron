{
 "cells": [
  {
   "cell_type": "markdown",
   "id": "355e3543",
   "metadata": {},
   "source": [
    "# <center>Name: Saptarshi Sanyal\n",
    "# <center> Email: saptarshi.edp@gmail.com\n",
    "# <center>Programming Assignment_4"
   ]
  },
  {
   "cell_type": "markdown",
   "id": "9aaa55b3",
   "metadata": {},
   "source": [
    "### 1. Write a Python Program to Find the Factorial of a Number?"
   ]
  },
  {
   "cell_type": "code",
   "execution_count": 1,
   "id": "89715472",
   "metadata": {},
   "outputs": [
    {
     "name": "stdout",
     "output_type": "stream",
     "text": [
      "Enter a positive integet value forFactroial:5\n",
      "Factorial of 5 is 120\n"
     ]
    }
   ],
   "source": [
    "def factorial(n):\n",
    "    if n < 0:\n",
    "        return 0\n",
    "    elif n == 0 or n == 1:\n",
    "        return 1\n",
    "    else:\n",
    "        fact = 1\n",
    "        while(n > 1):\n",
    "            fact *= n\n",
    "            n -= 1\n",
    "        return fact\n",
    " \n",
    "\n",
    "num = int(input(\"Enter a positive integet value forFactroial:\"))\n",
    "print(\"Factorial of\",num,\"is\",\n",
    "factorial(num))      "
   ]
  },
  {
   "cell_type": "markdown",
   "id": "51a1503a",
   "metadata": {},
   "source": [
    "### 2. Write a Python Program to Display the multiplication Table?"
   ]
  },
  {
   "cell_type": "code",
   "execution_count": 9,
   "id": "4ed62c45",
   "metadata": {},
   "outputs": [
    {
     "name": "stdout",
     "output_type": "stream",
     "text": [
      "Enter a positive integet value for multiplication table:8\n",
      "8 X 1 = 8\n",
      "8 X 2 = 16\n",
      "8 X 3 = 24\n",
      "8 X 4 = 32\n",
      "8 X 5 = 40\n",
      "8 X 6 = 48\n",
      "8 X 7 = 56\n",
      "8 X 8 = 64\n",
      "8 X 9 = 72\n",
      "8 X 10 = 80\n"
     ]
    }
   ],
   "source": [
    "def multiplication_table(n):\n",
    "    for i in range (1,11):\n",
    "        print(f\"{n} X {i} = {n*i}\")\n",
    "\n",
    "n = int(input(\"Enter a positive integet value for multiplication table:\"))\n",
    "multiplication_table(n)"
   ]
  },
  {
   "cell_type": "markdown",
   "id": "d19e1fd8",
   "metadata": {},
   "source": [
    "### 3.Write a Python Program to Print the Fibonacci sequence?"
   ]
  },
  {
   "cell_type": "code",
   "execution_count": 5,
   "id": "8fbed730",
   "metadata": {},
   "outputs": [
    {
     "name": "stdout",
     "output_type": "stream",
     "text": [
      "Enter a positive integet value for Fibonacci sequence:8\n",
      "Fibonacci sequence:\n",
      "0\n",
      "1\n",
      "1\n",
      "2\n",
      "3\n",
      "5\n",
      "8\n",
      "13\n"
     ]
    }
   ],
   "source": [
    "def fibbonacci_sequence(n):\n",
    "    if(n<=1): \n",
    "        return n\n",
    "    else:\n",
    "        return fibbonacci_sequence(n-1)+fibbonacci_sequence(n-2)\n",
    "\n",
    "n = int(input(\"Enter a positive integet value for Fibonacci sequence:\"))\n",
    "\n",
    "# check if the number of terms is valid\n",
    "if n <= 0:\n",
    "    print(\"Plese enter a positive integer\")\n",
    "else:\n",
    "    print(\"Fibonacci sequence:\")\n",
    "    for i in range(n):\n",
    "        print(fibbonacci_sequence(i))"
   ]
  },
  {
   "cell_type": "markdown",
   "id": "0a1ab3ef",
   "metadata": {},
   "source": [
    "### 4. Write a Python Program to Check Armstrong Number?"
   ]
  },
  {
   "cell_type": "code",
   "execution_count": 13,
   "id": "23f44796",
   "metadata": {},
   "outputs": [
    {
     "name": "stdout",
     "output_type": "stream",
     "text": [
      "Enter number to check for Armstrong Number:1634\n",
      "1634 is an Armstrong number\n"
     ]
    }
   ],
   "source": [
    "def armstrong_number(n):\n",
    "    digit_length = len(str(n))\n",
    "    sum_value=0\n",
    "    for num in str(n):\n",
    "        sum_value = sum_value + int(num)**digit_length\n",
    "    if n==sum_value:\n",
    "        return True\n",
    "    else:\n",
    "        return False\n",
    "\n",
    "n=int(input('Enter number to check for Armstrong Number:'))\n",
    "\n",
    "if(armstrong_number(n)):\n",
    "    print(f\"{n} is an Armstrong number\")\n",
    "else:\n",
    "    print(f\"{n} is Not an Armstrong number\")\n",
    "    "
   ]
  },
  {
   "cell_type": "markdown",
   "id": "6008c2cb",
   "metadata": {},
   "source": [
    "### 5. Write a Python Program to Find Armstrong Number in an Interval?"
   ]
  },
  {
   "cell_type": "code",
   "execution_count": 16,
   "id": "d345dff5",
   "metadata": {},
   "outputs": [
    {
     "name": "stdout",
     "output_type": "stream",
     "text": [
      "Armstrong numbers between 1 and 1000 are:\n",
      "\n",
      "1 2 3 4 5 6 7 8 9 153 370 371 407 "
     ]
    }
   ],
   "source": [
    "def armstrong_number(n):\n",
    "    digit_length = len(str(n))\n",
    "    sum_value=0\n",
    "    for num in str(n):\n",
    "        sum_value = sum_value + int(num)**digit_length\n",
    "    if n==sum_value:\n",
    "        return True\n",
    "    else:\n",
    "        return False\n",
    "\n",
    "lower = 1\n",
    "upper = 1000\n",
    "\n",
    "print(\"Armstrong numbers between\", lower, \"and\", upper, \"are:\\n\")\n",
    "\n",
    "for num in range(lower, upper):\n",
    "    if (armstrong_number(num)):\n",
    "        print(num,end = \" \")\n",
    "       "
   ]
  },
  {
   "cell_type": "markdown",
   "id": "6b9c0d11",
   "metadata": {},
   "source": [
    "### 6. Write a Python Program to Find the Sum of Natural Numbers?"
   ]
  },
  {
   "cell_type": "code",
   "execution_count": 19,
   "id": "133ee886",
   "metadata": {},
   "outputs": [
    {
     "name": "stdout",
     "output_type": "stream",
     "text": [
      "How many natural number?:25\n",
      "Sum of 25 natural number is-325.0\n"
     ]
    }
   ],
   "source": [
    "# s=n(n+1)/2\n",
    "\n",
    "n=int(input('How many natural number?:'))\n",
    "\n",
    "s=n*(n+1)/2\n",
    "\n",
    "print(f\"Sum of {n} natural number is-{s}\")\n"
   ]
  },
  {
   "cell_type": "code",
   "execution_count": null,
   "id": "7aa3c3dd",
   "metadata": {},
   "outputs": [],
   "source": []
  }
 ],
 "metadata": {
  "kernelspec": {
   "display_name": "Python 3 (ipykernel)",
   "language": "python",
   "name": "python3"
  },
  "language_info": {
   "codemirror_mode": {
    "name": "ipython",
    "version": 3
   },
   "file_extension": ".py",
   "mimetype": "text/x-python",
   "name": "python",
   "nbconvert_exporter": "python",
   "pygments_lexer": "ipython3",
   "version": "3.9.7"
  }
 },
 "nbformat": 4,
 "nbformat_minor": 5
}
