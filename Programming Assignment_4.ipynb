{
 "cells": [
  {
   "cell_type": "markdown",
   "id": "355e3543",
   "metadata": {},
   "source": [
    "# <center>Name: Saptarshi Sanyal\n",
    "# <center> Email: saptarshi.edp@gmail.com\n",
    "# <center>Programming Assignment_4"
   ]
  },
  {
   "cell_type": "markdown",
   "id": "9aaa55b3",
   "metadata": {},
   "source": [
    "### 1. Write a Python Program to Find the Factorial of a Number?"
   ]
  },
  {
   "cell_type": "code",
   "execution_count": 3,
   "id": "89715472",
   "metadata": {},
   "outputs": [
    {
     "name": "stdout",
     "output_type": "stream",
     "text": [
      "enter a positive integet value:19\n",
      "Factorial of 19 is 121645100408832000\n"
     ]
    }
   ],
   "source": [
    "def fact(n):\n",
    "    if (n==0) or (n==1):\n",
    "        return 1\n",
    "    elif n>1:\n",
    "        return n*fact(n-1)\n",
    "    else:\n",
    "        return \"invalid input\"\n",
    "\n",
    "n = int(input(\"enter a positive integet value:\"))\n",
    "print(f\"Factorial of {n} is {fact(n)}\")        "
   ]
  },
  {
   "cell_type": "markdown",
   "id": "51a1503a",
   "metadata": {},
   "source": [
    "### 2. Write a Python Program to Display the multiplication Table?"
   ]
  },
  {
   "cell_type": "code",
   "execution_count": 9,
   "id": "4ed62c45",
   "metadata": {},
   "outputs": [
    {
     "name": "stdout",
     "output_type": "stream",
     "text": [
      "Enter a positive integet value for multiplication table:8\n",
      "8 X 1 = 8\n",
      "8 X 2 = 16\n",
      "8 X 3 = 24\n",
      "8 X 4 = 32\n",
      "8 X 5 = 40\n",
      "8 X 6 = 48\n",
      "8 X 7 = 56\n",
      "8 X 8 = 64\n",
      "8 X 9 = 72\n",
      "8 X 10 = 80\n"
     ]
    }
   ],
   "source": [
    "def multiplication_table(n):\n",
    "    for i in range (1,11):\n",
    "        print(f\"{n} X {i} = {n*i}\")\n",
    "\n",
    "n = int(input(\"Enter a positive integet value for multiplication table:\"))\n",
    "multiplication_table(n)"
   ]
  },
  {
   "cell_type": "markdown",
   "id": "d19e1fd8",
   "metadata": {},
   "source": [
    "### 3.Write a Python Program to Print the Fibonacci sequence?"
   ]
  },
  {
   "cell_type": "code",
   "execution_count": 5,
   "id": "8fbed730",
   "metadata": {},
   "outputs": [
    {
     "name": "stdout",
     "output_type": "stream",
     "text": [
      "Enter a positive integet value for Fibonacci sequence:8\n",
      "Fibonacci sequence:\n",
      "0\n",
      "1\n",
      "1\n",
      "2\n",
      "3\n",
      "5\n",
      "8\n",
      "13\n"
     ]
    }
   ],
   "source": [
    "def fibbonacci_sequence(n):\n",
    "    if(n<=1): \n",
    "        return n\n",
    "    else:\n",
    "        return fibbonacci_sequence(n-1)+fibbonacci_sequence(n-2)\n",
    "\n",
    "n = int(input(\"Enter a positive integet value for Fibonacci sequence:\"))\n",
    "\n",
    "# check if the number of terms is valid\n",
    "if n <= 0:\n",
    "    print(\"Plese enter a positive integer\")\n",
    "else:\n",
    "    print(\"Fibonacci sequence:\")\n",
    "    for i in range(n):\n",
    "        print(fibbonacci_sequence(i))"
   ]
  },
  {
   "cell_type": "code",
   "execution_count": null,
   "id": "b2967b99",
   "metadata": {},
   "outputs": [],
   "source": []
  }
 ],
 "metadata": {
  "kernelspec": {
   "display_name": "Python 3 (ipykernel)",
   "language": "python",
   "name": "python3"
  },
  "language_info": {
   "codemirror_mode": {
    "name": "ipython",
    "version": 3
   },
   "file_extension": ".py",
   "mimetype": "text/x-python",
   "name": "python",
   "nbconvert_exporter": "python",
   "pygments_lexer": "ipython3",
   "version": "3.9.7"
  }
 },
 "nbformat": 4,
 "nbformat_minor": 5
}
