{
 "cells": [
  {
   "cell_type": "markdown",
   "id": "d8064062",
   "metadata": {},
   "source": [
    "# Programing Assignment Number - 13\n",
    "# Saptarshi Sanyal\n",
    "# email id- saptarshi.edp@gmail.com"
   ]
  },
  {
   "cell_type": "code",
   "execution_count": 13,
   "id": "3df1d131",
   "metadata": {},
   "outputs": [
    {
     "name": "stdout",
     "output_type": "stream",
     "text": [
      "Enter comma separated sequence of integers \n",
      ":100,150,180\n",
      "18,22,24\n"
     ]
    }
   ],
   "source": [
    "# Q 1.\n",
    "# Q = Square root of [(2 * C * D)/H]\n",
    "\n",
    "\n",
    "import math\n",
    "C = 50\n",
    "H = 30\n",
    "\n",
    "D= input(\"Enter comma separated sequence of integers \\n:\")\n",
    "\n",
    "list_1 = D.split(\",\")\n",
    "\n",
    "Q = 0\n",
    "temp=[]\n",
    "\n",
    "for i in list_1:\n",
    "    Q=math.sqrt(2*C*int(i)/H)\n",
    "    temp.append(str(round(Q)))\n",
    "\n",
    "\n",
    "result = \",\".join(temp)\n",
    "\n",
    "print(result)\n",
    "\n",
    "\n",
    "\n",
    "\n"
   ]
  },
  {
   "cell_type": "code",
   "execution_count": 21,
   "id": "559d4296",
   "metadata": {},
   "outputs": [
    {
     "name": "stdout",
     "output_type": "stream",
     "text": [
      "Enter comma separated sequence of integers \n",
      ":3,5\n",
      "Initial matrix-\n",
      "\n",
      " [[0 0 0 0 0]\n",
      " [0 0 0 0 0]\n",
      " [0 0 0 0 0]]\n",
      "\n",
      "\n",
      "Resultant Matrix-\n",
      " [[0 0 0 0 0]\n",
      " [0 1 2 3 4]\n",
      " [0 2 4 6 8]]\n"
     ]
    }
   ],
   "source": [
    "# Q. 2\n",
    "import numpy as np\n",
    "\n",
    "dimension = input(\"Enter matrix dimension \\n:\")\n",
    "\n",
    "list_1 = dimension.split(\",\")\n",
    "\n",
    "list_int= [int(i) for i in list_1]\n",
    "\n",
    "matrix_1=np.zeros(shape=tuple(list_int),dtype=np.int16)\n",
    "\n",
    "row = list_int[0]\n",
    "col = list_int[1]\n",
    "\n",
    "\n",
    "for i in range(row):\n",
    "    for j in range(col):\n",
    "        matrix_1[i][j] = i*j\n",
    "        \n",
    "print(\"\\n\\nResultant Matrix-\\n\",matrix_1)"
   ]
  },
  {
   "cell_type": "code",
   "execution_count": 24,
   "id": "21fbd3c1",
   "metadata": {},
   "outputs": [
    {
     "name": "stdout",
     "output_type": "stream",
     "text": [
      "Enter comma separated sequence of Words \n",
      ":sap,kou,abc\n",
      "Original_String- ['sap', 'kou', 'abc']\n",
      "Result String- abc,kou,sap\n"
     ]
    }
   ],
   "source": [
    "# Q. 3\n",
    "input_str= input(\"Enter comma separated sequence of Words \\n:\")\n",
    "\n",
    "list_1 = input_str.split(\",\")\n",
    "\n",
    "print(\"Original_String-\",list_1)\n",
    "\n",
    "list_1.sort()\n",
    "result_str= \",\".join(list_1)\n",
    "print(\"Result String-\",result_str)"
   ]
  },
  {
   "cell_type": "code",
   "execution_count": 27,
   "id": "8cff6b66",
   "metadata": {},
   "outputs": [
    {
     "name": "stdout",
     "output_type": "stream",
     "text": [
      "Enter space separated sequence of Words \n",
      ":sap peter peter linux java java linux\n",
      "Result String- sap peter linux java\n"
     ]
    }
   ],
   "source": [
    "# Q. 4\n",
    "from collections import Counter\n",
    "\n",
    "input_str= input(\"Enter space separated sequence of Words \\n:\")\n",
    "\n",
    "list_1 = input_str.split(\" \")\n",
    "\n",
    "#We are creating a dictionary with counter method, then the words will be keys and occurances will be values. Since the \n",
    "# keys are unique, therfore we will have the unique words only in the keys.\n",
    "\n",
    "unqiue_words = Counter(list_1)\n",
    "\n",
    "result = \" \".join(unqiue_words.keys())\n",
    "\n",
    "\n",
    "print(\"Unique words-\",result)"
   ]
  },
  {
   "cell_type": "code",
   "execution_count": 29,
   "id": "b487a13b",
   "metadata": {},
   "outputs": [
    {
     "name": "stdout",
     "output_type": "stream",
     "text": [
      "enter the alpha numric string \n",
      " gvhjgj 6786 fghh 7878 fghfhg 8678678\n",
      "The number of characters: 16\n",
      "The number of digits: 15\n"
     ]
    }
   ],
   "source": [
    "# Q. 5\n",
    "input_str =input(\"enter the alpha numric string \\n \")\n",
    "\n",
    "char_count = 0\n",
    "digit_count = 0\n",
    "\n",
    "\n",
    "for i in input_str:\n",
    "    if i.isalpha():\n",
    "        char_count += 1\n",
    "    elif i.isdigit():\n",
    "        digit_count += 1\n",
    "    else:\n",
    "        pass\n",
    "    \n",
    "print(\"The number of characters:\", char_count)\n",
    "print(\"The number of digits:\", digit_count)\n",
    "    "
   ]
  },
  {
   "cell_type": "code",
   "execution_count": 49,
   "id": "f09cf5e8",
   "metadata": {},
   "outputs": [
    {
     "name": "stdout",
     "output_type": "stream",
     "text": [
      "Enter comma separated sequence of Passwords \n",
      ":Sap@1890,Saptarshi,Peter@123423,rIya$12\n",
      "Valid Password- Sap@1890,Peter@123423,rIya$12\n"
     ]
    }
   ],
   "source": [
    "# Q.6 \n",
    "import re\n",
    "\n",
    "input_password = input(\"Enter comma separated sequence of Passwords \\n:\")\n",
    "\n",
    "list_password = input_password.split(\",\")\n",
    "\n",
    "valid_password=[]\n",
    "\n",
    "regex_password = \"^(?=.*[a-z])(?=.*[A-Z])(?=.*\\d)(?=.*[$#@])[A-Za-z\\d$#@]{6,12}$\"\n",
    "\n",
    "match_re = re.compile(regex_password)\n",
    "\n",
    "\n",
    "for password in list_password:\n",
    "    \n",
    "    \n",
    "    if re.search(match_re, password):\n",
    "        valid_password.append(password)\n",
    "    else:\n",
    "        pass\n",
    "    \n",
    "result_password= \",\".join(valid_password)\n",
    "\n",
    "\n",
    "print(\"Valid Password-\",result_password)\n",
    "    \n"
   ]
  },
  {
   "cell_type": "code",
   "execution_count": null,
   "id": "f784dd98",
   "metadata": {},
   "outputs": [],
   "source": []
  }
 ],
 "metadata": {
  "kernelspec": {
   "display_name": "Python 3 (ipykernel)",
   "language": "python",
   "name": "python3"
  },
  "language_info": {
   "codemirror_mode": {
    "name": "ipython",
    "version": 3
   },
   "file_extension": ".py",
   "mimetype": "text/x-python",
   "name": "python",
   "nbconvert_exporter": "python",
   "pygments_lexer": "ipython3",
   "version": "3.9.7"
  }
 },
 "nbformat": 4,
 "nbformat_minor": 5
}
