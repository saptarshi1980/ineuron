{
 "cells": [
  {
   "cell_type": "code",
   "execution_count": 24,
   "id": "5630996f",
   "metadata": {},
   "outputs": [
    {
     "name": "stdout",
     "output_type": "stream",
     "text": [
      "18\n"
     ]
    }
   ],
   "source": [
    "#Q.1\n",
    "import numpy as np\n",
    "def evenly_divisible(a,b,c):\n",
    "    num=np.arange(a,b+1)\n",
    "    sum=0\n",
    "    for i in num:\n",
    "        if i%c==0:\n",
    "            sum+=i\n",
    "    return sum    \n",
    "    \n",
    "print(evenly_divisible(1,10,3))   \n",
    "    "
   ]
  },
  {
   "cell_type": "code",
   "execution_count": 38,
   "id": "9a7e18b6",
   "metadata": {},
   "outputs": [
    {
     "name": "stdout",
     "output_type": "stream",
     "text": [
      "3<\n",
      "3<7<\n",
      "[1, 3]\n"
     ]
    }
   ],
   "source": [
    "# Q.2\n",
    "import re\n",
    "def correct_signs(expr):\n",
    "    expr=expr.replace(\" \",\"\")\n",
    "    operator_index=[]\n",
    "    for pos,char in enumerate(expr):\n",
    "        if (char.isdigit() == False):\n",
    "            operator_index.append(pos)\n",
    "    for op in operator_index:\n",
    "        temp=0\n",
    "        print(expr[temp:op+1])\n",
    "        temp=op-1\n",
    "            \n",
    "            \n",
    "        \n",
    "    print(operator_index)       \n",
    "    \n",
    "     \n",
    "correct_signs(\"3 < 7 < 11\")    "
   ]
  },
  {
   "cell_type": "code",
   "execution_count": null,
   "id": "786069a3",
   "metadata": {},
   "outputs": [],
   "source": []
  }
 ],
 "metadata": {
  "kernelspec": {
   "display_name": "Python 3 (ipykernel)",
   "language": "python",
   "name": "python3"
  },
  "language_info": {
   "codemirror_mode": {
    "name": "ipython",
    "version": 3
   },
   "file_extension": ".py",
   "mimetype": "text/x-python",
   "name": "python",
   "nbconvert_exporter": "python",
   "pygments_lexer": "ipython3",
   "version": "3.9.7"
  }
 },
 "nbformat": 4,
 "nbformat_minor": 5
}
