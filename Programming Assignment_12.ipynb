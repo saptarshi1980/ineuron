{
 "cells": [
  {
   "cell_type": "markdown",
   "id": "cc790506",
   "metadata": {},
   "source": [
    "### 1. Write a Python program to Extract Unique values dictionary values?"
   ]
  },
  {
   "cell_type": "code",
   "execution_count": 6,
   "id": "d1d9a980",
   "metadata": {},
   "outputs": [
    {
     "name": "stdout",
     "output_type": "stream",
     "text": [
      "Initial Dictionary =  {'Scala': [2, 1, 3, 5, 6, 7, 3], 'Javascript': [1, 11, 2, 3, 5], 'Python': [8, 2, 4, 2], 'C++': [1, 7, 19, 8, 5, 3, 3, 2], 'Java': [4, 3, 2, 4, 5]}\n",
      "Unique Values present in the above dictionary =  [1, 2, 3, 4, 5, 6, 7, 8, 11, 19]\n"
     ]
    }
   ],
   "source": [
    "dict_1 = {'Scala': [2,1,3,5,6,7,3], 'Javascript': [1,11,2,3,5], 'Python': [8,2,4,2], 'C++': [1,7,19,8,5,3,3,2], 'Java': [4,3,2,4,5]}\n",
    "\n",
    "# extracting unique values using set comprehension\n",
    "unique_values = list({ele for val in dict_1.values() for ele in val })\n",
    "  \n",
    "\n",
    "print(\"Initial Dictionary = \", end = \" \")\n",
    "print(dict_1)\n",
    "print(\"Unique Values present in the above dictionary = \", end = \" \")\n",
    "print(unique_values)\n"
   ]
  },
  {
   "cell_type": "markdown",
   "id": "90e6dafb",
   "metadata": {},
   "source": [
    "### 2. Write a Python program to find the sum of all items in a dictionary?"
   ]
  },
  {
   "cell_type": "code",
   "execution_count": 10,
   "id": "67cdef75",
   "metadata": {},
   "outputs": [
    {
     "name": "stdout",
     "output_type": "stream",
     "text": [
      "Initial Dictionary =  {'Scala': [2, 1, 3, 5, 6, 7, 3], 'Javascript': [1, 11, 2, 3, 5], 'Python': [8, 2, 4, 2], 'C++': [1, 7, 19, 8, 5, 3, 3, 2], 'Java': [4, 3, 2, 4, 5]}\n",
      "Sum of elements present in the above dictionary =  131\n"
     ]
    }
   ],
   "source": [
    "dict_1 = {'Scala': [2,1,3,5,6,7,3], 'Javascript': [1,11,2,3,5], 'Python': [8,2,4,2], 'C++': [1,7,19,8,5,3,3,2], 'Java': [4,3,2,4,5]}\n",
    "\n",
    "# extracting all the numbers\n",
    "all_numbers = [ele for val in dict_1.values() for ele in val]\n",
    "  \n",
    "\n",
    "print(\"Initial Dictionary = \", end = \" \")\n",
    "print(dict_1)\n",
    "print(\"Sum of elements present in the above dictionary = \", end = \" \")\n",
    "print(sum(all_numbers))"
   ]
  },
  {
   "cell_type": "markdown",
   "id": "fb9f0ac9",
   "metadata": {},
   "source": [
    "### 3. Write a Python program to Merging two Dictionaries?"
   ]
  },
  {
   "cell_type": "code",
   "execution_count": 12,
   "id": "d71dd585",
   "metadata": {},
   "outputs": [
    {
     "name": "stdout",
     "output_type": "stream",
     "text": [
      "{'a': 5, 'b': 3, 'c': 3, 'd': 8}\n"
     ]
    }
   ],
   "source": [
    "def merge_dict(dict1, dict2):\n",
    "    result = dict1 | dict2\n",
    "    return result\n",
    "       \n",
    "# Driver code\n",
    "dict1 = {'a': 5, 'b': 7}\n",
    "dict2 = {'c': 3, 'd': 8,'b':3}\n",
    "dict3 = merge_dict(dict1, dict2)\n",
    "print(dict3)"
   ]
  },
  {
   "cell_type": "markdown",
   "id": "4ad47f28",
   "metadata": {},
   "source": [
    "### 4. Write a Python program to convert key-values list to flat dictionary?"
   ]
  },
  {
   "cell_type": "code",
   "execution_count": 11,
   "id": "21dc8aab",
   "metadata": {},
   "outputs": [
    {
     "name": "stdout",
     "output_type": "stream",
     "text": [
      "saptarshi\n",
      "Samriddhi\n",
      "Riya\n",
      "{'saptarshi': 'CSE', 'Samriddhi': 'MATHS', 'Riya': 'English'}\n"
     ]
    }
   ],
   "source": [
    "# Simple Version to convert a list with key - value items to dictionary\n",
    "list_1=['saptarshi-CSE','Samriddhi-MATHS','Riya-English']\n",
    "dict_1={}\n",
    "\n",
    "for item in list_1:\n",
    "    temp = item.split('-')\n",
    "    dict_1[temp[0]]=temp[1]\n",
    "print(dict_1)    \n",
    "    "
   ]
  },
  {
   "cell_type": "code",
   "execution_count": 15,
   "id": "f0051ce2",
   "metadata": {},
   "outputs": [
    {
     "name": "stdout",
     "output_type": "stream",
     "text": [
      "Original dictionary:  {'name': ['Saptarshi', 'Samriddhi', 'Riya'], 'course': ['CSE', 'MATHS', 'ENGLISH']}\n",
      "Flat Dictionary- {'Saptarshi': 'CSE', 'Samriddhi': 'MATHS', 'Riya': 'ENGLISH'}\n"
     ]
    }
   ],
   "source": [
    "# Dictionary with list of values- conversion to flat dictionary\n",
    "\n",
    "dict_2= { 'name': ['Saptarshi', 'Samriddhi', 'Riya'], 'course': ['CSE', 'MATHS', 'ENGLISH' ] }\n",
    "print(\"Original dictionary: \",dict_2)\n",
    "\n",
    "# convert to flat dictionary\n",
    "\n",
    "final_dict= dict(zip(dict_2['name'], dict_2['course']))\n",
    "print(\"Flat Dictionary-\",final_dict)"
   ]
  },
  {
   "cell_type": "markdown",
   "id": "bc5c3f49",
   "metadata": {},
   "source": [
    "### 5. Write a Python program to insertion at the beginning in OrderedDict?"
   ]
  },
  {
   "cell_type": "code",
   "execution_count": 22,
   "id": "522ac7ed",
   "metadata": {},
   "outputs": [
    {
     "name": "stdout",
     "output_type": "stream",
     "text": [
      "Final Dictionary : OrderedDict([('RIYA', 'ENGLISH'), ('SAPTARSHI', 'CSE'), ('SAMRIDDHI', 'MATHS')])\n"
     ]
    }
   ],
   "source": [
    "from collections import OrderedDict\n",
    "\n",
    "\n",
    "ordered_dict = OrderedDict([('SAPTARSHI', 'CSE'), ('SAMRIDDHI', 'MATHS')])\n",
    "\n",
    "# inserting items in beginning of order dictioanry\n",
    "ordered_dict.update({'RIYA':'ENGLISH'})\n",
    "ordered_dict.move_to_end('RIYA', last = False)\n",
    "\n",
    "print (\"Final Dictionary : \"+str(ordered_dict))\n"
   ]
  },
  {
   "cell_type": "markdown",
   "id": "3ae7c23b",
   "metadata": {},
   "source": [
    "### 6. Write a Python program to check order of character in string using OrderedDict()?"
   ]
  },
  {
   "cell_type": "code",
   "execution_count": 30,
   "id": "eaa8a7b4",
   "metadata": {},
   "outputs": [
    {
     "name": "stdout",
     "output_type": "stream",
     "text": [
      "True\n"
     ]
    }
   ],
   "source": [
    "from collections import OrderedDict\n",
    "\n",
    "def check_order(input, pattern):\n",
    "    dict_3 = OrderedDict.fromkeys(input)\n",
    "    pattern_len = 0\n",
    "    for key,value in dict_3.items():\n",
    "        if (key == pattern[pattern_len]):\n",
    "            pattern_len += 1\n",
    "            \n",
    "        if (pattern_len == (len(pattern))):\n",
    "            return True\n",
    "\n",
    "    return False\n",
    "\n",
    "input = 'Random Forest'\n",
    "pattern = 'dom'\n",
    "print (check_order(input,pattern))"
   ]
  },
  {
   "cell_type": "code",
   "execution_count": null,
   "id": "855df3eb",
   "metadata": {},
   "outputs": [],
   "source": []
  }
 ],
 "metadata": {
  "kernelspec": {
   "display_name": "Python 3 (ipykernel)",
   "language": "python",
   "name": "python3"
  },
  "language_info": {
   "codemirror_mode": {
    "name": "ipython",
    "version": 3
   },
   "file_extension": ".py",
   "mimetype": "text/x-python",
   "name": "python",
   "nbconvert_exporter": "python",
   "pygments_lexer": "ipython3",
   "version": "3.9.7"
  }
 },
 "nbformat": 4,
 "nbformat_minor": 5
}
