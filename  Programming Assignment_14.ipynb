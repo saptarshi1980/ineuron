{
 "cells": [
  {
   "cell_type": "code",
   "execution_count": 51,
   "id": "b08231b8",
   "metadata": {},
   "outputs": [
    {
     "name": "stdout",
     "output_type": "stream",
     "text": [
      "Enter Upper Range-50\n",
      "7\n",
      "14\n",
      "21\n",
      "28\n",
      "35\n",
      "42\n",
      "49\n"
     ]
    }
   ],
   "source": [
    "# Question 1:\n",
    "class gen_iter:\n",
    "    def __init__(self):\n",
    "        pass\n",
    "    \n",
    "    def number_iterator(self,number):\n",
    "        \n",
    "        if number==0:\n",
    "            pass\n",
    "        \n",
    "        elif (number%7==0):\n",
    "            yield number\n",
    "\n",
    "obj_1=gen_iter()\n",
    "\n",
    "#lower_range = int(input(\"Enter Lower Range-\"))\n",
    "upper_range = int(input(\"Enter Upper Range-\"))\n",
    "\n",
    "for i in range (0,upper_range):\n",
    "    for item in obj_1.number_iterator(i):\n",
    "        print (item)\n",
    "        "
   ]
  },
  {
   "cell_type": "code",
   "execution_count": 69,
   "id": "6922f6f0",
   "metadata": {},
   "outputs": [
    {
     "name": "stdout",
     "output_type": "stream",
     "text": [
      "2 : 2 \n",
      "3 : 1 \n",
      "3? : 1 \n",
      "New : 1 \n",
      "Python : 5 \n",
      "Read : 1 \n",
      "and : 1 \n",
      "between : 1 \n",
      "choosing : 1 \n",
      "or : 2 \n",
      "to : 1 \n"
     ]
    }
   ],
   "source": [
    "# Question 2\n",
    "\n",
    "def count_words(word):\n",
    "\n",
    "    if word[-1] == '.':\n",
    "        word = word[0:len(word) - 1]\n",
    "   \n",
    "    if word in dict_1:\n",
    "        dict_1[word] += 1\n",
    "   \n",
    "    else:\n",
    "        dict_1.update({word: 1})\n",
    "   \n",
    "  \n",
    "sentence = \"New to Python or choosing between Python 2 and Python 3? Read Python 2 or Python 3.\"\n",
    "   \n",
    "\n",
    "dict_1 = {}\n",
    "   \n",
    "\n",
    "list_1 = sentence.split()\n",
    "   \n",
    "\n",
    "for elements in list_1:\n",
    "    count_words(elements)\n",
    "    \n",
    "for i in sorted(dict_1.keys()):\n",
    "    print (i,end = \" \")\n",
    "    print (\":\", end = \" \")\n",
    "    print (dict_1[i],end = \" \")\n",
    "    print() "
   ]
  },
  {
   "cell_type": "code",
   "execution_count": null,
   "id": "2ddb838c",
   "metadata": {},
   "outputs": [],
   "source": []
  }
 ],
 "metadata": {
  "kernelspec": {
   "display_name": "Python 3 (ipykernel)",
   "language": "python",
   "name": "python3"
  },
  "language_info": {
   "codemirror_mode": {
    "name": "ipython",
    "version": 3
   },
   "file_extension": ".py",
   "mimetype": "text/x-python",
   "name": "python",
   "nbconvert_exporter": "python",
   "pygments_lexer": "ipython3",
   "version": "3.9.7"
  }
 },
 "nbformat": 4,
 "nbformat_minor": 5
}
