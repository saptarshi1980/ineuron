{
 "cells": [
  {
   "cell_type": "code",
   "execution_count": 1,
   "id": "f9c0dc12",
   "metadata": {},
   "outputs": [
    {
     "name": "stdout",
     "output_type": "stream",
     "text": [
      "18\n"
     ]
    }
   ],
   "source": [
    "#Q.1\n",
    "import numpy as np\n",
    "def evenly_divisible(a,b,c):\n",
    "    num=np.arange(a,b+1)\n",
    "    sum=0\n",
    "    for i in num:\n",
    "        if i%c==0:\n",
    "            sum+=i\n",
    "    return sum    \n",
    "    \n",
    "print(evenly_divisible(1,10,3))   "
   ]
  },
  {
   "cell_type": "code",
   "execution_count": 9,
   "id": "b5ccb2e9",
   "metadata": {},
   "outputs": [
    {
     "name": "stdout",
     "output_type": "stream",
     "text": [
      "False\n"
     ]
    }
   ],
   "source": [
    "# Q. 2\n",
    "\n",
    "def correct_signs(expr):\n",
    "    expr=expr.replace(\" \",\"\")\n",
    "    return eval(expr)\n",
    "\n",
    "print(correct_signs(\"8 < 6 > 3\"))\n",
    "    "
   ]
  },
  {
   "cell_type": "code",
   "execution_count": 13,
   "id": "ca53def5",
   "metadata": {},
   "outputs": [
    {
     "name": "stdout",
     "output_type": "stream",
     "text": [
      "Th# ##rdv#rk\n"
     ]
    }
   ],
   "source": [
    "# Q. 3\n",
    "\n",
    "def replace_words(expr,replacement):\n",
    "    vowels = \"AEIOUaeiou\"\n",
    "    for char in vowels:\n",
    "        expr=expr.replace(char,replacement)\n",
    "    return expr    \n",
    "\n",
    "print(replace_words(\"The Aardvark\",\"#\"))\n",
    "\n",
    "\n"
   ]
  },
  {
   "cell_type": "code",
   "execution_count": 10,
   "id": "474963b2",
   "metadata": {},
   "outputs": [
    {
     "data": {
      "text/plain": [
       "24"
      ]
     },
     "execution_count": 10,
     "metadata": {},
     "output_type": "execute_result"
    }
   ],
   "source": [
    "# Q. 5\n",
    "def fact(n):\n",
    "    if n==0 or n==1:\n",
    "        return 1\n",
    "    else:\n",
    "        return n*fact(n-1)\n",
    "fact(4)    "
   ]
  },
  {
   "cell_type": "code",
   "execution_count": 1,
   "id": "d29f3f39",
   "metadata": {},
   "outputs": [
    {
     "name": "stdout",
     "output_type": "stream",
     "text": [
      "5\n"
     ]
    }
   ],
   "source": [
    "# Q. 5\n",
    "def hamming_distance(s1,s2):\n",
    "    result=0\n",
    "    for (i,j) in enumerate(zip(s1,s2)):\n",
    "        \n",
    "        if i!=j:\n",
    "            result+=1\n",
    "    return result\n",
    "    \n",
    "    \n",
    "s1=\"abcde\"\n",
    "s2=\"fghij\"\n",
    "\n",
    "\n",
    "print(hamming_distance(s1,s2))"
   ]
  },
  {
   "cell_type": "code",
   "execution_count": null,
   "id": "fb1db193",
   "metadata": {},
   "outputs": [],
   "source": []
  }
 ],
 "metadata": {
  "kernelspec": {
   "display_name": "Python 3 (ipykernel)",
   "language": "python",
   "name": "python3"
  },
  "language_info": {
   "codemirror_mode": {
    "name": "ipython",
    "version": 3
   },
   "file_extension": ".py",
   "mimetype": "text/x-python",
   "name": "python",
   "nbconvert_exporter": "python",
   "pygments_lexer": "ipython3",
   "version": "3.9.7"
  }
 },
 "nbformat": 4,
 "nbformat_minor": 5
}
