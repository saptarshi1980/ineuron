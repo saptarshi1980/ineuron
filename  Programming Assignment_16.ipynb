{
 "cells": [
  {
   "cell_type": "code",
   "execution_count": 30,
   "id": "f504af9a",
   "metadata": {},
   "outputs": [
    {
     "name": "stdout",
     "output_type": "stream",
     "text": [
      "in... in... incredible?\n",
      "en... en... enthusiastic?\n"
     ]
    }
   ],
   "source": [
    "# Q.1\n",
    "def stutter(str_1):\n",
    "    temp=str_1[:2]+'... '\n",
    "    return temp*2+str_1+'?'\n",
    "    \n",
    "print(stutter('incredible'))\n",
    "print(stutter('enthusiastic'))\n",
    "    "
   ]
  },
  {
   "cell_type": "code",
   "execution_count": 29,
   "id": "f6068858",
   "metadata": {},
   "outputs": [
    {
     "name": "stdout",
     "output_type": "stream",
     "text": [
      "Enter radian-10\n",
      "10.0 Radians = 573.0 Degrees.\n"
     ]
    }
   ],
   "source": [
    "#Q. 2\n",
    "\n",
    "import math\n",
    "def radian_to_degree(radian):\n",
    "    try:\n",
    "        return round((radian*180)/math.pi,1)\n",
    "    except exception as e:\n",
    "        print(e)\n",
    "try:\n",
    "    radian = float(input(\"Enter radian-\"))\n",
    "    print(radian,\"Radians\",\"=\",radian_to_degree(radian),\"Degrees.\")\n",
    "except ValueError:\n",
    "    print('\\nYou did not enter a valid numeric value')\n",
    "   "
   ]
  },
  {
   "cell_type": "code",
   "execution_count": 28,
   "id": "83cef7f1",
   "metadata": {},
   "outputs": [
    {
     "name": "stdout",
     "output_type": "stream",
     "text": [
      " Enter Number of check for Curzon number-\n",
      "5\n",
      "5 is a curzon number\n"
     ]
    }
   ],
   "source": [
    "# Q. 3\n",
    "def is_curzon(val):\n",
    "    power_addition = 2**val+1\n",
    "    multiplication_addition = 2*val+1\n",
    "    if power_addition%multiplication_addition==0:\n",
    "        return True\n",
    "    else: \n",
    "        return False\n",
    "\n",
    "try:\n",
    "    value=int(input(\" Enter Number of check for Curzon number-\\n\"))\n",
    "\n",
    "    if(value>0):\n",
    "        if is_curzon(value):\n",
    "            print(value,\"is a curzon number\")\n",
    "        else:\n",
    "            print(value,\"is not a curzon number\")\n",
    "\n",
    "except ValueError:\n",
    "    print('\\nYou did not enter a valid integer value')    \n",
    "    \n",
    "    \n",
    "    "
   ]
  },
  {
   "cell_type": "code",
   "execution_count": 27,
   "id": "9af5f144",
   "metadata": {},
   "outputs": [
    {
     "name": "stdout",
     "output_type": "stream",
     "text": [
      "Enter hexagon's side length-20\n",
      "Area of the hexagon is 1039.2\n"
     ]
    }
   ],
   "source": [
    "#Q.4\n",
    "import math\n",
    "\n",
    "def area_of_hexagon(side_length):\n",
    "    return round((3*math.sqrt(3)*side_length**2/2),1)\n",
    "\n",
    "\n",
    "try:\n",
    "    side_length = float(input(\"Enter hexagon's side length-\"))\n",
    "    print(\"Area of the hexagon is\",area_of_hexagon(side_length))\n",
    "except ValueError:\n",
    "    print('\\nYou did not enter a valid numeric value')\n",
    "    "
   ]
  },
  {
   "cell_type": "code",
   "execution_count": 26,
   "id": "8c4e70d2",
   "metadata": {},
   "outputs": [
    {
     "name": "stdout",
     "output_type": "stream",
     "text": [
      "please enter the no. in decimal format:5\n",
      "The Binary is- 101\n"
     ]
    }
   ],
   "source": [
    "#Q. 5\n",
    "\n",
    "# I am not sure about this problem statement.\n",
    "\n",
    "\n",
    "def binary(dec_num):\n",
    "    x=dec_num\n",
    "    k=[]\n",
    "    while (dec_num>0):\n",
    "        a=int(float(dec_num%2))\n",
    "        k.append(a)\n",
    "        dec_num=(dec_num-a)/2\n",
    "    \n",
    "    string=\"\"\n",
    "    \n",
    "    for j in k[::-1]:\n",
    "        string=string+str(j)\n",
    "        \n",
    "    return string\n",
    "\n",
    "\n",
    "\n",
    "\n",
    "dec_num=int(input(\"please enter the no. in decimal format:\" ))\n",
    "\n",
    "print(\"The Binary is-\",binary(dec_num))"
   ]
  },
  {
   "cell_type": "code",
   "execution_count": null,
   "id": "84ecad46",
   "metadata": {},
   "outputs": [],
   "source": []
  }
 ],
 "metadata": {
  "kernelspec": {
   "display_name": "Python 3 (ipykernel)",
   "language": "python",
   "name": "python3"
  },
  "language_info": {
   "codemirror_mode": {
    "name": "ipython",
    "version": 3
   },
   "file_extension": ".py",
   "mimetype": "text/x-python",
   "name": "python",
   "nbconvert_exporter": "python",
   "pygments_lexer": "ipython3",
   "version": "3.9.7"
  }
 },
 "nbformat": 4,
 "nbformat_minor": 5
}
