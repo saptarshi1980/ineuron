{
 "cells": [
  {
   "cell_type": "markdown",
   "id": "9357d0b8",
   "metadata": {},
   "source": [
    "# <center>Name: Saptarshi Sanyal\n",
    "# <center> Email: saptarshi.edp@gmail.com\n",
    "# <center>Programming Assignment_11"
   ]
  },
  {
   "cell_type": "markdown",
   "id": "92e1b079",
   "metadata": {},
   "source": [
    "### 1. Write a Python program to find words which are greater than given length k?"
   ]
  },
  {
   "cell_type": "code",
   "execution_count": 4,
   "id": "58fce14a",
   "metadata": {},
   "outputs": [
    {
     "name": "stdout",
     "output_type": "stream",
     "text": [
      "saptarshi has less than 15 characters.\n"
     ]
    }
   ],
   "source": [
    "def count_char(input_str,k):\n",
    "    input_str_len = len(input_str)\n",
    "    if input_str_len > k :\n",
    "        return True\n",
    "    else:\n",
    "        return False\n",
    "\n",
    "k = 15 # checking for lentgh of 15 characters\n",
    "input_str = \"saptarshi\"\n",
    "\n",
    "if count_char(input_str=input_str,k=k):\n",
    "    print(f\"{input_str} has more than {k} characters.\")\n",
    "else:\n",
    "    print(f\"{input_str} has less than {k} characters.\")\n",
    "    \n"
   ]
  },
  {
   "cell_type": "markdown",
   "id": "a65f0ca3",
   "metadata": {},
   "source": [
    "### 2. Write a Python program for removing i-th character from a string?"
   ]
  },
  {
   "cell_type": "code",
   "execution_count": 10,
   "id": "30a5f902",
   "metadata": {},
   "outputs": [
    {
     "data": {
      "text/plain": [
       "'Helo World'"
      ]
     },
     "execution_count": 10,
     "metadata": {},
     "output_type": "execute_result"
    }
   ],
   "source": [
    "#Using List Comprehension\n",
    "\n",
    "input_str=\"Hello World\"\n",
    "\n",
    "new_str=\"\"\n",
    "\n",
    "ith_char=2\n",
    "\n",
    "new_str.join([input_str[i] for i in range(len(input_str)) if i != ith_char])\n"
   ]
  },
  {
   "cell_type": "code",
   "execution_count": 11,
   "id": "9880fa23",
   "metadata": {},
   "outputs": [
    {
     "name": "stdout",
     "output_type": "stream",
     "text": [
      "Helo World\n"
     ]
    }
   ],
   "source": [
    "# Conventional approach\n",
    "\n",
    "input_str=\"Hello World\"\n",
    "new_str = \"\"\n",
    "ith_char=2\n",
    "for i in range(0,len(input_str)):\n",
    "    if i!=ith_char:\n",
    "        new_str=new_str+input_str[i]\n",
    "print(new_str) \n",
    "\n"
   ]
  },
  {
   "cell_type": "markdown",
   "id": "09554d37",
   "metadata": {},
   "source": [
    "### 3. Write a Python program to split and join a string?"
   ]
  },
  {
   "cell_type": "code",
   "execution_count": 17,
   "id": "dd0ce9e4",
   "metadata": {},
   "outputs": [
    {
     "name": "stdout",
     "output_type": "stream",
     "text": [
      "['I', 'am', 'passionate', 'about', 'Machine', 'Learning']\n",
      "I- -a-m- -p-a-s-s-i-o-n-a-t-e- -a-b-o-u-t- -M-a-c-h-i-n-e- -L-e-a-r-n-i-n-g\n"
     ]
    }
   ],
   "source": [
    "input_str = \"I am passionate about Machine Learning\"\n",
    "\n",
    "splitted_str= input_str.split(' ') # returns a list splitted by space\n",
    "\n",
    "print(splitted_str)\n",
    "\n",
    "\n",
    "joined_str = '-'.join(input_str) # returns a list joined by specific character\n",
    "\n",
    "print(joined_str)"
   ]
  },
  {
   "cell_type": "markdown",
   "id": "fb09480f",
   "metadata": {},
   "source": [
    "### 4. Write a Python to check if a given string is binary string or not?"
   ]
  },
  {
   "cell_type": "code",
   "execution_count": 32,
   "id": "fcdac65a",
   "metadata": {},
   "outputs": [
    {
     "name": "stdout",
     "output_type": "stream",
     "text": [
      "Not Binary String\n"
     ]
    }
   ],
   "source": [
    "def check_binary(input_str):\n",
    "    binary=\"01\"\n",
    "    flag=0\n",
    "    for char in input_str:\n",
    "        if char not in binary:\n",
    "            flag=1\n",
    "            break\n",
    "        else:\n",
    "            pass\n",
    "    if flag==1:\n",
    "        return False\n",
    "    else:\n",
    "        return True\n",
    "\n",
    "\n",
    "input_str=\"0100185\"\n",
    "#function calling\n",
    "if check_binary(input_str):\n",
    "    print(\"Binary String\")\n",
    "else:\n",
    "    print(\"Not Binary String\")"
   ]
  },
  {
   "cell_type": "markdown",
   "id": "ed1676ee",
   "metadata": {},
   "source": [
    "### 5. Write a Python program to find uncommon words from two Strings?"
   ]
  },
  {
   "cell_type": "code",
   "execution_count": 57,
   "id": "e0ebb415",
   "metadata": {},
   "outputs": [
    {
     "name": "stdout",
     "output_type": "stream",
     "text": [
      "Uncommon Words-  SAPTARSHI SAMRIDDHI\n"
     ]
    }
   ],
   "source": [
    "def uncommon_words(str1,str2):\n",
    "    \n",
    "    list_str1 = str1.split()\n",
    "    list_str2 = str2.split()\n",
    "    \n",
    "    uncommon_words = \"\"\n",
    "    \n",
    "    for i in list_str1:\n",
    "        if i not in list_str2:\n",
    "            uncommon_words =  uncommon_words+\" \"+i\n",
    "            \n",
    "    for j in list_str2:\n",
    "        if j not in list_str1:\n",
    "             uncommon_words =  uncommon_words+\" \"+j\n",
    "  \n",
    "    return  uncommon_words\n",
    "  \n",
    "\n",
    "a = \"SAPTARSHI SANYAL\"\n",
    "b = \"SAMRIDDHI SANYAL\"\n",
    "\n",
    "print(\"Uncommon Words-\",uncommon_words(a,b))"
   ]
  },
  {
   "cell_type": "markdown",
   "id": "6987c1ca",
   "metadata": {},
   "source": [
    "### 6. Write a Python to find all duplicate characters in string?"
   ]
  },
  {
   "cell_type": "code",
   "execution_count": 54,
   "id": "2d367124",
   "metadata": {},
   "outputs": [
    {
     "name": "stdout",
     "output_type": "stream",
     "text": [
      "Enter a string = sdasdklaskld\n",
      "l  appeared  2  times\n",
      "d  appeared  3  times\n",
      "k  appeared  2  times\n",
      "a  appeared  2  times\n",
      "s  appeared  3  times\n"
     ]
    }
   ],
   "source": [
    "def find_duplicate_char(x):\n",
    "    result = {}\n",
    "    for char in set(x):\n",
    "        result[char]=x.count(char)\n",
    "    return result\n",
    "\n",
    "\n",
    "x =input(\"Enter a string = \")\n",
    "\n",
    "for key,val in find_duplicate_char(x).items():\n",
    "    if val>1:\n",
    "        print(key,\" appeared \",val,\" times\")"
   ]
  },
  {
   "cell_type": "markdown",
   "id": "de58e51d",
   "metadata": {},
   "source": [
    "### 7. Write a Python Program to check if a string contains any special character?"
   ]
  },
  {
   "cell_type": "code",
   "execution_count": 48,
   "id": "7c0ed10c",
   "metadata": {},
   "outputs": [
    {
     "name": "stdout",
     "output_type": "stream",
     "text": [
      "Input String does not have special character\n"
     ]
    }
   ],
   "source": [
    "import re\n",
    "\n",
    "def check_spl_char(input_str):\n",
    "    \n",
    "    regex = re.compile('[@_!#$%^&*()<>?/\\|}{~:]')\n",
    "\n",
    "    if(regex.search(input_str) == None):\n",
    "        return False\n",
    "         \n",
    "    else:\n",
    "\n",
    "        return True\n",
    "\n",
    "input_str=\"Saptarshi Sanyal\"\n",
    "#input_str=\"Saptarshi@Sanyal\"\n",
    "\n",
    "if check_spl_char(input_str):\n",
    "    print(\"Input String has special character\")\n",
    "else:\n",
    "    print(\"Input String does not have special character\")\n",
    "    "
   ]
  },
  {
   "cell_type": "code",
   "execution_count": null,
   "id": "926627db",
   "metadata": {},
   "outputs": [],
   "source": []
  },
  {
   "cell_type": "code",
   "execution_count": null,
   "id": "6bb73fb1",
   "metadata": {},
   "outputs": [],
   "source": []
  }
 ],
 "metadata": {
  "kernelspec": {
   "display_name": "Python 3 (ipykernel)",
   "language": "python",
   "name": "python3"
  },
  "language_info": {
   "codemirror_mode": {
    "name": "ipython",
    "version": 3
   },
   "file_extension": ".py",
   "mimetype": "text/x-python",
   "name": "python",
   "nbconvert_exporter": "python",
   "pygments_lexer": "ipython3",
   "version": "3.9.7"
  }
 },
 "nbformat": 4,
 "nbformat_minor": 5
}
