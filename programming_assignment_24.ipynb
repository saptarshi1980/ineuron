{
 "cells": [
  {
   "cell_type": "code",
   "execution_count": 27,
   "id": "20c7db2c",
   "metadata": {},
   "outputs": [
    {
     "name": "stdout",
     "output_type": "stream",
     "text": [
      "[1, 2, 3, 40]\n",
      "[1, 2, 3]\n",
      "[1, 2, 3, 4, 5, 6, 7, 8, 9, 10, 11, 12, 13, 14, 15, 16, 17, 18, 19, 20, 21, 22, 23, 24, 25]\n"
     ]
    }
   ],
   "source": [
    "#Q. 1\n",
    "\n",
    "def amplify(number):\n",
    "    \"\"\"\n",
    "    Create a function that takes an integer and returns a list from 1 to the given number, where:\n",
    "        1. If the number can be divided evenly by 4, amplify it by 10 (i.e. return 10 times the number).\n",
    "        2. If the number cannot be divided evenly by 4, simply return the number.\n",
    "    \n",
    "    \"\"\"\n",
    "    \n",
    "    result=[]\n",
    "    if number > 1:\n",
    "       \n",
    "        \n",
    "        if number%4 == 0:\n",
    "            result = [x for x in range(1,number)]+[number * 10]\n",
    "        else:\n",
    "            result = [x for x in range(1,number+1)]\n",
    "            \n",
    "            \n",
    "        return result    \n",
    "           \n",
    "        \n",
    "print(amplify(4))        \n",
    "print(amplify(3)) \n",
    "print(amplify(25))          "
   ]
  },
  {
   "cell_type": "code",
   "execution_count": 37,
   "id": "3b47b7f2",
   "metadata": {},
   "outputs": [
    {
     "name": "stdout",
     "output_type": "stream",
     "text": [
      "7\n",
      "0.77\n",
      "1\n"
     ]
    }
   ],
   "source": [
    "# Q. 2\n",
    "from collections import Counter\n",
    "\n",
    "def unique(list_1):\n",
    "    \n",
    "    \"\"\"\n",
    "    Create a function that takes a list of numbers and return the number that's unique.\n",
    "    \"\"\"\n",
    "    temp=Counter(list_1)\n",
    "    return temp.most_common()[1][0]\n",
    "    \n",
    "print(unique([3,3,3,7,3,3]))\n",
    "print(unique([0,0,0,0.77,0,0]))\n",
    "print(unique([0,0,0,1,0,0]))"
   ]
  },
  {
   "cell_type": "code",
   "execution_count": 42,
   "id": "7f5e4255",
   "metadata": {},
   "outputs": [
    {
     "data": {
      "text/plain": [
       "28"
      ]
     },
     "execution_count": 42,
     "metadata": {},
     "output_type": "execute_result"
    }
   ],
   "source": [
    "# Q. 3\n",
    "\n",
    "\n",
    "import math\n",
    "\n",
    "class Circle:\n",
    "    \n",
    "    \"\"\"\n",
    "    * Circle class with constructor that accepts radius.\n",
    "    * Two getters for Area calculation and perimiter calculation.\n",
    "    * Round results up to the nearest integer.\n",
    "    \n",
    "    \"\"\"\n",
    "    def __init__(self,r):\n",
    "        self.r = r\n",
    "    \n",
    "    def getArea(self):\n",
    "        return round(math.pi*(self.r**2))\n",
    "    \n",
    "    def getPerimeter(self):\n",
    "        return round(2*math.pi*self.r)\n",
    "    \n",
    "circy = Circle(11)\n",
    "circy.getArea()\n",
    "\n",
    "circy = Circle(4.44)\n",
    "circy.getPerimeter()"
   ]
  },
  {
   "cell_type": "code",
   "execution_count": 61,
   "id": "de06b5d5",
   "metadata": {},
   "outputs": [
    {
     "name": "stdout",
     "output_type": "stream",
     "text": [
      "['Apple', 'Google', 'Microsoft']\n",
      "['Jung', 'Turing', 'Einstein']\n"
     ]
    }
   ],
   "source": [
    "# Q.4\n",
    "\n",
    "from collections import OrderedDict\n",
    "\n",
    "def sort_by_length(list_1):\n",
    "    \n",
    "    \"\"\"\n",
    "    Takes a list of strings and return a list, sorted from shortest to longest.\n",
    "\n",
    "    \"\"\"\n",
    "\n",
    "    dict_1={}\n",
    "    for ele in list_1:\n",
    "        dict_1[ele]=len(ele)\n",
    "        \n",
    "    dict_1 = {k: v for k, v in sorted(dict_1.items(), key=lambda x: x[1])}\n",
    "    return list(dict_1.keys())\n",
    "        \n",
    "\n",
    "print(sort_by_length([\"Google\",\"Apple\",\"Microsoft\"]))\n",
    "print(sort_by_length([\"Turing\",\"Einstein\",\"Jung\"]))\n",
    "\n",
    "\n",
    "    \n",
    "    "
   ]
  },
  {
   "cell_type": "code",
   "execution_count": 70,
   "id": "869ad726",
   "metadata": {},
   "outputs": [
    {
     "name": "stdout",
     "output_type": "stream",
     "text": [
      "True\n",
      "True\n",
      "False\n",
      "True\n",
      "True\n"
     ]
    }
   ],
   "source": [
    "# Q.5\n",
    "\n",
    "\n",
    "\n",
    "def is_triplet(a,b,c):\n",
    "    \n",
    "    \"\"\"\n",
    "    function that validates whether three given integers form a Pythagorean triplet. The\n",
    "    sum of the squares of the two smallest integers must equal the square of the largest number to\n",
    "    be validated.\n",
    "    \"\"\"\n",
    "    \n",
    "    square_a=a**2\n",
    "    square_b=b**2\n",
    "    square_c=c**2\n",
    "    \n",
    "\n",
    "    if a > b and a > c :\n",
    "        if square_b+square_c==square_a:\n",
    "            return True\n",
    "        else: \n",
    "            return False\n",
    "        \n",
    "    elif b > c :\n",
    "        if square_a+square_c==square_b:\n",
    "            return True\n",
    "        else: \n",
    "            return False\n",
    "    else :\n",
    "        if square_a+square_b==square_c:\n",
    "            return True\n",
    "        else: \n",
    "            return False\n",
    "        \n",
    "    \n",
    "print(is_triplet(3,4,5))\n",
    "print(is_triplet(13,5,12))\n",
    "print(is_triplet(1,2,3))\n",
    "print(is_triplet(5,4,3))\n",
    "print(is_triplet(4,5,3))\n"
   ]
  }
 ],
 "metadata": {
  "kernelspec": {
   "display_name": "Python 3 (ipykernel)",
   "language": "python",
   "name": "python3"
  },
  "language_info": {
   "codemirror_mode": {
    "name": "ipython",
    "version": 3
   },
   "file_extension": ".py",
   "mimetype": "text/x-python",
   "name": "python",
   "nbconvert_exporter": "python",
   "pygments_lexer": "ipython3",
   "version": "3.9.7"
  }
 },
 "nbformat": 4,
 "nbformat_minor": 5
}
