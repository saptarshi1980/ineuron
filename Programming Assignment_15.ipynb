{
 "cells": [
  {
   "cell_type": "markdown",
   "id": "d9b90f8f",
   "metadata": {},
   "source": [
    "#### Question 1: Please write a program using generator to print the numbers which can be divisible by 5 and 7 between 0 and n in comma separated form while n is input by console.\n"
   ]
  },
  {
   "cell_type": "code",
   "execution_count": 15,
   "id": "708ad422",
   "metadata": {},
   "outputs": [],
   "source": [
    "def numDiv(n):\n",
    "    \n",
    "    for i in range(0,n):\n",
    "        if i % 5 == 0 and i % 7 == 0:\n",
    "            yield i    \n",
    "        "
   ]
  },
  {
   "cell_type": "code",
   "execution_count": 17,
   "id": "931bea42",
   "metadata": {},
   "outputs": [
    {
     "name": "stdout",
     "output_type": "stream",
     "text": [
      "Enter number100\n",
      "0,35,70\n"
     ]
    }
   ],
   "source": [
    "n=int(input(\"Enter number\"))\n",
    "values = []\n",
    "for i in numDiv(n):\n",
    "    values.append(str(i))\n",
    "\n",
    "print (\",\".join(values))"
   ]
  },
  {
   "cell_type": "markdown",
   "id": "6c5ca10b",
   "metadata": {},
   "source": [
    "#### Question 2: Please write a program using generator to print the even numbers between 0 and n in comma separated form while n is input by console.\n"
   ]
  },
  {
   "cell_type": "code",
   "execution_count": 33,
   "id": "5f47c1a9",
   "metadata": {},
   "outputs": [
    {
     "name": "stdout",
     "output_type": "stream",
     "text": [
      "Enter number10\n",
      "0,2,4,6,8,10\n"
     ]
    }
   ],
   "source": [
    "def printEven(n):\n",
    "    i=0\n",
    "    while i<=n:\n",
    "        if i%2==0:\n",
    "            yield i\n",
    "        i+=1\n",
    "\n",
    "\n",
    "n=int(input(\"Enter number\"))\n",
    "values = []\n",
    "for i in printEven(n):\n",
    "    values.append(str(i))\n",
    "\n",
    "print (\",\".join(values))"
   ]
  },
  {
   "cell_type": "code",
   "execution_count": 32,
   "id": "7de0e8a1",
   "metadata": {},
   "outputs": [
    {
     "name": "stdout",
     "output_type": "stream",
     "text": [
      "Enter number10\n",
      "0,1,1,2,3,5,8,13,21,34,55\n"
     ]
    }
   ],
   "source": [
    "# Q.3 \n",
    "def fib(n):\n",
    "    if n < 2: \n",
    "        return n\n",
    "    return fib(n-1)+fib(n-2)\n",
    "\n",
    "def print_fiblist(n):\n",
    "    fib_list = [(str(fib(i))) for i in range(0, n+1)]\n",
    "    return print(\",\".join(fib_list))\n",
    "\n",
    "n = int(input(\"Enter number\"))\n",
    "print_fiblist(n)"
   ]
  },
  {
   "cell_type": "code",
   "execution_count": 31,
   "id": "8ca11d66",
   "metadata": {},
   "outputs": [
    {
     "name": "stdout",
     "output_type": "stream",
     "text": [
      "saptarshi\n"
     ]
    }
   ],
   "source": [
    "# Q.4\n",
    "def name_email(email):\n",
    "    return email.split('@')[0]\n",
    "\n",
    "print(name_email(\"saptarshi@dpl.net.in\"))\n",
    "    "
   ]
  },
  {
   "cell_type": "code",
   "execution_count": 30,
   "id": "8293ed0f",
   "metadata": {},
   "outputs": [],
   "source": [
    "# Q.5\n",
    "class shape:\n",
    "    \n",
    "    def area(self):\n",
    "        return 0\n",
    "    \n",
    "class square(shape):\n",
    "    def __init__(self,length):\n",
    "        self.length=length\n",
    "            \n",
    "    def area(self):\n",
    "        return self.length**2\n",
    "\n",
    "            "
   ]
  },
  {
   "cell_type": "code",
   "execution_count": null,
   "id": "4975509d",
   "metadata": {},
   "outputs": [],
   "source": []
  }
 ],
 "metadata": {
  "kernelspec": {
   "display_name": "Python 3 (ipykernel)",
   "language": "python",
   "name": "python3"
  },
  "language_info": {
   "codemirror_mode": {
    "name": "ipython",
    "version": 3
   },
   "file_extension": ".py",
   "mimetype": "text/x-python",
   "name": "python",
   "nbconvert_exporter": "python",
   "pygments_lexer": "ipython3",
   "version": "3.9.7"
  }
 },
 "nbformat": 4,
 "nbformat_minor": 5
}
