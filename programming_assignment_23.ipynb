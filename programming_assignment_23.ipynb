{
 "cells": [
  {
   "cell_type": "code",
   "execution_count": 10,
   "id": "656dbb80",
   "metadata": {},
   "outputs": [
    {
     "name": "stdout",
     "output_type": "stream",
     "text": [
      "True\n",
      "False\n",
      "True\n",
      "False\n",
      "True\n"
     ]
    }
   ],
   "source": [
    "#Q.1\n",
    "\n",
    "def is_symmetrical(number):\n",
    "    \n",
    "    \"\"\"\n",
    "    Takes an number and checks if the number = reverse of that number, i.e whether they are symmetrical.\n",
    "    returns True or False depending on whether the number is symmetrical or not.\n",
    "    \"\"\"\n",
    "    \n",
    "    temp=int(str(number)[::-1])\n",
    "    \n",
    "    if number == temp:\n",
    "        return True\n",
    "    else:\n",
    "        return False\n",
    "    \n",
    "   \n",
    "\n",
    "    \n",
    "print(is_symmetrical(7227))\n",
    "\n",
    "print(is_symmetrical(12567))\n",
    "\n",
    "print(is_symmetrical(44444444))\n",
    "\n",
    "print(is_symmetrical(9939))\n",
    "\n",
    "print(is_symmetrical(1112111))\n"
   ]
  },
  {
   "cell_type": "code",
   "execution_count": 18,
   "id": "1b6ce4db",
   "metadata": {},
   "outputs": [
    {
     "name": "stdout",
     "output_type": "stream",
     "text": [
      "6\n",
      "24\n",
      "0\n",
      "-20\n"
     ]
    }
   ],
   "source": [
    "#Q.1\n",
    "\n",
    "def multiply_nums(string):\n",
    "    \n",
    "    \"\"\"\n",
    "    Takes a string of number separated by comma and space\n",
    "    retuns the multiplication of input numbers.\n",
    "    \"\"\"\n",
    "    \n",
    "    temp = string.split(\", \")\n",
    "    result=1\n",
    "    \n",
    "    for num in temp:\n",
    "        result*=int(num)\n",
    "    \n",
    "    return result\n",
    "\n",
    "print(multiply_nums(\"2, 3\"))\n",
    "print(multiply_nums(\"1, 2, 3, 4\"))\n",
    "print(multiply_nums(\"54, 75, 453, 0\"))\n",
    "print(multiply_nums(\"10, -2\"))"
   ]
  },
  {
   "cell_type": "code",
   "execution_count": 37,
   "id": "74b4d371",
   "metadata": {},
   "outputs": [
    {
     "name": "stdout",
     "output_type": "stream",
     "text": [
      "49949\n",
      "416649\n",
      "9414\n"
     ]
    }
   ],
   "source": [
    "# Q.3\n",
    "def square_digits(num):\n",
    "    \n",
    "    \"\"\"\n",
    "    Takes a number\n",
    "    returns square of each number in the number\n",
    "    \"\"\"\n",
    "    if type(num)== int:\n",
    "    \n",
    "        temp_list = str(num)\n",
    "        result=\"\"\n",
    "\n",
    "        for i in temp_list:\n",
    "            result=result+str((int(i)**2))\n",
    "\n",
    "        return result\n",
    "    else:\n",
    "        print(\"invalid input\")\n",
    "    \n",
    "        \n",
    "        \n",
    "print(square_digits(23323))\n",
    "print(square_digits(2483)) \n",
    "print(square_digits(3212)) \n",
    "\n",
    "    "
   ]
  },
  {
   "cell_type": "code",
   "execution_count": 44,
   "id": "14e11f76",
   "metadata": {},
   "outputs": [
    {
     "name": "stdout",
     "output_type": "stream",
     "text": [
      "[5, 6, 7, 8, 10, 11, 12, 13, 14, 15]\n"
     ]
    }
   ],
   "source": [
    "# Q. 4\n",
    "\n",
    "def setify(input):\n",
    "    \n",
    "    \"\"\"\n",
    "    Accepts a list with integers and sorts the list and removes all duplicate items from it.\n",
    "    \n",
    "    \"\"\"\n",
    "    \n",
    "    input.sort()\n",
    "    \n",
    "    input=set(input)\n",
    "    \n",
    "    return list(input)\n",
    "\n",
    "\n",
    "print(setify([12,13,10,15,14,11,10,12,8,7,5,6,7,8,7]))"
   ]
  },
  {
   "cell_type": "code",
   "execution_count": 48,
   "id": "ff9731ac",
   "metadata": {},
   "outputs": [
    {
     "name": "stdout",
     "output_type": "stream",
     "text": [
      "3\n",
      "3\n",
      "6\n"
     ]
    }
   ],
   "source": [
    "#Q.5\n",
    "\n",
    "\n",
    "\n",
    "def mean(input):\n",
    "    \n",
    "    \"\"\"\n",
    "    Accepts a digits\n",
    "    returns the mean of of all the digits\n",
    "    \"\"\"\n",
    "    \n",
    "    sum=0\n",
    "    \n",
    "    for i in str(input):\n",
    "        \n",
    "        sum+=int(i)\n",
    "        \n",
    "    return round(sum/(len(str(input))))   \n",
    "\n",
    "print(mean(42))\n",
    "print(mean(12345))\n",
    "print(mean(666))\n",
    "\n",
    "        "
   ]
  },
  {
   "cell_type": "code",
   "execution_count": null,
   "id": "cdf1e82b",
   "metadata": {},
   "outputs": [],
   "source": []
  }
 ],
 "metadata": {
  "kernelspec": {
   "display_name": "Python 3 (ipykernel)",
   "language": "python",
   "name": "python3"
  },
  "language_info": {
   "codemirror_mode": {
    "name": "ipython",
    "version": 3
   },
   "file_extension": ".py",
   "mimetype": "text/x-python",
   "name": "python",
   "nbconvert_exporter": "python",
   "pygments_lexer": "ipython3",
   "version": "3.9.7"
  }
 },
 "nbformat": 4,
 "nbformat_minor": 5
}
