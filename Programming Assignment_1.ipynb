{
 "cells": [
  {
   "cell_type": "markdown",
   "id": "8ccfed32",
   "metadata": {},
   "source": [
    "# <center>Programming Assignment_1"
   ]
  },
  {
   "cell_type": "markdown",
   "id": "3b51ccdd",
   "metadata": {},
   "source": [
    "### 1. Write a Python program to print 'Hello Python'?"
   ]
  },
  {
   "cell_type": "code",
   "execution_count": 1,
   "id": "faeddabf",
   "metadata": {},
   "outputs": [
    {
     "name": "stdout",
     "output_type": "stream",
     "text": [
      "Hello Python\n"
     ]
    }
   ],
   "source": [
    "print('Hello Python')"
   ]
  },
  {
   "cell_type": "markdown",
   "id": "261ba048",
   "metadata": {},
   "source": [
    "## 2. Write a Python program to do arithmetical operations addition and division.?"
   ]
  },
  {
   "cell_type": "code",
   "execution_count": 2,
   "id": "f4357642",
   "metadata": {},
   "outputs": [
    {
     "name": "stdout",
     "output_type": "stream",
     "text": [
      "Result of Addtion of 10 and 2 is: 12\n",
      "Result of Division of 10 and 2 is: 5.0\n"
     ]
    }
   ],
   "source": [
    "a = 10;\n",
    "b = 2;\n",
    "\n",
    "additon_result = a + b\n",
    "division_result = a / b\n",
    "\n",
    "print(f\"Result of Addtion of {a} and {b} is: {additon_result}\")\n",
    "print(f\"Result of Division of {a} and {b} is: {division_result}\")"
   ]
  },
  {
   "cell_type": "markdown",
   "id": "7310429c",
   "metadata": {},
   "source": [
    "### 3. Write a Python program to find the area of a triangle?"
   ]
  },
  {
   "cell_type": "code",
   "execution_count": 3,
   "id": "7867662e",
   "metadata": {},
   "outputs": [
    {
     "name": "stdout",
     "output_type": "stream",
     "text": [
      "Area of Triangle with base of 6 and height8 is: 24.0\n"
     ]
    }
   ],
   "source": [
    "base = 6\n",
    "height = 8\n",
    "\n",
    "area_triangle = 1/2* base* height\n",
    "\n",
    "print(f\"Area of Triangle with base of {base} and height{height} is: {area_triangle}\")\n"
   ]
  },
  {
   "cell_type": "markdown",
   "id": "595d6a2a",
   "metadata": {},
   "source": [
    "### 4.Write a Python program to swap two variables?"
   ]
  },
  {
   "cell_type": "code",
   "execution_count": 5,
   "id": "c440e847",
   "metadata": {},
   "outputs": [
    {
     "name": "stdout",
     "output_type": "stream",
     "text": [
      "Before swapping x=10 and y=20\n",
      "After swapping x=20 and y=10\n"
     ]
    }
   ],
   "source": [
    "x = 10\n",
    "y = 20\n",
    "\n",
    "print(f\"Before swapping x={x} and y={y}\")\n",
    "\n",
    "temp = x\n",
    "x = y\n",
    "y = temp\n",
    "\n",
    "print(f\"After swapping x={x} and y={y}\")\n"
   ]
  },
  {
   "cell_type": "markdown",
   "id": "23734a0d",
   "metadata": {},
   "source": [
    "### 5. Write a Python program to generate a random number?"
   ]
  },
  {
   "cell_type": "code",
   "execution_count": 35,
   "id": "67eba430",
   "metadata": {},
   "outputs": [
    {
     "name": "stdout",
     "output_type": "stream",
     "text": [
      "8\n"
     ]
    }
   ],
   "source": [
    "import random\n",
    "\n",
    "x = random.randint(0,10) # This will generate a random integer between 0 and 10\n",
    "\n",
    "print(x)"
   ]
  },
  {
   "cell_type": "code",
   "execution_count": null,
   "id": "d4e2e436",
   "metadata": {},
   "outputs": [],
   "source": []
  }
 ],
 "metadata": {
  "kernelspec": {
   "display_name": "Python 3 (ipykernel)",
   "language": "python",
   "name": "python3"
  },
  "language_info": {
   "codemirror_mode": {
    "name": "ipython",
    "version": 3
   },
   "file_extension": ".py",
   "mimetype": "text/x-python",
   "name": "python",
   "nbconvert_exporter": "python",
   "pygments_lexer": "ipython3",
   "version": "3.9.7"
  }
 },
 "nbformat": 4,
 "nbformat_minor": 5
}
