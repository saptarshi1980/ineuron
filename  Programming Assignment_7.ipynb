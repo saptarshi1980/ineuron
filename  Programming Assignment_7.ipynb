{
 "cells": [
  {
   "cell_type": "markdown",
   "id": "81bb803b",
   "metadata": {},
   "source": [
    "# <center>Name: Saptarshi Sanyal\n",
    "# <center> Email: saptarshi.edp@gmail.com\n",
    "# <center>Programming Assignment_7\n",
    "   "
   ]
  },
  {
   "cell_type": "markdown",
   "id": "7391c29f",
   "metadata": {},
   "source": [
    "### 1. Write a Python Program to find sum of array?"
   ]
  },
  {
   "cell_type": "code",
   "execution_count": 1,
   "id": "3ddcee1f",
   "metadata": {},
   "outputs": [
    {
     "name": "stdout",
     "output_type": "stream",
     "text": [
      "Sum of array elements=105\n"
     ]
    }
   ],
   "source": [
    "#Version 1- This is list represetation of array\n",
    "array_1=[5,10,15,20,25,30]\n",
    "sum = 0 \n",
    "for i in array_1:\n",
    "    sum+=i\n",
    "print(f'Sum of array elements={sum}')    "
   ]
  },
  {
   "cell_type": "code",
   "execution_count": 17,
   "id": "9ae80b34",
   "metadata": {},
   "outputs": [
    {
     "name": "stdout",
     "output_type": "stream",
     "text": [
      "105\n"
     ]
    }
   ],
   "source": [
    "# Version 2- Array Implementation\n",
    "import array as arr\n",
    "a = arr.array('i', [5,10,15,20,25,30])\n",
    "sum = 0  \n",
    "for i in range(0,len(a)):\n",
    "    sum+=a[i]\n",
    "print(sum)"
   ]
  },
  {
   "cell_type": "markdown",
   "id": "57a1e03c",
   "metadata": {},
   "source": [
    "### 2. Write a Python Program to find largest element in an array?"
   ]
  },
  {
   "cell_type": "code",
   "execution_count": 3,
   "id": "b587e877",
   "metadata": {},
   "outputs": [
    {
     "name": "stdout",
     "output_type": "stream",
     "text": [
      "Largest value of array=45\n"
     ]
    }
   ],
   "source": [
    "#Version 1- This is list represetation of array\n",
    "\n",
    "array_1=[5,10,45,20,25,30]\n",
    "largest= 0 \n",
    "for i in array_1:\n",
    "    if i>largest:\n",
    "        largest=i\n",
    "print(f'Largest value of array={largest}')         "
   ]
  },
  {
   "cell_type": "code",
   "execution_count": 19,
   "id": "2acc7e97",
   "metadata": {},
   "outputs": [
    {
     "name": "stdout",
     "output_type": "stream",
     "text": [
      "75\n"
     ]
    }
   ],
   "source": [
    "# Version 2- Array Implementation\n",
    "import array as arr\n",
    "a = arr.array('i', [5,10,75,20,25,30])\n",
    "largest = 0  \n",
    "for i in range(0,len(a)):\n",
    "    if a[i]>largest:\n",
    "        largest=a[i]\n",
    "    \n",
    "print(largest)"
   ]
  },
  {
   "cell_type": "markdown",
   "id": "02033903",
   "metadata": {},
   "source": [
    "### 3. Write a Python Program for array rotation?"
   ]
  },
  {
   "cell_type": "code",
   "execution_count": 13,
   "id": "972fb740",
   "metadata": {},
   "outputs": [
    {
     "name": "stdout",
     "output_type": "stream",
     "text": [
      "Initial-array('i', [5, 10, 75, 20, 25, 30])\n",
      "After rotating two positions....\n",
      "array('i', [75, 20, 25, 30, 5, 10])\n"
     ]
    }
   ],
   "source": [
    "import array as arr\n",
    "a = arr.array('i', [5,10,75,20,25,30])\n",
    "print(f\"Initial-{a}\")\n",
    "temp = a[:2]\n",
    "a = a[2:]+temp\n",
    "print(\"After rotating two positions....\")\n",
    "print(a)"
   ]
  },
  {
   "cell_type": "markdown",
   "id": "8b5eeeda",
   "metadata": {},
   "source": [
    "### 4. Write a Python Program to Split the array and add the first part to the end?"
   ]
  },
  {
   "cell_type": "code",
   "execution_count": 21,
   "id": "25d843ff",
   "metadata": {},
   "outputs": [
    {
     "name": "stdout",
     "output_type": "stream",
     "text": [
      "Split First part- array('i', [5, 10, 75, 20])\n",
      "Split Second Part- array('i', [25, 30, 60, 70])\n",
      "Final Array-  array('i', [5, 10, 75, 20, 25, 30, 60, 70, 5, 10, 75, 20])\n"
     ]
    }
   ],
   "source": [
    "import array as arr\n",
    "a = arr.array('i', [5,10,75,20,25,30,60,70])\n",
    "a_length=len(a)\n",
    "half_length = int(a_length/2)\n",
    "part_1=a[:half_length] # Split first Part\n",
    "part_2=a[half_length:] # Split second Part\n",
    "\n",
    "print(\"Split First part-\",part_1)\n",
    "print(\"Split Second Part-\",part_2)\n",
    "\n",
    "final_array = a+part_1 # Adding the first part to the end\n",
    "print(\"Final Array- \",final_array)"
   ]
  },
  {
   "cell_type": "markdown",
   "id": "31e25292",
   "metadata": {},
   "source": [
    "### 5. Write a Python Program to check if given array is Monotonic?"
   ]
  },
  {
   "cell_type": "code",
   "execution_count": 39,
   "id": "032be290",
   "metadata": {},
   "outputs": [
    {
     "name": "stdout",
     "output_type": "stream",
     "text": [
      "False\n",
      "8\n",
      "5 10\n",
      "True\n"
     ]
    }
   ],
   "source": [
    "import array as arr\n",
    "ar = arr.array('i', [5,10,75,20,25,30,60,70])\n",
    "\n",
    "def check_monotonic_decresing(ar):\n",
    "    \n",
    "    for i in range(0,len(ar)):\n",
    "        if int(ar[i])>=int(ar[i+1]) :\n",
    "            return True\n",
    "    \n",
    "        else:\n",
    "            return False\n",
    "        \n",
    "def check_monotonic_increasing(ar):\n",
    "    print(len(ar))\n",
    "    for i in range(0,len(ar)):\n",
    "        if int(ar[i])<=int(ar[i+1]):\n",
    "            print(ar[i],ar[i+1])\n",
    "            return True\n",
    "    \n",
    "        else:\n",
    "            print(ar[i],ar[i+1])\n",
    "            return False\n",
    "                    \n",
    "            \n",
    "            \n",
    "\n",
    "\n",
    "\n",
    "print(check_monotonic_decresing(ar))\n",
    "print(check_monotonic_increasing(ar))\n",
    "\n"
   ]
  },
  {
   "cell_type": "code",
   "execution_count": null,
   "id": "eab4fc6c",
   "metadata": {},
   "outputs": [],
   "source": []
  }
 ],
 "metadata": {
  "kernelspec": {
   "display_name": "Python 3 (ipykernel)",
   "language": "python",
   "name": "python3"
  },
  "language_info": {
   "codemirror_mode": {
    "name": "ipython",
    "version": 3
   },
   "file_extension": ".py",
   "mimetype": "text/x-python",
   "name": "python",
   "nbconvert_exporter": "python",
   "pygments_lexer": "ipython3",
   "version": "3.9.7"
  }
 },
 "nbformat": 4,
 "nbformat_minor": 5
}
