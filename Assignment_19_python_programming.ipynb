{
 "cells": [
  {
   "cell_type": "markdown",
   "id": "8bb97231",
   "metadata": {},
   "source": [
    "#### 1. Make a class called Thing with no contents and print it. Then, create an object called example from this class and also print it. Are the printed values the same or different?"
   ]
  },
  {
   "cell_type": "code",
   "execution_count": 61,
   "id": "20938d13",
   "metadata": {},
   "outputs": [
    {
     "name": "stdout",
     "output_type": "stream",
     "text": [
      "<class '__main__.Thing'>\n",
      "<__main__.Thing object at 0x0000020D0252A640>\n"
     ]
    }
   ],
   "source": [
    "class Thing:\n",
    "    pass\n",
    "print(Thing)\n",
    "\n",
    "example = Thing()\n",
    "\n",
    "print(example)\n",
    "\n",
    "#Printed values are different"
   ]
  },
  {
   "cell_type": "markdown",
   "id": "bf22b304",
   "metadata": {},
   "source": [
    "#### 2. Create a new class called Thing2 and add the value 'abc' to the letters class attribute. Letters should be printed."
   ]
  },
  {
   "cell_type": "code",
   "execution_count": 62,
   "id": "3983defe",
   "metadata": {},
   "outputs": [
    {
     "name": "stdout",
     "output_type": "stream",
     "text": [
      "abc\n"
     ]
    }
   ],
   "source": [
    "class Thing2:\n",
    "    def __init__(self,letters):\n",
    "        self.letters = letters\n",
    "    def print_letters(self):\n",
    "        print(self.letters)\n",
    "obj =  Thing2(\"abc\")\n",
    "obj.print_letters()"
   ]
  },
  {
   "cell_type": "markdown",
   "id": "d8189873",
   "metadata": {},
   "source": [
    "#### 3. Make yet another class called, of course, Thing3. This time, assign the value 'xyz' to an instance (object) attribute called letters. Print letters. Do you need to make an object from the class to do this?"
   ]
  },
  {
   "cell_type": "code",
   "execution_count": 63,
   "id": "d7a86f3e",
   "metadata": {},
   "outputs": [
    {
     "name": "stdout",
     "output_type": "stream",
     "text": [
      "xyz\n"
     ]
    }
   ],
   "source": [
    "class Thing3:\n",
    "    def __init__(self,letters):\n",
    "        self.letters =letters\n",
    "    def print_letters(self):\n",
    "        print(self.letters)\n",
    "Thing3(\"xyz\").print_letters()\n",
    "# Although no variable is created but object is still being created in the background."
   ]
  },
  {
   "cell_type": "markdown",
   "id": "92cfefa0",
   "metadata": {},
   "source": [
    "#### 4. Create an Element class with the instance attributes name, symbol, and number. Create a class object with the values 'Hydrogen,' 'H,' and 1."
   ]
  },
  {
   "cell_type": "code",
   "execution_count": 64,
   "id": "3310149a",
   "metadata": {},
   "outputs": [],
   "source": [
    "class Element:\n",
    "    def __init__(self,name,symbol,number):\n",
    "        self.name=name\n",
    "        self.symbol=symbol\n",
    "        self.number=number\n",
    "        \n",
    "obj_element = Element('Hydrogen' ,'H','1')"
   ]
  },
  {
   "cell_type": "markdown",
   "id": "2b06a6c2",
   "metadata": {},
   "source": [
    "#### 5. Make a dictionary with these keys and values: 'name': 'Hydrogen', 'symbol': 'H', 'number': 1. Then, create an object called hydrogen from class Element using this dictionary."
   ]
  },
  {
   "cell_type": "code",
   "execution_count": 65,
   "id": "110b6aee",
   "metadata": {},
   "outputs": [
    {
     "name": "stdout",
     "output_type": "stream",
     "text": [
      "Hydrogen\n",
      "H\n",
      "1\n"
     ]
    }
   ],
   "source": [
    "dict_h = {'name': 'Hydrogen', 'symbol': 'H', 'number': 1}\n",
    "\n",
    "class Element:\n",
    "    \n",
    "    def __init__(self,dict_1):\n",
    "        for k, v in dict_1.items():\n",
    "            setattr(self, k, v)\n",
    "            \n",
    "            \n",
    "\n",
    "obj_h=Element(dict_h)\n",
    "\n",
    "print(obj_h.name)\n",
    "print(obj_h.symbol)\n",
    "print(obj_h.number)\n",
    "\n"
   ]
  },
  {
   "cell_type": "markdown",
   "id": "b1c603d6",
   "metadata": {},
   "source": [
    "#### 6. For the Element class, define a method called dump() that prints the values of the object’s attributes (name, symbol, and number). Create the hydrogen object from this new definition and use dump() to print its attributes."
   ]
  },
  {
   "cell_type": "code",
   "execution_count": 66,
   "id": "4cc03dbe",
   "metadata": {},
   "outputs": [
    {
     "name": "stdout",
     "output_type": "stream",
     "text": [
      "Hydrogen - H - 1\n"
     ]
    }
   ],
   "source": [
    "class Element:\n",
    "    def __init__(self,name,symbol,number):\n",
    "        self.name=name\n",
    "        self.symbol=symbol\n",
    "        self.number=number\n",
    "        \n",
    "    def dump(self):\n",
    "        print(self.name,\"-\",self.symbol,\"-\",self.number)\n",
    "\n",
    "Element('Hydrogen' ,'H','1').dump()\n"
   ]
  },
  {
   "cell_type": "markdown",
   "id": "8c3438a3",
   "metadata": {},
   "source": [
    "#### 7. Call print(hydrogen). In the definition of Element, change the name of method dump to __str__, create a new hydrogen object, and call print(hydrogen) again."
   ]
  },
  {
   "cell_type": "code",
   "execution_count": 67,
   "id": "c8276e14",
   "metadata": {},
   "outputs": [
    {
     "name": "stdout",
     "output_type": "stream",
     "text": [
      "Hydrogen H 1\n"
     ]
    }
   ],
   "source": [
    "class Element:\n",
    "    def __init__(self,name,symbol,number):\n",
    "        self.name=name\n",
    "        self.symbol=symbol\n",
    "        self.number=number\n",
    "        \n",
    "    def __str__(self):\n",
    "        return '%s %s %s'%(self.name,self.symbol,self.number)\n",
    "    \n",
    "hydrogen = Element('Hydrogen' ,'H','1')\n",
    "print(hydrogen)\n",
    "#print(hydrogen)"
   ]
  },
  {
   "cell_type": "markdown",
   "id": "5705b28c",
   "metadata": {},
   "source": [
    "#### 8. Modify Element to make the attributes name, symbol, and number private. Define a getter property for each to return its value."
   ]
  },
  {
   "cell_type": "code",
   "execution_count": 68,
   "id": "fb9d2e68",
   "metadata": {},
   "outputs": [
    {
     "data": {
      "text/plain": [
       "'Hydrogen'"
      ]
     },
     "execution_count": 68,
     "metadata": {},
     "output_type": "execute_result"
    }
   ],
   "source": [
    "class Element(): \n",
    "    def __init__(self ,name,symbol,number):\n",
    "        self.__name = name\n",
    "        self.__symbol = symbol\n",
    "        self.__number = number\n",
    "    @property\n",
    "    def name(self):\n",
    "        return (self.__name)\n",
    "    @property\n",
    "    def symbol(self):\n",
    "        return (self.__symbol)\n",
    "    @property\n",
    "    def number(self):\n",
    "        return (self.__number)\n",
    "  \n",
    "\n",
    "\n",
    "\n",
    "hydrogen = Element('Hydrogen' ,'H','1')\n",
    "hydrogen.name"
   ]
  },
  {
   "cell_type": "markdown",
   "id": "56a3b5be",
   "metadata": {},
   "source": [
    "#### 9. Define three classes: Bear, Rabbit, and Octothorpe. For each, define only one method: eats(). This should return 'berries' (Bear), 'clover' (Rabbit), or 'campers' (Octothorpe). Create one object from each and print what it eats."
   ]
  },
  {
   "cell_type": "code",
   "execution_count": 69,
   "id": "4a9b3fec",
   "metadata": {},
   "outputs": [
    {
     "name": "stdout",
     "output_type": "stream",
     "text": [
      "berries\n"
     ]
    }
   ],
   "source": [
    "class Bear():\n",
    "    def eat():\n",
    "        print('berries')\n",
    "        \n",
    "class Rabbit():\n",
    "    def eat():\n",
    "        print('clover')\n",
    "        \n",
    "class Octothorpe():\n",
    "    def eat():\n",
    "        print('campers')\n",
    "        \n",
    "        \n",
    "Bear.eat()        "
   ]
  },
  {
   "cell_type": "markdown",
   "id": "7eeb0acc",
   "metadata": {},
   "source": [
    "#### 10. Define these classes: Laser, Claw, and SmartPhone. Each has only one method: does(). This returns 'disintegrate' (Laser), 'crush' (Claw), or 'ring' (SmartPhone). Then, define the class Robot that has one instance (object) of each of these. Define a does() method for the Robot that prints what its component objects do."
   ]
  },
  {
   "cell_type": "code",
   "execution_count": 70,
   "id": "6bb9f310",
   "metadata": {},
   "outputs": [
    {
     "name": "stdout",
     "output_type": "stream",
     "text": [
      "disintegrate, crush, ring\n"
     ]
    }
   ],
   "source": [
    "class Laser():\n",
    "    def does(self):\n",
    "        return \"disintegrate\"\n",
    "class Claw():\n",
    "    def does(self):\n",
    "        return \"crush\" \n",
    "class SmartPhone():\n",
    "    def does(self):\n",
    "        return \"ring\"\n",
    "\n",
    "class Robot():\n",
    "    def __init__(self):\n",
    "        self.laser=Laser()\n",
    "        self.claw=Claw()\n",
    "        self.SmartPhone=SmartPhone()\n",
    "    \n",
    "    def does(self):\n",
    "         return ('%s, %s, %s' % (self.laser.does(),self.claw.does(),self.SmartPhone.does()))\n",
    "\n",
    "obj_1 = Robot()\n",
    "\n",
    "print(obj_1.does())\n",
    "    "
   ]
  },
  {
   "cell_type": "code",
   "execution_count": null,
   "id": "39f3be6f",
   "metadata": {},
   "outputs": [],
   "source": []
  },
  {
   "cell_type": "code",
   "execution_count": null,
   "id": "5f2c1a66",
   "metadata": {},
   "outputs": [],
   "source": []
  }
 ],
 "metadata": {
  "kernelspec": {
   "display_name": "Python 3 (ipykernel)",
   "language": "python",
   "name": "python3"
  },
  "language_info": {
   "codemirror_mode": {
    "name": "ipython",
    "version": 3
   },
   "file_extension": ".py",
   "mimetype": "text/x-python",
   "name": "python",
   "nbconvert_exporter": "python",
   "pygments_lexer": "ipython3",
   "version": "3.9.7"
  }
 },
 "nbformat": 4,
 "nbformat_minor": 5
}
