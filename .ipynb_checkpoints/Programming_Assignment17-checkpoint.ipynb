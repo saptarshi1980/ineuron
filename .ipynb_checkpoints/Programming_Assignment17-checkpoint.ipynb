{
 "cells": [
  {
   "cell_type": "code",
   "execution_count": 24,
   "id": "ce346de1",
   "metadata": {},
   "outputs": [
    {
     "name": "stdout",
     "output_type": "stream",
     "text": [
      "18\n"
     ]
    }
   ],
   "source": [
    "#Q.1\n",
    "import numpy as np\n",
    "def evenly_divisible(a,b,c):\n",
    "    num=np.arange(a,b+1)\n",
    "    sum=0\n",
    "    for i in num:\n",
    "        if i%c==0:\n",
    "            sum+=i\n",
    "    return sum    \n",
    "    \n",
    "print(evenly_divisible(1,10,3))   \n",
    "    "
   ]
  },
  {
   "cell_type": "code",
   "execution_count": 29,
   "id": "f3a1401e",
   "metadata": {},
   "outputs": [
    {
     "name": "stdout",
     "output_type": "stream",
     "text": [
      "3<7<11\n"
     ]
    }
   ],
   "source": [
    "# Q.2\n",
    "def correct_signs(expr):\n",
    "    expr=expr.replace(\" \",\"\")\n",
    "    print(expr)\n",
    "    \n",
    "     \n",
    "correct_signs(\"3 < 7 < 11\")    "
   ]
  },
  {
   "cell_type": "code",
   "execution_count": null,
   "id": "75c9d036",
   "metadata": {},
   "outputs": [],
   "source": []
  }
 ],
 "metadata": {
  "kernelspec": {
   "display_name": "Python 3 (ipykernel)",
   "language": "python",
   "name": "python3"
  },
  "language_info": {
   "codemirror_mode": {
    "name": "ipython",
    "version": 3
   },
   "file_extension": ".py",
   "mimetype": "text/x-python",
   "name": "python",
   "nbconvert_exporter": "python",
   "pygments_lexer": "ipython3",
   "version": "3.9.7"
  }
 },
 "nbformat": 4,
 "nbformat_minor": 5
}
