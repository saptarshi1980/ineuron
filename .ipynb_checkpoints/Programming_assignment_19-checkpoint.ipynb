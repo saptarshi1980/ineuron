{
 "cells": [
  {
   "cell_type": "code",
   "execution_count": 12,
   "id": "5771dcce",
   "metadata": {},
   "outputs": [
    {
     "name": "stdout",
     "output_type": "stream",
     "text": [
      "ppyytthhoonn\n"
     ]
    }
   ],
   "source": [
    "# Q.1\n",
    "def double_char(str_1):\n",
    "    temp_str=\"\"\n",
    "    for c in str_1:\n",
    "        \n",
    "        temp_str=temp_str+c+c\n",
    "        \n",
    "    return temp_str\n",
    "    \n",
    "print(double_char(\"python\"))"
   ]
  },
  {
   "cell_type": "code",
   "execution_count": 17,
   "id": "cab73539",
   "metadata": {},
   "outputs": [
    {
     "name": "stdout",
     "output_type": "stream",
     "text": [
      "False\n"
     ]
    }
   ],
   "source": [
    "#Q. 2\n",
    "def reverse(bool_val):\n",
    "    if type(bool_val)==bool:\n",
    "        return  not bool_val\n",
    "    else:\n",
    "        return \"boolean expected\"\n",
    "print(reverse(True))"
   ]
  },
  {
   "cell_type": "code",
   "execution_count": 33,
   "id": "276b2e0c",
   "metadata": {},
   "outputs": [
    {
     "name": "stdout",
     "output_type": "stream",
     "text": [
      "Equal to  1048.576 m\n"
     ]
    }
   ],
   "source": [
    "#Q.3\n",
    "def num_layers(fold_no):\n",
    "    thickness_one_fold = 0.001\n",
    "    result=0.001\n",
    "    for i in range(2,fold_no+1):\n",
    "        result = 2*result\n",
    "        \n",
    "    return result\n",
    "\n",
    "print(\"Equal to \",num_layers(21),\"m\")"
   ]
  },
  {
   "cell_type": "code",
   "execution_count": 36,
   "id": "febbee80",
   "metadata": {},
   "outputs": [
    {
     "name": "stdout",
     "output_type": "stream",
     "text": [
      "[1, 3, 6]\n"
     ]
    }
   ],
   "source": [
    "#Q.4\n",
    "def index_of_caps(input_str):\n",
    "    if type(input_str)==str:\n",
    "        counter=0\n",
    "        result=[]\n",
    "        for c in input_str:\n",
    "            if c.isupper():\n",
    "                result.append(counter)\n",
    "            \n",
    "            counter+=1\n",
    "            \n",
    "        return result\n",
    "    \n",
    "print(index_of_caps(\"sApTarShi\"))    \n",
    "\n",
    "\n",
    "                \n",
    "                "
   ]
  },
  {
   "cell_type": "code",
   "execution_count": 40,
   "id": "2cac2790",
   "metadata": {},
   "outputs": [
    {
     "name": "stdout",
     "output_type": "stream",
     "text": [
      "[2, 4, 6, 8]\n"
     ]
    }
   ],
   "source": [
    "# Q.5\n",
    "\n",
    "def find_even_nums(num):\n",
    "    \n",
    "    return [i for i in range(1,num+1) if i%2==0]\n",
    "\n",
    "print(find_even_nums(8))\n"
   ]
  },
  {
   "cell_type": "code",
   "execution_count": null,
   "id": "7b1544ef",
   "metadata": {},
   "outputs": [],
   "source": []
  },
  {
   "cell_type": "code",
   "execution_count": null,
   "id": "64b7e79c",
   "metadata": {},
   "outputs": [],
   "source": []
  }
 ],
 "metadata": {
  "kernelspec": {
   "display_name": "Python 3 (ipykernel)",
   "language": "python",
   "name": "python3"
  },
  "language_info": {
   "codemirror_mode": {
    "name": "ipython",
    "version": 3
   },
   "file_extension": ".py",
   "mimetype": "text/x-python",
   "name": "python",
   "nbconvert_exporter": "python",
   "pygments_lexer": "ipython3",
   "version": "3.9.7"
  }
 },
 "nbformat": 4,
 "nbformat_minor": 5
}
