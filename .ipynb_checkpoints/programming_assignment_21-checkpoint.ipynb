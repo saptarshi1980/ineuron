{
 "cells": [
  {
   "cell_type": "code",
   "execution_count": 28,
   "id": "d7f9a9af",
   "metadata": {},
   "outputs": [
    {
     "name": "stdout",
     "output_type": "stream",
     "text": [
      "[6, 7, 8, 9, 1]\n"
     ]
    }
   ],
   "source": [
    "# Q.1\n",
    "def next_in_line(input_list,item):\n",
    "    \n",
    "    \"\"\"\n",
    "    takes a list and integer, removes the first element of the list and appends taken element at the last of the list\n",
    "    \n",
    "    \"\"\"\n",
    "    if len(input_list) == 0:\n",
    "        return \"No list has been selected.\"\n",
    "    else:\n",
    "        input_list.pop(0)\n",
    "        input_list.append(item)\n",
    "        return input_list\n",
    "print(next_in_line([5,6,7,8,9],1))    "
   ]
  },
  {
   "cell_type": "code",
   "execution_count": 10,
   "id": "002f5057",
   "metadata": {},
   "outputs": [
    {
     "name": "stdout",
     "output_type": "stream",
     "text": [
      "65700\n"
     ]
    }
   ],
   "source": [
    "# Q.2\n",
    "\n",
    "#sums a value field in the dictionary\n",
    "\n",
    "def get_budgets(dict_1):\n",
    "\n",
    "    c = collections.Counter()\n",
    "    result=0\n",
    "    for sd in dict_1:\n",
    "        \n",
    "        result+= int(sd[\"budget\"])\n",
    "    \n",
    "    return result\n",
    "\n",
    "print(get_budgets([\n",
    "    { \"Name\":\"a\",\"age\":21,\"budget\":23000},\n",
    "    { \"Name\":\"b\",\"age\":32,\"budget\":40000 },\n",
    "    { \"Name\":\"c\",\"age\":16,\"budget\":2700 }\n",
    "]))\n",
    "    "
   ]
  },
  {
   "cell_type": "code",
   "execution_count": 16,
   "id": "e0319293",
   "metadata": {},
   "outputs": [
    {
     "name": "stdout",
     "output_type": "stream",
     "text": [
      "aahiprsst\n"
     ]
    }
   ],
   "source": [
    "#Q.3 \n",
    "\n",
    "def alphabet_soup(str_1):\n",
    "    \n",
    "    return ''.join(sorted(str_1))\n",
    "\n",
    "print(alphabet_soup(\"saptarshi\"))"
   ]
  },
  {
   "cell_type": "code",
   "execution_count": 27,
   "id": "093ae773",
   "metadata": {},
   "outputs": [
    {
     "name": "stdout",
     "output_type": "stream",
     "text": [
      "2007316.26\n"
     ]
    }
   ],
   "source": [
    "# Q.4\n",
    "\n",
    "def compound_interest(p,t,r,n):\n",
    "    \n",
    "    \"\"\"\n",
    "    Takes principal amount,year of deposit,rate of interest and number of times compounded per year.\n",
    "    returns the value of the invested amount after compunding\n",
    "    \"\"\"\n",
    "    \n",
    "    value = p*(1+r/n)**(n*t)\n",
    "    \n",
    "    return round(value,2)\n",
    "\n",
    "print(compound_interest(100000,20,0.15,365))"
   ]
  },
  {
   "cell_type": "code",
   "execution_count": 24,
   "id": "c7f70e6b",
   "metadata": {},
   "outputs": [
    {
     "name": "stdout",
     "output_type": "stream",
     "text": [
      "[9, 2, 16]\n",
      "[1]\n"
     ]
    }
   ],
   "source": [
    "#Q.5\n",
    "def return_only_integer(list_1):\n",
    "    \n",
    "    \"\"\"\n",
    "    Takes a list and returns a list with only integer elements within that list\n",
    "    \n",
    "    \"\"\"\n",
    "    \n",
    "    \n",
    "    list_int = [x for x in list_1 if type(x)==int]\n",
    "    \n",
    "    return list_int\n",
    "\n",
    "print(return_only_integer([9,2,\"space\",\"car\",\"lion\",16]))\n",
    "\n",
    "print(return_only_integer([\"string\",True,3.3,1]))"
   ]
  },
  {
   "cell_type": "code",
   "execution_count": null,
   "id": "523a6ea9",
   "metadata": {},
   "outputs": [],
   "source": []
  }
 ],
 "metadata": {
  "kernelspec": {
   "display_name": "Python 3 (ipykernel)",
   "language": "python",
   "name": "python3"
  },
  "language_info": {
   "codemirror_mode": {
    "name": "ipython",
    "version": 3
   },
   "file_extension": ".py",
   "mimetype": "text/x-python",
   "name": "python",
   "nbconvert_exporter": "python",
   "pygments_lexer": "ipython3",
   "version": "3.9.7"
  }
 },
 "nbformat": 4,
 "nbformat_minor": 5
}
