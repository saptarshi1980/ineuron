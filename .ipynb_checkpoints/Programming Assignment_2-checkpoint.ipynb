{
 "cells": [
  {
   "cell_type": "markdown",
   "id": "824ab0d2",
   "metadata": {},
   "source": [
    "# <center>Name: Saptarshi Sanyal\n",
    "# <center> Email: saptarshi.edp@gmail.com\n",
    "# <center>Programming Assignment_2"
   ]
  },
  {
   "cell_type": "markdown",
   "id": "a8d1a972",
   "metadata": {},
   "source": [
    "### 1. Write a Python program to convert kilometers to miles?"
   ]
  },
  {
   "cell_type": "code",
   "execution_count": 4,
   "id": "d6cec8b6",
   "metadata": {},
   "outputs": [
    {
     "name": "stdout",
     "output_type": "stream",
     "text": [
      "10 KM = 6.2137119 Miles\n"
     ]
    }
   ],
   "source": [
    "# miles = kilometers X conversion factor\n",
    "# conversion factor = 0.62137119\n",
    "\n",
    "km = 10\n",
    "conv_factor = 0.62137119\n",
    "\n",
    "miles = km * conv_factor\n",
    "\n",
    "print(f\"{km} KM = {miles} Miles\")\n"
   ]
  },
  {
   "cell_type": "markdown",
   "id": "1bc9a12a",
   "metadata": {},
   "source": [
    "### 2. Write a Python program to convert Celsius to Fahrenheit?"
   ]
  },
  {
   "cell_type": "code",
   "execution_count": 9,
   "id": "bcdbbb27",
   "metadata": {},
   "outputs": [
    {
     "name": "stdout",
     "output_type": "stream",
     "text": [
      "Input Temperature Celsius: 20\n",
      "20.0 degree Celsius is equal to: 68.0 Fahrenheit\n"
     ]
    }
   ],
   "source": [
    "c = float (input(\"Input Temperature Celsius: \" ))  \n",
    "f = (c * 9/5) + 32  \n",
    "    \n",
    "# print the result  \n",
    "print (f\"{c} degree Celsius is equal to: {f} Fahrenheit\")"
   ]
  },
  {
   "cell_type": "markdown",
   "id": "f9258a3d",
   "metadata": {},
   "source": [
    "### 3. Write a Python program to display calendar?"
   ]
  },
  {
   "cell_type": "code",
   "execution_count": 12,
   "id": "d420868d",
   "metadata": {},
   "outputs": [
    {
     "name": "stdout",
     "output_type": "stream",
     "text": [
      "Enter Year: 2022\n",
      "Enter month(0-12): 5\n",
      "\n",
      "      May 2022\n",
      "Mo Tu We Th Fr Sa Su\n",
      "                   1\n",
      " 2  3  4  5  6  7  8\n",
      " 9 10 11 12 13 14 15\n",
      "16 17 18 19 20 21 22\n",
      "23 24 25 26 27 28 29\n",
      "30 31\n",
      "\n"
     ]
    }
   ],
   "source": [
    "import calendar\n",
    "\n",
    "year = int(input(\"Enter Year: \"))\n",
    "month = int(input(\"Enter month(0-12): \"))\n",
    "\n",
    "\n",
    "print(\"\\n\"+calendar.month(year, month))"
   ]
  },
  {
   "cell_type": "markdown",
   "id": "2516c573",
   "metadata": {},
   "source": [
    "### 4. Write a Python program to solve quadratic equation?"
   ]
  },
  {
   "cell_type": "code",
   "execution_count": 20,
   "id": "d5390de5",
   "metadata": {},
   "outputs": [
    {
     "name": "stdout",
     "output_type": "stream",
     "text": [
      " real and different roots \n",
      "2.0\n",
      "-12.0\n"
     ]
    }
   ],
   "source": [
    "\n",
    "import math\n",
    "\n",
    "\n",
    "# function for finding roots\n",
    "def roots( a, b, c):\n",
    "\n",
    "    # calculating discriminant using formula\n",
    "    dis = b * b - 4 * a * c\n",
    "    sqrt_val = math.sqrt(abs(dis))\n",
    "\n",
    "    # checking condition for discriminant\n",
    "    if dis > 0:\n",
    "        print(\" real and different roots \")\n",
    "        print((-b + sqrt_val)/(2 * a))\n",
    "        print((-b - sqrt_val)/(2 * a))\n",
    "\n",
    "    elif dis == 0:\n",
    "        print(\" real and same roots\")\n",
    "        print(-b / (2 * a))\n",
    "\n",
    "        # when discriminant is less than 0\n",
    "    else:\n",
    "        print(\"Complex Roots\")\n",
    "        print(- b / (2 * a), \" + i\", sqrt_val)\n",
    "        print(- b / (2 * a), \" - i\", sqrt_val)\n",
    "\n",
    "    \n",
    "    \n",
    "# Driver Program\n",
    "a = 1\n",
    "b = 10\n",
    "c = -24\n",
    "\n",
    "# If a is 0, then incorrect equation\n",
    "if a == 0:\n",
    "    print(\"Invalid quadratic equation\")\n",
    "\n",
    "else:\n",
    "    roots(a, b, c)\n",
    "\n",
    "    \n",
    "\n"
   ]
  },
  {
   "cell_type": "markdown",
   "id": "aa2ded1a",
   "metadata": {},
   "source": [
    "### 5. Write a Python program to swap two variables without temp variable?"
   ]
  },
  {
   "cell_type": "code",
   "execution_count": 21,
   "id": "49ec368a",
   "metadata": {},
   "outputs": [
    {
     "name": "stdout",
     "output_type": "stream",
     "text": [
      "Before swapping: \n",
      "Value of a :  5  and b :  7\n",
      "After swapping: \n",
      "Value of a :  7  and y :  5\n"
     ]
    }
   ],
   "source": [
    "a = 5\n",
    "b = 7\n",
    "\n",
    "print (\"Before swapping: \")\n",
    "print(\"Value of a : \", a, \" and b : \", b)\n",
    "\n",
    "# code to swap 'a' and 'b'\n",
    "a, b = b, a\n",
    "\n",
    "print (\"After swapping: \")\n",
    "print(\"Value of a : \", a, \" and y : \", b)\n"
   ]
  },
  {
   "cell_type": "code",
   "execution_count": null,
   "id": "2849e4bb",
   "metadata": {},
   "outputs": [],
   "source": []
  }
 ],
 "metadata": {
  "kernelspec": {
   "display_name": "Python 3 (ipykernel)",
   "language": "python",
   "name": "python3"
  },
  "language_info": {
   "codemirror_mode": {
    "name": "ipython",
    "version": 3
   },
   "file_extension": ".py",
   "mimetype": "text/x-python",
   "name": "python",
   "nbconvert_exporter": "python",
   "pygments_lexer": "ipython3",
   "version": "3.9.7"
  }
 },
 "nbformat": 4,
 "nbformat_minor": 5
}
