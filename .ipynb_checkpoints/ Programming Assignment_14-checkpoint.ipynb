{
 "cells": [
  {
   "cell_type": "code",
   "execution_count": 7,
   "id": "b08231b8",
   "metadata": {},
   "outputs": [
    {
     "name": "stdout",
     "output_type": "stream",
     "text": [
      "Enter Upper Range-80\n",
      "7\n",
      "14\n",
      "21\n",
      "28\n",
      "35\n",
      "42\n",
      "49\n",
      "56\n",
      "63\n",
      "70\n",
      "77\n"
     ]
    }
   ],
   "source": [
    "# Question 1:\n",
    "class gen_iter:\n",
    "    def __init__(self):\n",
    "        pass\n",
    "    \n",
    "    def number_iterator(self,number):\n",
    "        \n",
    "        if number==0:\n",
    "            pass\n",
    "        \n",
    "        elif (number%7==0):\n",
    "            yield number\n",
    "\n",
    "obj_1=gen_iter()\n",
    "\n",
    "#lower_range = int(input(\"Enter Lower Range-\"))\n",
    "upper_range = int(input(\"Enter Upper Range-\"))\n",
    "\n",
    "for i in range (0,upper_range):\n",
    "    for item in obj_1.number_iterator(i):\n",
    "        print (item)\n",
    "        "
   ]
  },
  {
   "cell_type": "code",
   "execution_count": 69,
   "id": "6922f6f0",
   "metadata": {},
   "outputs": [
    {
     "name": "stdout",
     "output_type": "stream",
     "text": [
      "2 : 2 \n",
      "3 : 1 \n",
      "3? : 1 \n",
      "New : 1 \n",
      "Python : 5 \n",
      "Read : 1 \n",
      "and : 1 \n",
      "between : 1 \n",
      "choosing : 1 \n",
      "or : 2 \n",
      "to : 1 \n"
     ]
    }
   ],
   "source": [
    "# Question 2\n",
    "\n",
    "def count_words(word):\n",
    "\n",
    "    if word[-1] == '.':\n",
    "        word = word[0:len(word) - 1]\n",
    "   \n",
    "    if word in dict_1:\n",
    "        dict_1[word] += 1\n",
    "   \n",
    "    else:\n",
    "        dict_1.update({word: 1})\n",
    "   \n",
    "  \n",
    "sentence = \"New to Python or choosing between Python 2 and Python 3? Read Python 2 or Python 3.\"\n",
    "   \n",
    "\n",
    "dict_1 = {}\n",
    "   \n",
    "\n",
    "list_1 = sentence.split()\n",
    "   \n",
    "\n",
    "for elements in list_1:\n",
    "    count_words(elements)\n",
    "    \n",
    "for i in sorted(dict_1.keys()):\n",
    "    print (i,end = \" \")\n",
    "    print (\":\", end = \" \")\n",
    "    print (dict_1[i],end = \" \")\n",
    "    print() "
   ]
  },
  {
   "cell_type": "code",
   "execution_count": 8,
   "id": "2ddb838c",
   "metadata": {},
   "outputs": [
    {
     "name": "stdout",
     "output_type": "stream",
     "text": [
      "Female\n",
      "Male\n"
     ]
    }
   ],
   "source": [
    "# Q. 3\n",
    "class Person:\n",
    "    def __init__(self,gender):\n",
    "        self.gender = gender\n",
    "    def getGender(self):\n",
    "        return self.gender.gender\n",
    "    \n",
    "\n",
    "class Male(Person):\n",
    "\n",
    "    def __init__(self):\n",
    "        self.gender = \"Male\"\n",
    "    def getGender(self):\n",
    "        return self.gender\n",
    "        \n",
    "\n",
    "class Female(Person):\n",
    "   \n",
    "    def __init__(self):\n",
    "        self.gender = \"Female\"\n",
    "    def getGender(self):\n",
    "        return self.gender\n",
    "    \n",
    "    \n",
    "\n",
    "obj_1 = Female()\n",
    "\n",
    "obj_2 = Male()\n",
    "\n",
    "\n",
    "female_object = Person(obj_1)\n",
    "\n",
    "male_object = Person(obj_2)\n",
    "\n",
    "\n",
    "print(female_object.getGender())\n",
    "print(male_object.getGender())\n",
    "\n",
    "    "
   ]
  },
  {
   "cell_type": "code",
   "execution_count": 11,
   "id": "e82c57c4",
   "metadata": {},
   "outputs": [
    {
     "name": "stdout",
     "output_type": "stream",
     "text": [
      "I Play Hockey\n",
      "I Play Football\n",
      "I Love Hockey\n",
      "I Love Football\n",
      "You Play Hockey\n",
      "You Play Football\n",
      "You Love Hockey\n",
      "You Love Football\n"
     ]
    }
   ],
   "source": [
    "# Q. 4 \n",
    "\n",
    "\n",
    "import itertools\n",
    "\n",
    "subject = ['I','You']\n",
    "verb = ['Play','Love']\n",
    "object = ['Hockey','Football']\n",
    "\n",
    "\n",
    "list_1=[subject,verb,object]\n",
    "\n",
    "result_list = list(itertools.product(*list_1))\n",
    "\n",
    "for sen in result_list:\n",
    "    temp = ' '.join(sen)\n",
    "    print(temp)\n"
   ]
  },
  {
   "cell_type": "code",
   "execution_count": 10,
   "id": "0134af92",
   "metadata": {},
   "outputs": [
    {
     "name": "stdout",
     "output_type": "stream",
     "text": [
      "b\"\\x1f\\x8b\\x08\\x00\\xe9D\\x84b\\x02\\xffM\\x91\\xb1\\x8e\\x1b1\\x0cD\\x7f\\x85]\\x1a\\xc3\\xb0\\x8b\\x0b\\x90\\xf2J\\x03\\x0ep\\xbf\\xc0\\xd5\\xd2^\\xc1\\x12%\\x88\\x947\\xfb\\xf7\\x99\\x95/\\x88;\\x11$g\\x1eG\\xd7\\xd2$\\xd3\\xa5Z\\xcf\\x14\\x8d,\\xe6\\x9a6\\x9a{\\xce\\x1b\\xb9\\xfcq*7\\xf2E\\xa8\\xb6\\xa8\\x1e\\xf5N\\xac3\\xf9V\\xc5\\xc4G\\x1du\\xee\\xe6m;\\xd2\\xf5Mja\\xa3ID\\xc7\\xee\\xbf\\x91\\x1f\\xd0w\\xecs\\x9b\\xdf\\x1d\\xe4)\\r\\xc6\\x1adL\\x9f?N';\\xd0\\xba`\\x9b\\x95\\xba>\\xb4\\xac\\xfa\\x02\\xc0\\xa0\\x97\\xf2 \\xa6;\\xa7$\\xdb\\xa0\\x03\\xcc\\xa0\\xb2\\xd08OIf\\x8a\\x8e1\\xca\\xfc@\\xe3\\xd5\\xb7*!f(NX?\\xd2\\xc5\\x07\\xa1\\xf5\\xf6\\x8cO,h\\xc1\\xa1\\x8a\\xc3o()\\x88zoQ@1u'NV\\x06Y\\x12\\xae8\\x06\\xd2\\x92$x+\\x1a\\xc3{\\x16\\x07B\\x00\\x1cu\\x8fE\\xcc\\xa0\\x12A\\xb9\\xe1\\x84\\xb0\\xb0\\xdee\\x1e\\xc6+\\x8ck\\xa9=q\\x8b\\xb6\\xc3\\xbeB:\\xff\\xfay2Z\\xa3/\\xa3l\\xb0`\\x93\\xfd\\xc0\\xabx\\xc3\\xd3\\xc9\\x16\\x117\\nE\\xfd\\xdb\\xe5=\\xf2\\xcaf|\\xdf\\xa1\\xf702:\\x10\\xd9O\\x01\\xc1\\x90\\x9d\\xc5\\x1e^*\\xd5>\\xa5h\\xcb\\xbeo\\xe5\\xe6+c2Ed\\xf5\\x99\\xf0O\\xf4\\x05\\x91\\xdf\\x88\\xae\\x81,\\xa4>\\xefs\\xf8!\\x8bEm\\xe0\\xfc\\xf7<\\xfe\\x05\\x1e\\x08(\\x85>\\x02\\x00\\x00\"\n",
      "b\"Lorem Ipsum is simply dummy text of the printing and typesetting industry. Lorem Ipsum has been the industry's standard dummy text ever since the 1500s, when an unknown printer took a galley of type and scrambled it to make a type specimen book. It has survived not only five centuries, but also the leap into electronic typesetting, remaining essentially unchanged. It was popularised in the 1960s with the release of Letraset sheets containing Lorem Ipsum passages, and more recently with desktop publishing software like Aldus PageMaker including versions of Lorem Ipsum.\"\n"
     ]
    }
   ],
   "source": [
    "# Q. 5\n",
    "import gzip\n",
    "\n",
    "s = b\"Lorem Ipsum is simply dummy text of the printing and typesetting industry. Lorem Ipsum has been the industry's standard dummy text ever since the 1500s, when an unknown printer took a galley of type and scrambled it to make a type specimen book. It has survived not only five centuries, but also the leap into electronic typesetting, remaining essentially unchanged. It was popularised in the 1960s with the release of Letraset sheets containing Lorem Ipsum passages, and more recently with desktop publishing software like Aldus PageMaker including versions of Lorem Ipsum.\"\n",
    "\n",
    "compressed_s= gzip.compress(s)\n",
    "print(compressed_s)\n",
    "  \n",
    "\n",
    "compressed_t = gzip.decompress(compressed_s)\n",
    "print(compressed_t)"
   ]
  },
  {
   "cell_type": "code",
   "execution_count": 9,
   "id": "ac0b6164",
   "metadata": {},
   "outputs": [
    {
     "name": "stdout",
     "output_type": "stream",
     "text": [
      "Element is present at index no  5\n"
     ]
    }
   ],
   "source": [
    "#Q 6.\n",
    "\n",
    "\n",
    "def binary_search(arr, x):\n",
    "    low = 0\n",
    "    high = len(arr) - 1\n",
    "    mid = 0\n",
    "\n",
    "    while low <= high:\n",
    "\n",
    "        mid = (high + low) // 2\n",
    "        if arr[mid] < x:\n",
    "            low = mid + 1\n",
    "\n",
    "\n",
    "        elif arr[mid] > x:\n",
    "            high = mid - 1\n",
    "\n",
    "        else:\n",
    "            return mid\n",
    "\n",
    "\n",
    "    return -1\n",
    "\n",
    "\n",
    "\n",
    "arr = [10,20,30,80,105,200,532 ]\n",
    "x = 200\n",
    "\n",
    "\n",
    "result = binary_search(arr, x)\n",
    "\n",
    "if result != -1:\n",
    "    print(\"Element is present at index no \", str(result))\n",
    "else:\n",
    "    print(\"Element not found\")\n"
   ]
  },
  {
   "cell_type": "code",
   "execution_count": null,
   "id": "3e4d044b",
   "metadata": {},
   "outputs": [],
   "source": []
  }
 ],
 "metadata": {
  "kernelspec": {
   "display_name": "Python 3 (ipykernel)",
   "language": "python",
   "name": "python3"
  },
  "language_info": {
   "codemirror_mode": {
    "name": "ipython",
    "version": 3
   },
   "file_extension": ".py",
   "mimetype": "text/x-python",
   "name": "python",
   "nbconvert_exporter": "python",
   "pygments_lexer": "ipython3",
   "version": "3.9.7"
  }
 },
 "nbformat": 4,
 "nbformat_minor": 5
}
