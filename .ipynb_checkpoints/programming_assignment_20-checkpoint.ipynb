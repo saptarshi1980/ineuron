{
 "cells": [
  {
   "cell_type": "code",
   "execution_count": 32,
   "id": "4e163d44",
   "metadata": {},
   "outputs": [
    {
     "name": "stdout",
     "output_type": "stream",
     "text": [
      "[]\n"
     ]
    }
   ],
   "source": [
    "# Q.1\n",
    "def filter_list(input_list):\n",
    "    result=[]\n",
    "    for i in input_list:\n",
    "        if type(i) == int:\n",
    "            result.append(i)\n",
    "    return result        \n",
    "print(filter_list([\"nothing\",\"here\"]))            "
   ]
  },
  {
   "cell_type": "code",
   "execution_count": 33,
   "id": "a4681bb5",
   "metadata": {},
   "outputs": [
    {
     "name": "stdout",
     "output_type": "stream",
     "text": [
      "[5, 5, 5, 5, 5]\n"
     ]
    }
   ],
   "source": [
    "#Q.2\n",
    "def add_indexes(input_list):\n",
    "    result=[]\n",
    "    for ele in enumerate(input_list):\n",
    "       \n",
    "        result.append(ele[0]+ele[1])\n",
    "        \n",
    "    return result\n",
    "\n",
    "print(add_indexes([5,4,3,2,1]))"
   ]
  },
  {
   "cell_type": "code",
   "execution_count": 35,
   "id": "f16f4586",
   "metadata": {},
   "outputs": [
    {
     "name": "stdout",
     "output_type": "stream",
     "text": [
      "12.57\n"
     ]
    }
   ],
   "source": [
    "#Q.3\n",
    "import math\n",
    "\n",
    "def cone_volume(height,radius):\n",
    "    return round(math.pi*radius**2*height/3,2)\n",
    "\n",
    "print(cone_volume(3,2))"
   ]
  },
  {
   "cell_type": "markdown",
   "id": "fe4684d7",
   "metadata": {},
   "source": [
    "#### Formula For Triangular Number Sequence\n",
    "#### n(n+1)/2\n"
   ]
  },
  {
   "cell_type": "code",
   "execution_count": 36,
   "id": "ee36fdf1",
   "metadata": {},
   "outputs": [
    {
     "name": "stdout",
     "output_type": "stream",
     "text": [
      "21\n"
     ]
    }
   ],
   "source": [
    "#Q. 4\n",
    "def triangle(n):\n",
    "    return int(n*(n+1)/2)\n",
    "\n",
    "print(triangle(6))"
   ]
  },
  {
   "cell_type": "code",
   "execution_count": 37,
   "id": "387499ba",
   "metadata": {},
   "outputs": [
    {
     "name": "stdout",
     "output_type": "stream",
     "text": [
      "[10]\n"
     ]
    }
   ],
   "source": [
    "#Q.5\n",
    "\n",
    "def missing_num(list_num):\n",
    "    \n",
    "    valid_num = [1,2,3,4,5,6,7,8,9,10]\n",
    "    list_num.sort()\n",
    "    missing_num = []\n",
    "\n",
    "    for i in valid_num:\n",
    "        if i not in list_num:\n",
    "            missing_num.append(i)\n",
    "    \n",
    "    return missing_num\n",
    "\n",
    "\n",
    "\n",
    "print(missing_num([7,2,3,6,5,9,1,4,8]))"
   ]
  },
  {
   "cell_type": "code",
   "execution_count": null,
   "id": "392750a0",
   "metadata": {},
   "outputs": [],
   "source": []
  }
 ],
 "metadata": {
  "kernelspec": {
   "display_name": "Python 3 (ipykernel)",
   "language": "python",
   "name": "python3"
  },
  "language_info": {
   "codemirror_mode": {
    "name": "ipython",
    "version": 3
   },
   "file_extension": ".py",
   "mimetype": "text/x-python",
   "name": "python",
   "nbconvert_exporter": "python",
   "pygments_lexer": "ipython3",
   "version": "3.9.7"
  }
 },
 "nbformat": 4,
 "nbformat_minor": 5
}
