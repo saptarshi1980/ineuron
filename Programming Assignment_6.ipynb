{
 "cells": [
  {
   "cell_type": "markdown",
   "id": "df99ab60",
   "metadata": {},
   "source": [
    "# <center>Name: Saptarshi Sanyal\n",
    "# <center> Email: saptarshi.edp@gmail.com\n",
    "# <center>Programming Assignment_6"
   ]
  },
  {
   "cell_type": "markdown",
   "id": "cf88263f",
   "metadata": {},
   "source": [
    "### 1. Write a Python Program to Display Fibonacci Sequence Using Recursion?"
   ]
  },
  {
   "cell_type": "code",
   "execution_count": 1,
   "id": "009195c2",
   "metadata": {},
   "outputs": [
    {
     "name": "stdout",
     "output_type": "stream",
     "text": [
      "enter a positive integet value:8\n",
      "Factorial of 8 is 40320\n"
     ]
    }
   ],
   "source": [
    "def fibbonacci_sequence(n):\n",
    "    if(n<=1): \n",
    "        return n\n",
    "    else:\n",
    "        return fibbonacci_sequence(n-1)+fibbonacci_sequence(n-2)\n",
    "\n",
    "n = int(input(\"Enter a positive integet value for Fibonacci sequence:\"))\n",
    "\n",
    "# check if the number of terms is valid\n",
    "if n <= 0:\n",
    "    print(\"Plese enter a positive integer\")\n",
    "else:\n",
    "    print(\"Fibonacci sequence:\")\n",
    "    for i in range(n):\n",
    "        print(fibbonacci_sequence(i))"
   ]
  },
  {
   "cell_type": "markdown",
   "id": "5c35a3c8",
   "metadata": {},
   "source": [
    "### 2. Write a Python Program to Find Factorial of Number Using Recursion?"
   ]
  },
  {
   "cell_type": "code",
   "execution_count": 2,
   "id": "20b25e52",
   "metadata": {},
   "outputs": [
    {
     "name": "stdout",
     "output_type": "stream",
     "text": [
      "enter a positive integet value:2\n",
      "Factorial of 2 is 2\n"
     ]
    }
   ],
   "source": [
    "def fact(n):\n",
    "    if (n==0) or (n==1):\n",
    "        return 1\n",
    "    elif n>1:\n",
    "        return n*fact(n-1)\n",
    "    else:\n",
    "        return \"invalid input\"\n",
    "\n",
    "n = int(input(\"enter a positive integer value:\"))\n",
    "print(f\"Factorial of {n} is {fact(n)}\") "
   ]
  },
  {
   "cell_type": "markdown",
   "id": "6513a0d2",
   "metadata": {},
   "source": [
    "### 3. Write a Python Program to calculate your Body Mass Index?"
   ]
  },
  {
   "cell_type": "code",
   "execution_count": 4,
   "id": "8d40a353",
   "metadata": {},
   "outputs": [
    {
     "name": "stdout",
     "output_type": "stream",
     "text": [
      "Input your height in Meter: 1.74\n",
      "Input your weight in Kilogram: 85\n",
      "Your body mass index is:  28.08\n"
     ]
    }
   ],
   "source": [
    "height = float(input(\"Input your height in Meter: \"))\n",
    "weight = float(input(\"Input your weight in Kilogram: \"))\n",
    "print(\"Your body mass index is: \", round(weight / (height * height), 2))"
   ]
  },
  {
   "cell_type": "markdown",
   "id": "2a1a4b83",
   "metadata": {},
   "source": [
    "### 4. Write a Python Program to calculate the natural logarithm of any number?"
   ]
  },
  {
   "cell_type": "code",
   "execution_count": 6,
   "id": "ee37011d",
   "metadata": {},
   "outputs": [
    {
     "name": "stdout",
     "output_type": "stream",
     "text": [
      "enter a positive integer value:14\n",
      "Natural logarithm of 14 is : \n",
      "2.6390573296152584\n"
     ]
    }
   ],
   "source": [
    "import math\n",
    "n = int(input(\"enter a positive integer value:\"))\n",
    "print (f\"Natural logarithm of {n} is : \")\n",
    "print (math.log(n))"
   ]
  },
  {
   "cell_type": "markdown",
   "id": "f3034722",
   "metadata": {},
   "source": [
    "### 5. Write a Python Program for cube sum of first n natural numbers?"
   ]
  },
  {
   "cell_type": "code",
   "execution_count": 11,
   "id": "c550b93f",
   "metadata": {},
   "outputs": [
    {
     "name": "stdout",
     "output_type": "stream",
     "text": [
      "Enter a positive integer value:5\n",
      "225\n"
     ]
    }
   ],
   "source": [
    "def cube_sum(n):\n",
    "    sum = 0\n",
    "    for i in range(1, n+1):\n",
    "        sum +=i*i*i\n",
    "          \n",
    "    return sum\n",
    "  \n",
    "n = int(input(\"Enter a positive integer value:\"))\n",
    "print(cube_sum(n))"
   ]
  },
  {
   "cell_type": "code",
   "execution_count": null,
   "id": "d3607b05",
   "metadata": {},
   "outputs": [],
   "source": []
  }
 ],
 "metadata": {
  "kernelspec": {
   "display_name": "Python 3 (ipykernel)",
   "language": "python",
   "name": "python3"
  },
  "language_info": {
   "codemirror_mode": {
    "name": "ipython",
    "version": 3
   },
   "file_extension": ".py",
   "mimetype": "text/x-python",
   "name": "python",
   "nbconvert_exporter": "python",
   "pygments_lexer": "ipython3",
   "version": "3.9.7"
  }
 },
 "nbformat": 4,
 "nbformat_minor": 5
}
