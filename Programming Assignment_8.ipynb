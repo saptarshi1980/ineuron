{
 "cells": [
  {
   "cell_type": "markdown",
   "id": "bb5065cf",
   "metadata": {},
   "source": [
    "# <center>Name: Saptarshi Sanyal\n",
    "# <center> Email: saptarshi.edp@gmail.com\n",
    "# <center>Programming Assignment_8\n",
    "   "
   ]
  },
  {
   "cell_type": "markdown",
   "id": "52ea32d1",
   "metadata": {},
   "source": [
    "### 1. Write a Python Program to Add Two Matrices?"
   ]
  },
  {
   "cell_type": "code",
   "execution_count": 24,
   "id": "b37075c1",
   "metadata": {},
   "outputs": [
    {
     "name": "stdout",
     "output_type": "stream",
     "text": [
      "[8, 10, 12]\n",
      "[14, 16, 18]\n"
     ]
    }
   ],
   "source": [
    "mat_1= [[1,2,3],[4,5,6]]\n",
    "\n",
    "mat_2= [[7,8,9],[10,11,12]]\n",
    "\n",
    "result = [[0,0,0],[0,0,0]]\n",
    "\n",
    "# iterate through rows\n",
    "\n",
    "for x in range(len(mat_1)):\n",
    "\n",
    "   # iterate through columns\n",
    "\n",
    "   for y in range(len(mat_1[0])):\n",
    "\n",
    "        result[x][y] = mat_1[x][y] + mat_2[x][y]\n",
    "\n",
    "for q in result:\n",
    "\n",
    "    print(q)\n"
   ]
  },
  {
   "cell_type": "markdown",
   "id": "6e4ee678",
   "metadata": {},
   "source": [
    "### 2. Write a Python Program to Multiply Two Matrices?"
   ]
  },
  {
   "cell_type": "code",
   "execution_count": 31,
   "id": "02536958",
   "metadata": {},
   "outputs": [
    {
     "name": "stdout",
     "output_type": "stream",
     "text": [
      "[[17 20]\n",
      " [57 68]]\n"
     ]
    }
   ],
   "source": [
    "import numpy as np\n",
    " \n",
    "\n",
    "mat_1 = np.array([[1, 2],[5, 6]])\n",
    "mat_2= np.array([[3, 4],[7, 8]])\n",
    "\n",
    " \n",
    "result = np.matmul(mat_1,mat_2)\n",
    "\n",
    "print(result)"
   ]
  },
  {
   "cell_type": "markdown",
   "id": "2ceaaf71",
   "metadata": {},
   "source": [
    "### 3. Write a Python Program to Transpose a Matrix?"
   ]
  },
  {
   "cell_type": "code",
   "execution_count": 34,
   "id": "0abead4c",
   "metadata": {},
   "outputs": [
    {
     "name": "stdout",
     "output_type": "stream",
     "text": [
      "[[1 2]\n",
      " [5 6]]\n",
      "[[1 5]\n",
      " [2 6]]\n"
     ]
    }
   ],
   "source": [
    "mat_1 = np.array([[1, 2],[5, 6]])\n",
    "\n",
    "print(mat_1)\n",
    "\n",
    "print(mat_1.transpose())#Transpose"
   ]
  },
  {
   "cell_type": "markdown",
   "id": "224d0631",
   "metadata": {},
   "source": [
    "### 4.Write a Python Program to Sort Words in Alphabetic Order?"
   ]
  },
  {
   "cell_type": "code",
   "execution_count": 20,
   "id": "e2f1ad06",
   "metadata": {},
   "outputs": [
    {
     "name": "stdout",
     "output_type": "stream",
     "text": [
      "collection\n",
      "hobby\n",
      "is\n",
      "my\n",
      "stamp\n"
     ]
    }
   ],
   "source": [
    "initial_str = \"my hobby is stamp collection\"\n",
    "words = initial_str.split()\n",
    "words.sort()\n",
    "for word in words:\n",
    "    print(word)\n",
    "\n",
    "\n"
   ]
  },
  {
   "cell_type": "markdown",
   "id": "04c31647",
   "metadata": {},
   "source": [
    "### 5.Write a Python Program to Remove Punctuation From a String?"
   ]
  },
  {
   "cell_type": "code",
   "execution_count": 13,
   "id": "84d659ac",
   "metadata": {},
   "outputs": [
    {
     "name": "stdout",
     "output_type": "stream",
     "text": [
      "String With Punctuation- Hi There!!!, I am Saptarshi Sanyal ! My email id is - saptarshi.edp@gmail.com\n",
      "String Without Punctuation- Hi There I am Saptarshi Sanyal  My email id is  saptarshiedpgmailcom\n"
     ]
    }
   ],
   "source": [
    "import string\n",
    "initial_string = \"Hi There!!!, I am Saptarshi Sanyal ! My email id is - saptarshi.edp@gmail.com\"\n",
    "print(\"String With Punctuation-\",initial_string)\n",
    "punc=string.punctuation\n",
    "for c in initial_string:\n",
    "    if c in punc:\n",
    "        initial_string = initial_string.replace(c,\"\")\n",
    "#string_wihtout_punctuation = string_with_punctuation.replace(string.punctuation,'')\n",
    "\n",
    "print(\"String Without Punctuation-\",initial_string)\n",
    "\n"
   ]
  },
  {
   "cell_type": "code",
   "execution_count": null,
   "id": "a14f7c2b",
   "metadata": {},
   "outputs": [],
   "source": []
  }
 ],
 "metadata": {
  "kernelspec": {
   "display_name": "Python 3 (ipykernel)",
   "language": "python",
   "name": "python3"
  },
  "language_info": {
   "codemirror_mode": {
    "name": "ipython",
    "version": 3
   },
   "file_extension": ".py",
   "mimetype": "text/x-python",
   "name": "python",
   "nbconvert_exporter": "python",
   "pygments_lexer": "ipython3",
   "version": "3.9.7"
  }
 },
 "nbformat": 4,
 "nbformat_minor": 5
}
