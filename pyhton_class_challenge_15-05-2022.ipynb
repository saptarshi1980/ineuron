{
 "cells": [
  {
   "cell_type": "markdown",
   "id": "206ce027",
   "metadata": {},
   "source": [
    "s = \"this is My First Python programming class and i am learNING python string and its function\"\n",
    "\n",
    "- 1 . Try to extract data from index one to index 300 with a jump of 3 \n",
    "- 2. Try to reverse a string without using reverse function \n",
    "- 3. Try to split a string after conversion of entire string in uppercase \n",
    "- 4. try to convert the whole string into lower case \n",
    "- 5. Try to capitalize the whole string \n",
    "- 6. Write a diference between isalnum() and isalpha()\n",
    "- 7. Try to give an example of expand tab\n",
    "- 8. Give an example of strip , lstrip and rstrip \n",
    "- 9.  Replace a string charecter by another charector by taking your own example \"sudhanshu\"\n",
    "- 10. Try  to give a defination of string center function with and exmple \n",
    "- 11. Write your own definition of compiler and interpretor without copy paste form internet in your own language\n",
    "- 12. Python is a interpreted of compiled language give a clear ans with your understanding \n",
    "- 13. Try to write a usecase of python with your understanding .\n",
    "\n",
    "\n",
    "you have to send a jupyter notebook to shivan@ineuron.ai before next saturday class 21st of may . \n"
   ]
  },
  {
   "cell_type": "code",
   "execution_count": 1,
   "id": "967faf01",
   "metadata": {},
   "outputs": [],
   "source": [
    "s = \"this is My First Python programming class and i am learNING python string and its function\""
   ]
  },
  {
   "cell_type": "markdown",
   "id": "3ce0a137",
   "metadata": {},
   "source": [
    "### Q 1. Try to extract data from index one to index 300 with a jump of 3"
   ]
  },
  {
   "cell_type": "code",
   "execution_count": 27,
   "id": "16106a18",
   "metadata": {},
   "outputs": [
    {
     "data": {
      "text/plain": [
       "'h   r tnrrmglsnimeNGyosi dtfco'"
      ]
     },
     "execution_count": 27,
     "metadata": {},
     "output_type": "execute_result"
    }
   ],
   "source": [
    "s[1:300:3]"
   ]
  },
  {
   "cell_type": "markdown",
   "id": "96342bd5",
   "metadata": {},
   "source": [
    "### Q 2. Try to reverse a string without using reverse function"
   ]
  },
  {
   "cell_type": "code",
   "execution_count": 28,
   "id": "082303a3",
   "metadata": {},
   "outputs": [
    {
     "name": "stdout",
     "output_type": "stream",
     "text": [
      "noitcnuf sti dna gnirts nohtyp GNINrael ma i dna ssalc gnimmargorp nohtyP tsriF yM si siht\n"
     ]
    }
   ],
   "source": [
    "reversed_s = s[::-1]\n",
    "print(reversed_s)"
   ]
  },
  {
   "cell_type": "markdown",
   "id": "c8a15b38",
   "metadata": {},
   "source": [
    "### Q 3. Try to split a string after conversion of entire string in uppercase"
   ]
  },
  {
   "cell_type": "code",
   "execution_count": 29,
   "id": "a88bd372",
   "metadata": {},
   "outputs": [
    {
     "data": {
      "text/plain": [
       "['THIS',\n",
       " 'IS',\n",
       " 'MY',\n",
       " 'FIRST',\n",
       " 'PYTHON',\n",
       " 'PROGRAMMING',\n",
       " 'CLASS',\n",
       " 'AND',\n",
       " 'I',\n",
       " 'AM',\n",
       " 'LEARNING',\n",
       " 'PYTHON',\n",
       " 'STRING',\n",
       " 'AND',\n",
       " 'ITS',\n",
       " 'FUNCTION']"
      ]
     },
     "execution_count": 29,
     "metadata": {},
     "output_type": "execute_result"
    }
   ],
   "source": [
    "\n",
    "s.upper().split()"
   ]
  },
  {
   "cell_type": "markdown",
   "id": "aa9f5f17",
   "metadata": {},
   "source": [
    "### Q 4. try to convert the whole string into lower case"
   ]
  },
  {
   "cell_type": "code",
   "execution_count": 30,
   "id": "2fabd294",
   "metadata": {},
   "outputs": [
    {
     "data": {
      "text/plain": [
       "'this is my first python programming class and i am learning python string and its function'"
      ]
     },
     "execution_count": 30,
     "metadata": {},
     "output_type": "execute_result"
    }
   ],
   "source": [
    "s.lower()"
   ]
  },
  {
   "cell_type": "markdown",
   "id": "355e8c1f",
   "metadata": {},
   "source": [
    "### Q 5. Try to capitalize the whole string"
   ]
  },
  {
   "cell_type": "code",
   "execution_count": 9,
   "id": "0e593945",
   "metadata": {},
   "outputs": [
    {
     "data": {
      "text/plain": [
       "'THIS IS MY FIRST PYTHON PROGRAMMING CLASS AND I AM LEARNING PYTHON STRING AND ITS FUNCTION'"
      ]
     },
     "execution_count": 9,
     "metadata": {},
     "output_type": "execute_result"
    }
   ],
   "source": [
    "s.upper()"
   ]
  },
  {
   "cell_type": "markdown",
   "id": "a61472d5",
   "metadata": {},
   "source": [
    "###  Q 6. Difference between isalpha() and isalnum()\n",
    "- isalpha() method returns true if all characters of a string are only alphabets (between A and Z & between a and z). If there is any non alphabet character in the string, method returns false.\n",
    "- isalnum() method returns true if all characters of a string are either alphabets (between A and Z & between a and z) or numbers (0 to 9) or both, otherwise method returns false."
   ]
  },
  {
   "cell_type": "markdown",
   "id": "f0a3e0f5",
   "metadata": {},
   "source": [
    "### Q 7. Try to give an example of expand tab"
   ]
  },
  {
   "cell_type": "code",
   "execution_count": 14,
   "id": "d1aae645",
   "metadata": {},
   "outputs": [
    {
     "name": "stdout",
     "output_type": "stream",
     "text": [
      "default spacing: Tensorflow      is      a       ML      and     DL      library of      Google\n",
      "less spacing: Tensorflow  is a  ML and   DL library  of Google\n",
      "more spacing: Tensorflow  is    a     ML    and   DL    library     of    Google\n"
     ]
    }
   ],
   "source": [
    "# Python String class has a method called expandtabs() which specifies the amount of space to be substituted with the “\\t” symbol in the string.\n",
    "\n",
    "str_1 = \"Tensorflow\\tis\\ta\\tML\\tand\\tDL\\tlibrary\\tof\\tGoogle\"\n",
    "\n",
    "\n",
    "print(\"default spacing: \", end =\"\")\n",
    "print(str_1.expandtabs())\n",
    "  \n",
    "\n",
    "\n",
    "print(\"less spacing: \", end =\"\")\n",
    "print(str_1.expandtabs(3))\n",
    "  \n",
    "\n",
    "\n",
    "print(\"more spacing: \", end =\"\")\n",
    "print(str_1.expandtabs(6))\n",
    "  \n",
    "\n"
   ]
  },
  {
   "cell_type": "markdown",
   "id": "2f25d3da",
   "metadata": {},
   "source": [
    "### Q 8. Give an example of strip , lstrip and rstrip"
   ]
  },
  {
   "cell_type": "code",
   "execution_count": 31,
   "id": "ffbc84f2",
   "metadata": {},
   "outputs": [
    {
     "name": "stdout",
     "output_type": "stream",
     "text": [
      "String String \n",
      " String String\n",
      "String String\n"
     ]
    }
   ],
   "source": [
    "# The strip(s) function removes both leading and trailing whitespace by default or characters as specified in funcmtion argument\n",
    "# The lstrip(s) (left strip) function removes leading whitespace (on the left) in the string default or characters as specified in function argument\n",
    "# The rstrip(s) (right strip) function removes the trailing whitespace (on the right) by default or characters as specified in funcmtion argument\n",
    "\n",
    "str_1 = \" String String \"\n",
    "print(str_1.lstrip())\n",
    "print(str_1.rstrip()) \n",
    "print(str_1.strip())\n"
   ]
  },
  {
   "cell_type": "markdown",
   "id": "f3b7c918",
   "metadata": {},
   "source": [
    "### Q 9. Replace a string charecter by another charector by taking your own example \"sudhanshu\""
   ]
  },
  {
   "cell_type": "code",
   "execution_count": 32,
   "id": "dfc3a04c",
   "metadata": {},
   "outputs": [
    {
     "data": {
      "text/plain": [
       "'samtarshi'"
      ]
     },
     "execution_count": 32,
     "metadata": {},
     "output_type": "execute_result"
    }
   ],
   "source": [
    "\n",
    "str_2=\"saptarshi\"\n",
    "str_2.replace(\"sap\",\"sam\")"
   ]
  },
  {
   "cell_type": "markdown",
   "id": "9344d217",
   "metadata": {},
   "source": [
    "### Q 10. Try to give a defination of string center function with and exmple"
   ]
  },
  {
   "cell_type": "code",
   "execution_count": 33,
   "id": "562de6c6",
   "metadata": {},
   "outputs": [
    {
     "name": "stdout",
     "output_type": "stream",
     "text": [
      "       sanyal       \n"
     ]
    }
   ],
   "source": [
    "# string.center(width,fillchar)\n",
    "# The center() method returns center-aligned string of length width.\n",
    "# Padding is done using the specified fillchar (default is an ASCII space).\n",
    "# he original string is returned as it is, if width is less than or equal to string length.\n",
    "\n",
    "\n",
    "str_3 = 'sanyal'\n",
    "a = str_3.center(20)\n",
    "print(a)"
   ]
  },
  {
   "cell_type": "markdown",
   "id": "04ff8b5b",
   "metadata": {},
   "source": [
    "### 11. Write your own definition of compiler and interpretor without copy paste form internet in your own language\n",
    "- Compiler - The compiler converts high-level programing language into low-level language / machine Level language using various phases.\n",
    "\n",
    "- Interpreter - Interpreter is a program that executes the programming code directly instead of just translating it into another format.\n"
   ]
  },
  {
   "cell_type": "markdown",
   "id": "a9db2ff1",
   "metadata": {},
   "source": [
    "### Q 12. Python is a interpreted of compiled language give a clear ans with your understanding"
   ]
  },
  {
   "cell_type": "markdown",
   "id": "e31c8314",
   "metadata": {},
   "source": [
    "#### ANS. Python is a “COMPILED INTERPRETED” language.This means when the Python program is run,First Python checks for program syntax Compiles and converts it to bytecode, and directly bytecode is loaded in system memory.Then compiled bytecode interpreted from memory to execute it. Whereas other languages like c convert programs to machine code and save them as executables and then the user can run it.\n",
    "\n",
    "#### We usually call Python an interpreted language because the compilation happens behind the scene and when we run the python code through: \n",
    "\n",
    "#### python test.py -> directly executes the code, and we can see the output provided that code is syntactically correct\n",
    "\n",
    "#### python test.py -> Seems like it directly executes, but it generates the bytecode first that the interpreter interprets to produce the native code for the executiion."
   ]
  },
  {
   "cell_type": "markdown",
   "id": "3b571313",
   "metadata": {},
   "source": [
    "### Q 13. Try to write a usecase of python with your understanding."
   ]
  },
  {
   "cell_type": "markdown",
   "id": "4c3adafc",
   "metadata": {},
   "source": [
    "- Python is go to language for Exploratory data analysis for large and complex datasets as there are packages like Pandas which makes it very easy to handle datasets more than milions of rows.\n",
    "- Data Visualtion is another important use cases which is extensively done using python library such as matplotlib,seaborn,plotly etc. \n",
    "- Machine Learning (ML)- All the major ML algorithms have been implemented in Scikit learn libabry which is also a python based Framework. This is very important use case of python.\n",
    "- Similarly, major Deep learning algorithms have already been implented in python based frameworks such as TensorFlow(by google) and Pytorch(by Facebook) etc. This is major use case for python.\n",
    "- Major statistical, scitific and mathematical calculations can also be done by python packages such as stats,scipi,numpy etc\n",
    "- Python can also be used to develop web based applications using frameworks like Django and FLask.\n",
    "\n",
    "\n"
   ]
  },
  {
   "cell_type": "code",
   "execution_count": null,
   "id": "f3080c4b",
   "metadata": {},
   "outputs": [],
   "source": []
  }
 ],
 "metadata": {
  "kernelspec": {
   "display_name": "Python 3 (ipykernel)",
   "language": "python",
   "name": "python3"
  },
  "language_info": {
   "codemirror_mode": {
    "name": "ipython",
    "version": 3
   },
   "file_extension": ".py",
   "mimetype": "text/x-python",
   "name": "python",
   "nbconvert_exporter": "python",
   "pygments_lexer": "ipython3",
   "version": "3.9.7"
  }
 },
 "nbformat": 4,
 "nbformat_minor": 5
}
