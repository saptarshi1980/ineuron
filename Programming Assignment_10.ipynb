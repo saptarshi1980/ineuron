{
 "cells": [
  {
   "cell_type": "markdown",
   "id": "d25a6bc0",
   "metadata": {},
   "source": [
    "# <center>Name: Saptarshi Sanyal\n",
    "# <center> Email: saptarshi.edp@gmail.com\n",
    "# <center>Programming Assignment_10\n",
    "   "
   ]
  },
  {
   "cell_type": "markdown",
   "id": "9450c799",
   "metadata": {},
   "source": [
    "### 1. Write a Python program to find sum of elements in list?"
   ]
  },
  {
   "cell_type": "code",
   "execution_count": 3,
   "id": "0b54f68b",
   "metadata": {},
   "outputs": [
    {
     "name": "stdout",
     "output_type": "stream",
     "text": [
      "Sum of the elements of the list-280\n"
     ]
    }
   ],
   "source": [
    "#conventional way\n",
    "\n",
    "def sum_list(list_1):\n",
    "    sum=0\n",
    "    for i in list_1:\n",
    "        sum+=i\n",
    "    return sum\n",
    "\n",
    "a=[10,20,30,40,50,60,70]\n",
    "\n",
    "print(f\"Sum of the elements of the list-{sum_list(a)}\")\n",
    "    "
   ]
  },
  {
   "cell_type": "code",
   "execution_count": 8,
   "id": "ab7828b2",
   "metadata": {},
   "outputs": [
    {
     "name": "stdout",
     "output_type": "stream",
     "text": [
      "280\n"
     ]
    }
   ],
   "source": [
    "#Another approach to sum up the elements inside the list using reduce and lamda\n",
    "from functools import reduce\n",
    "a=[10,20,30,40,50,60,70]\n",
    "sum_a = reduce(lambda x, y:x+y, a)\n",
    "print(sum_a)"
   ]
  },
  {
   "cell_type": "markdown",
   "id": "31f1570e",
   "metadata": {},
   "source": [
    "### 2. Write a Python program to Multiply all numbers in the list?"
   ]
  },
  {
   "cell_type": "code",
   "execution_count": 5,
   "id": "442ab6f6",
   "metadata": {},
   "outputs": [
    {
     "name": "stdout",
     "output_type": "stream",
     "text": [
      "Sum of the elements of the list-50400000000\n"
     ]
    }
   ],
   "source": [
    "#Conventional way \n",
    "def mul_list(list_1):\n",
    "    mul=1\n",
    "    for i in list_1:\n",
    "        mul*=i\n",
    "    return mul\n",
    "\n",
    "a=[10,20,30,40,50,60,70]\n",
    "\n",
    "print(f\"Multiplication result of the elements of the list-{mul_list(a)}\")"
   ]
  },
  {
   "cell_type": "code",
   "execution_count": 10,
   "id": "55313028",
   "metadata": {},
   "outputs": [
    {
     "name": "stdout",
     "output_type": "stream",
     "text": [
      "50400000000\n"
     ]
    }
   ],
   "source": [
    "#Another approach to multiply the elements inside the list using reduce and lamda\n",
    "from functools import reduce\n",
    "a=[10,20,30,40,50,60,70]\n",
    "mul_a = reduce(lambda x, y:x*y, a)\n",
    "print(mul_a)"
   ]
  },
  {
   "cell_type": "markdown",
   "id": "25e6ffa9",
   "metadata": {},
   "source": [
    "### Write a Python program to find smallest number in a list?"
   ]
  },
  {
   "cell_type": "code",
   "execution_count": 20,
   "id": "f13bac31",
   "metadata": {},
   "outputs": [
    {
     "name": "stdout",
     "output_type": "stream",
     "text": [
      "-10\n"
     ]
    }
   ],
   "source": [
    "#smallest number in the list\n",
    "\n",
    "a=[10,20,30,40,-10,50,60,70,6,-7]\n",
    "\n",
    "def find_smallest_element(list_1):\n",
    "    smallest=list_1[0]\n",
    "    for i in list_1:\n",
    "        if smallest > i:\n",
    "            smallest = i\n",
    "    return smallest\n",
    "\n",
    "print(find_smallest_element(a))"
   ]
  },
  {
   "cell_type": "markdown",
   "id": "9c27a8ee",
   "metadata": {},
   "source": [
    "### 4. Write a Python program to find largest number in a list?"
   ]
  },
  {
   "cell_type": "code",
   "execution_count": 1,
   "id": "1f8b0a73",
   "metadata": {},
   "outputs": [
    {
     "name": "stdout",
     "output_type": "stream",
     "text": [
      "70\n"
     ]
    }
   ],
   "source": [
    "#largest number in the list\n",
    "\n",
    "a=[10,20,30,40,-10,50,60,70,6,-7]\n",
    "\n",
    "def find_largest_element(list_1):\n",
    "    largest=list_1[0]\n",
    "    for i in list_1:\n",
    "        if largest < i:\n",
    "            largest = i\n",
    "    return largest\n",
    "\n",
    "print(find_largest_element(a))"
   ]
  },
  {
   "cell_type": "markdown",
   "id": "d7f456a7",
   "metadata": {},
   "source": [
    "### 5. Write a Python program to find second largest number in a list?"
   ]
  },
  {
   "cell_type": "code",
   "execution_count": 15,
   "id": "fb5a257d",
   "metadata": {},
   "outputs": [
    {
     "name": "stdout",
     "output_type": "stream",
     "text": [
      "Second Largest item in the list-60\n"
     ]
    }
   ],
   "source": [
    "#Second largest element\n",
    "a=[10,20,30,40,-10,50,60,70,6,-7]\n",
    "\n",
    "def find_largest_element(list_1):\n",
    "    largest=list_1[0]\n",
    "    for i in list_1:\n",
    "        if largest < i:\n",
    "            largest = i\n",
    "    return largest\n",
    "\n",
    "def find_second_largest_element(list_1):          \n",
    "    \n",
    "    largest=find_largest_element(list_1)\n",
    "    list_1.remove(largest)\n",
    "    second_largest_item = find_largest_element(list_1)\n",
    "    return second_largest_item\n",
    "\n",
    "\n",
    "\n",
    "print(f\"Second Largest item in the list-{find_second_largest_element(a)}\")\n",
    "    \n",
    "    "
   ]
  },
  {
   "cell_type": "code",
   "execution_count": null,
   "id": "1a1646ca",
   "metadata": {},
   "outputs": [],
   "source": []
  }
 ],
 "metadata": {
  "kernelspec": {
   "display_name": "Python 3 (ipykernel)",
   "language": "python",
   "name": "python3"
  },
  "language_info": {
   "codemirror_mode": {
    "name": "ipython",
    "version": 3
   },
   "file_extension": ".py",
   "mimetype": "text/x-python",
   "name": "python",
   "nbconvert_exporter": "python",
   "pygments_lexer": "ipython3",
   "version": "3.9.7"
  }
 },
 "nbformat": 4,
 "nbformat_minor": 5
}
