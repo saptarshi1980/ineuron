{
 "cells": [
  {
   "cell_type": "markdown",
   "id": "d25a6bc0",
   "metadata": {},
   "source": [
    "# <center>Name: Saptarshi Sanyal\n",
    "# <center> Email: saptarshi.edp@gmail.com\n",
    "# <center>Programming Assignment_10\n",
    "   "
   ]
  },
  {
   "cell_type": "markdown",
   "id": "9450c799",
   "metadata": {},
   "source": [
    "### 1. Write a Python program to find sum of elements in list?"
   ]
  },
  {
   "cell_type": "code",
   "execution_count": 3,
   "id": "0b54f68b",
   "metadata": {},
   "outputs": [
    {
     "name": "stdout",
     "output_type": "stream",
     "text": [
      "Sum of the elements of the list-280\n"
     ]
    }
   ],
   "source": [
    "#conventional way\n",
    "\n",
    "def sum_list(list_1):\n",
    "    sum=0\n",
    "    for i in list_1:\n",
    "        sum+=i\n",
    "    return sum\n",
    "\n",
    "a=[10,20,30,40,50,60,70]\n",
    "\n",
    "print(f\"Sum of the elements of the list-{sum_list(a)}\")\n",
    "    "
   ]
  },
  {
   "cell_type": "code",
   "execution_count": 8,
   "id": "ab7828b2",
   "metadata": {},
   "outputs": [
    {
     "name": "stdout",
     "output_type": "stream",
     "text": [
      "280\n"
     ]
    }
   ],
   "source": [
    "#Another approach to sum up the elements inside the list using reduce and lamda\n",
    "from functools import reduce\n",
    "a=[10,20,30,40,50,60,70]\n",
    "sum_a = reduce(lambda x, y:x+y, a)\n",
    "print(sum_a)"
   ]
  },
  {
   "cell_type": "markdown",
   "id": "31f1570e",
   "metadata": {},
   "source": [
    "### 2. Write a Python program to Multiply all numbers in the list?"
   ]
  },
  {
   "cell_type": "code",
   "execution_count": 5,
   "id": "442ab6f6",
   "metadata": {},
   "outputs": [
    {
     "name": "stdout",
     "output_type": "stream",
     "text": [
      "Sum of the elements of the list-50400000000\n"
     ]
    }
   ],
   "source": [
    "#Conventional way \n",
    "def mul_list(list_1):\n",
    "    mul=1\n",
    "    for i in list_1:\n",
    "        mul*=i\n",
    "    return mul\n",
    "\n",
    "a=[10,20,30,40,50,60,70]\n",
    "\n",
    "print(f\"Multiplication result of the elements of the list-{mul_list(a)}\")"
   ]
  },
  {
   "cell_type": "code",
   "execution_count": 10,
   "id": "55313028",
   "metadata": {},
   "outputs": [
    {
     "name": "stdout",
     "output_type": "stream",
     "text": [
      "50400000000\n"
     ]
    }
   ],
   "source": [
    "#Another approach to multiply the elements inside the list using reduce and lamda\n",
    "from functools import reduce\n",
    "a=[10,20,30,40,50,60,70]\n",
    "mul_a = reduce(lambda x, y:x*y, a)\n",
    "print(mul_a)"
   ]
  },
  {
   "cell_type": "markdown",
   "id": "25e6ffa9",
   "metadata": {},
   "source": [
    "### 3. Write a Python program to find smallest number in a list?"
   ]
  },
  {
   "cell_type": "code",
   "execution_count": 20,
   "id": "f13bac31",
   "metadata": {},
   "outputs": [
    {
     "name": "stdout",
     "output_type": "stream",
     "text": [
      "-10\n"
     ]
    }
   ],
   "source": [
    "#smallest number in the list\n",
    "\n",
    "a=[10,20,30,40,-10,50,60,70,6,-7]\n",
    "\n",
    "def find_smallest_element(list_1):\n",
    "    smallest=list_1[0]\n",
    "    for i in list_1:\n",
    "        if smallest > i:\n",
    "            smallest = i\n",
    "    return smallest\n",
    "\n",
    "print(find_smallest_element(a))"
   ]
  },
  {
   "cell_type": "markdown",
   "id": "9c27a8ee",
   "metadata": {},
   "source": [
    "### 4. Write a Python program to find largest number in a list?"
   ]
  },
  {
   "cell_type": "code",
   "execution_count": 1,
   "id": "1f8b0a73",
   "metadata": {},
   "outputs": [
    {
     "name": "stdout",
     "output_type": "stream",
     "text": [
      "70\n"
     ]
    }
   ],
   "source": [
    "#largest number in the list\n",
    "\n",
    "a=[10,20,30,40,-10,50,60,70,6,-7]\n",
    "\n",
    "def find_largest_element(list_1):\n",
    "    largest=list_1[0]\n",
    "    for i in list_1:\n",
    "        if largest < i:\n",
    "            largest = i\n",
    "    return largest\n",
    "\n",
    "print(find_largest_element(a))"
   ]
  },
  {
   "cell_type": "markdown",
   "id": "d7f456a7",
   "metadata": {},
   "source": [
    "### 5. Write a Python program to find second largest number in a list?"
   ]
  },
  {
   "cell_type": "code",
   "execution_count": 15,
   "id": "fb5a257d",
   "metadata": {},
   "outputs": [
    {
     "name": "stdout",
     "output_type": "stream",
     "text": [
      "Second Largest item in the list-60\n"
     ]
    }
   ],
   "source": [
    "#Second largest element\n",
    "a=[10,20,30,40,-10,50,60,70,6,-7]\n",
    "\n",
    "def find_largest_element(list_1):\n",
    "    largest=list_1[0]\n",
    "    for i in list_1:\n",
    "        if largest < i:\n",
    "            largest = i\n",
    "    return largest\n",
    "\n",
    "def find_second_largest_element(list_1):          \n",
    "    \n",
    "    largest=find_largest_element(list_1)\n",
    "    list_1.remove(largest)\n",
    "    second_largest_item = find_largest_element(list_1)\n",
    "    return second_largest_item\n",
    "\n",
    "\n",
    "\n",
    "print(f\"Second Largest item in the list-{find_second_largest_element(a)}\")\n",
    "    \n",
    "    "
   ]
  },
  {
   "cell_type": "markdown",
   "id": "cda4e35a",
   "metadata": {},
   "source": [
    "### 6. Write a Python program to find N largest elements from a list?"
   ]
  },
  {
   "cell_type": "code",
   "execution_count": 2,
   "id": "e0a9eb1a",
   "metadata": {},
   "outputs": [
    {
     "name": "stdout",
     "output_type": "stream",
     "text": [
      "[105, 98]\n"
     ]
    }
   ],
   "source": [
    "def n_max_item(list_1,n):\n",
    "    \n",
    "    '''\n",
    "    This fucntion accepts list variable and number of highest elements to be returned\n",
    "    and returns the list with n number of higest values\n",
    "    '''\n",
    "    \n",
    "    list_2 = []\n",
    "    \n",
    "    for i in range(0,n):\n",
    "        \n",
    "        max_val=0\n",
    "        \n",
    "        for j in range(len(list_1)):\n",
    "            if list_1[j] > max_val:\n",
    "                max_val = list_1[j]\n",
    "         \n",
    "        list_1.remove(max_val) \n",
    "        list_2.append(max_val)\n",
    "        \n",
    "    return list_2\n",
    "\n",
    "list_1 = [17,25,98,105,36]\n",
    "\n",
    "# We are finding 2 largest values from the above list\n",
    "\n",
    "print(n_max_item(list_1,2))\n",
    "\n",
    "\n",
    "        \n",
    "    "
   ]
  },
  {
   "cell_type": "markdown",
   "id": "a37cb449",
   "metadata": {},
   "source": [
    "### 7. Write a Python program to print even numbers in a list?"
   ]
  },
  {
   "cell_type": "code",
   "execution_count": 7,
   "id": "ee8944eb",
   "metadata": {},
   "outputs": [
    {
     "name": "stdout",
     "output_type": "stream",
     "text": [
      "[98, 36]\n"
     ]
    }
   ],
   "source": [
    "list_1 = [17,25,98,105,36]\n",
    "\n",
    "print(list(filter(lambda a: a%2 == 0, list_1)))\n",
    "\n"
   ]
  },
  {
   "cell_type": "markdown",
   "id": "adff5394",
   "metadata": {},
   "source": [
    "### 8. Write a Python program to print odd numbers in a List?"
   ]
  },
  {
   "cell_type": "code",
   "execution_count": 8,
   "id": "5e1eb439",
   "metadata": {},
   "outputs": [
    {
     "name": "stdout",
     "output_type": "stream",
     "text": [
      "[17, 25, 105]\n"
     ]
    }
   ],
   "source": [
    "list_1 = [17,25,98,105,36]\n",
    "\n",
    "print(list(filter(lambda a: a%2 != 0, list_1)))\n"
   ]
  },
  {
   "cell_type": "markdown",
   "id": "ff8493d5",
   "metadata": {},
   "source": [
    "### 9. Write a Python program to Remove empty List from List?"
   ]
  },
  {
   "cell_type": "code",
   "execution_count": 11,
   "id": "71259403",
   "metadata": {},
   "outputs": [
    {
     "name": "stdout",
     "output_type": "stream",
     "text": [
      "[8, 67, [], 34, 56, 76, [], 87, 56]\n",
      "[8, 67, 34, 56, 76, 87, 56]\n"
     ]
    }
   ],
   "source": [
    "list_with_empty_list =[8,67,[],34,56,76,[],87,56]\n",
    "\n",
    "print(list_with_empty_list)\n",
    "\n",
    "for i in list_with_empty_list:\n",
    "    if not i:\n",
    "        list_with_empty_list.remove(i)\n",
    "\n",
    "print(list_with_empty_list)\n",
    "        \n",
    "        \n",
    "        "
   ]
  },
  {
   "cell_type": "markdown",
   "id": "59c3719d",
   "metadata": {},
   "source": [
    "### 10. Write a Python program to Cloning or Copying a list?"
   ]
  },
  {
   "cell_type": "code",
   "execution_count": 12,
   "id": "f7940d5d",
   "metadata": {},
   "outputs": [
    {
     "name": "stdout",
     "output_type": "stream",
     "text": [
      "[8, 67, 34, 56, 76, 87, 56]\n"
     ]
    }
   ],
   "source": [
    "initial_list=[8,67,34,56,76,87,56]\n",
    "copied_list=[]\n",
    "\n",
    "for i in initial_list:\n",
    "    copied_list.append(i)\n",
    "\n",
    "print(copied_list)    \n"
   ]
  },
  {
   "cell_type": "markdown",
   "id": "54ae4c84",
   "metadata": {},
   "source": [
    "### 11. Write a Python program to Count occurrences of an element in a list?"
   ]
  },
  {
   "cell_type": "code",
   "execution_count": 25,
   "id": "f7a436f6",
   "metadata": {},
   "outputs": [
    {
     "name": "stdout",
     "output_type": "stream",
     "text": [
      "{'item-8': 2, 'item-67': 3, 'item-34': 1, 'item-56': 2, 'item-76': 2, 'item-87': 2}\n"
     ]
    }
   ],
   "source": [
    "initial_list=[8,67,34,56,76,87,56,76,8,67,87,67]\n",
    "count_dict={}\n",
    "\n",
    "\n",
    "for i in initial_list:\n",
    "    count=0\n",
    "    for j in range(0,len(initial_list)):\n",
    "        if i==initial_list[j]:\n",
    "            count+=1\n",
    "            \n",
    "    #print(f\"Item-{i}, count-{count}\")  \n",
    "    count_dict.update({\"item-\"+str(i):count})\n",
    "            \n",
    "print(count_dict)\n"
   ]
  },
  {
   "cell_type": "code",
   "execution_count": null,
   "id": "7503b1ea",
   "metadata": {},
   "outputs": [],
   "source": []
  }
 ],
 "metadata": {
  "kernelspec": {
   "display_name": "Python 3 (ipykernel)",
   "language": "python",
   "name": "python3"
  },
  "language_info": {
   "codemirror_mode": {
    "name": "ipython",
    "version": 3
   },
   "file_extension": ".py",
   "mimetype": "text/x-python",
   "name": "python",
   "nbconvert_exporter": "python",
   "pygments_lexer": "ipython3",
   "version": "3.9.7"
  }
 },
 "nbformat": 4,
 "nbformat_minor": 5
}
